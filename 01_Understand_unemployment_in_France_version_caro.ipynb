{
  "nbformat": 4,
  "nbformat_minor": 0,
  "metadata": {
    "colab": {
      "name": "01-Understand_unemployment_in_France_version_caro.ipynb",
      "provenance": [],
      "collapsed_sections": []
    },
    "kernelspec": {
      "display_name": "Python 3",
      "language": "python",
      "name": "python3"
    },
    "language_info": {
      "codemirror_mode": {
        "name": "ipython",
        "version": 3
      },
      "file_extension": ".py",
      "mimetype": "text/x-python",
      "name": "python",
      "nbconvert_exporter": "python",
      "pygments_lexer": "ipython3",
      "version": "3.8.8"
    }
  },
  "cells": [
    {
      "cell_type": "markdown",
      "metadata": {
        "id": "ZwEXvTBHQpTz"
      },
      "source": [
        "# Understanding unemployment in France \n",
        "\n",
        "Have you ever wondered where the numbers came from when politicians or the media talk about unemployment ? Being a subject of interest in Western countries, let's try to understand what is happening in terms of unemployment in France. For this, we have retrieved data from [data.gouv](https://www.insee.fr/fr/statistiques/3555153#consulter). \n",
        "They represent unemployment data in France in 2017.\n",
        "\n"
      ]
    },
    {
      "cell_type": "markdown",
      "metadata": {
        "id": "0Y97GFc4QzSX"
      },
      "source": [
        "## Description of the dataset \n",
        "\n",
        "Have a look at the description of the dataset <a href=\"https://www.insee.fr/fr/statistiques/3555153#documentation\" target=\"_blank\">here</a>"
      ]
    },
    {
      "cell_type": "markdown",
      "metadata": {
        "id": "s77X1TKKcW3s"
      },
      "source": [
        "* Import useful libraries\n",
        "  * pandas \n",
        "  * numpy\n",
        "  * matplotlib "
      ]
    },
    {
      "cell_type": "code",
      "metadata": {
        "id": "vik_IXJ9Dexq"
      },
      "source": [
        "!pip install matplotlib==3.4\n",
        "\n",
        "#restart runtime !!!!"
      ],
      "execution_count": null,
      "outputs": []
    },
    {
      "cell_type": "code",
      "metadata": {
        "id": "waDEF5_2U9bD"
      },
      "source": [
        "import pandas as pd\n",
        "import numpy as np\n",
        "import matplotlib.pyplot as plt\n",
        "import seaborn as sns"
      ],
      "execution_count": 1,
      "outputs": []
    },
    {
      "cell_type": "markdown",
      "metadata": {
        "id": "LY2w_INSeCJM"
      },
      "source": [
        "- Load the data from fdeec17.csv"
      ]
    },
    {
      "cell_type": "code",
      "metadata": {
        "colab": {
          "base_uri": "https://localhost:8080/",
          "height": 455
        },
        "id": "h5-Ba4MneCJR",
        "outputId": "fc0bfc1f-0855-4b32-f2f4-165c5ee94d48"
      },
      "source": [
        "url= 'https://julie-2-next-resources-dev.s3.eu-west-3.amazonaws.com/FULL_STACK_24_WEEK_PROGRAM/M03-Exploratory_Data_Analysis/D04-Distributions_and_Matplotlib/fdeec17.csv'\n",
        "df = pd.read_csv(url)\n",
        "df"
      ],
      "execution_count": 2,
      "outputs": [
        {
          "output_type": "execute_result",
          "data": {
            "text/html": [
              "<div>\n",
              "<style scoped>\n",
              "    .dataframe tbody tr th:only-of-type {\n",
              "        vertical-align: middle;\n",
              "    }\n",
              "\n",
              "    .dataframe tbody tr th {\n",
              "        vertical-align: top;\n",
              "    }\n",
              "\n",
              "    .dataframe thead th {\n",
              "        text-align: right;\n",
              "    }\n",
              "</style>\n",
              "<table border=\"1\" class=\"dataframe\">\n",
              "  <thead>\n",
              "    <tr style=\"text-align: right;\">\n",
              "      <th></th>\n",
              "      <th>Unnamed: 0</th>\n",
              "      <th>ANNEE</th>\n",
              "      <th>TRIM</th>\n",
              "      <th>CATAU2010R</th>\n",
              "      <th>METRODOM</th>\n",
              "      <th>TYPMEN7</th>\n",
              "      <th>AGE3</th>\n",
              "      <th>AGE5</th>\n",
              "      <th>COURED</th>\n",
              "      <th>ENFRED</th>\n",
              "      <th>NFRRED</th>\n",
              "      <th>SEXE</th>\n",
              "      <th>ACTEU</th>\n",
              "      <th>ACTEU6</th>\n",
              "      <th>ACTIF</th>\n",
              "      <th>ACTOP</th>\n",
              "      <th>AIDFAM</th>\n",
              "      <th>ANCCHOM</th>\n",
              "      <th>ANCINACT</th>\n",
              "      <th>CONTACT</th>\n",
              "      <th>CREACCP</th>\n",
              "      <th>DEM</th>\n",
              "      <th>DISPOC</th>\n",
              "      <th>GARDEB</th>\n",
              "      <th>HALOR</th>\n",
              "      <th>INSCONT</th>\n",
              "      <th>MRA</th>\n",
              "      <th>MRB</th>\n",
              "      <th>MRBBIS</th>\n",
              "      <th>MRC</th>\n",
              "      <th>MRD</th>\n",
              "      <th>MRDBIS</th>\n",
              "      <th>MRE</th>\n",
              "      <th>MREC</th>\n",
              "      <th>MRF</th>\n",
              "      <th>MRG</th>\n",
              "      <th>MRGBIS</th>\n",
              "      <th>MRH</th>\n",
              "      <th>MRI</th>\n",
              "      <th>MRJ</th>\n",
              "      <th>...</th>\n",
              "      <th>NAFG088UN</th>\n",
              "      <th>PUB3FP</th>\n",
              "      <th>QPRC</th>\n",
              "      <th>STC</th>\n",
              "      <th>CONTRA</th>\n",
              "      <th>RDET</th>\n",
              "      <th>STAT2</th>\n",
              "      <th>STATOEP</th>\n",
              "      <th>STATUT</th>\n",
              "      <th>STATUTR</th>\n",
              "      <th>TITC</th>\n",
              "      <th>CSTMN</th>\n",
              "      <th>CSTPLC</th>\n",
              "      <th>DISPPLC</th>\n",
              "      <th>DUHAB</th>\n",
              "      <th>GARDEA</th>\n",
              "      <th>HHC6</th>\n",
              "      <th>HORAIC</th>\n",
              "      <th>RAISON</th>\n",
              "      <th>RAISTP</th>\n",
              "      <th>STMN</th>\n",
              "      <th>STPLC</th>\n",
              "      <th>TPPRED</th>\n",
              "      <th>TXTPPRED</th>\n",
              "      <th>ANCENTR4</th>\n",
              "      <th>SITANT</th>\n",
              "      <th>AAC</th>\n",
              "      <th>CSA</th>\n",
              "      <th>NAFANT</th>\n",
              "      <th>NAFANTG004</th>\n",
              "      <th>DIP11</th>\n",
              "      <th>CSTOTPRM</th>\n",
              "      <th>IDENTM</th>\n",
              "      <th>EXTRIAN</th>\n",
              "      <th>EMPNBH</th>\n",
              "      <th>HREC</th>\n",
              "      <th>HHCE</th>\n",
              "      <th>HPLUSA</th>\n",
              "      <th>JOURTR</th>\n",
              "      <th>NBTOTE</th>\n",
              "    </tr>\n",
              "  </thead>\n",
              "  <tbody>\n",
              "    <tr>\n",
              "      <th>0</th>\n",
              "      <td>0</td>\n",
              "      <td>2017</td>\n",
              "      <td>1</td>\n",
              "      <td>1</td>\n",
              "      <td>1</td>\n",
              "      <td>2</td>\n",
              "      <td>50</td>\n",
              "      <td>50</td>\n",
              "      <td>2</td>\n",
              "      <td>1</td>\n",
              "      <td>1.0</td>\n",
              "      <td>2</td>\n",
              "      <td>1.0</td>\n",
              "      <td>1.0</td>\n",
              "      <td>1.0</td>\n",
              "      <td>1.0</td>\n",
              "      <td>NaN</td>\n",
              "      <td>NaN</td>\n",
              "      <td>NaN</td>\n",
              "      <td>NaN</td>\n",
              "      <td>NaN</td>\n",
              "      <td>0.0</td>\n",
              "      <td>NaN</td>\n",
              "      <td>NaN</td>\n",
              "      <td>2</td>\n",
              "      <td>NaN</td>\n",
              "      <td>NaN</td>\n",
              "      <td>NaN</td>\n",
              "      <td>NaN</td>\n",
              "      <td>NaN</td>\n",
              "      <td>NaN</td>\n",
              "      <td>NaN</td>\n",
              "      <td>NaN</td>\n",
              "      <td>NaN</td>\n",
              "      <td>NaN</td>\n",
              "      <td>NaN</td>\n",
              "      <td>NaN</td>\n",
              "      <td>NaN</td>\n",
              "      <td>NaN</td>\n",
              "      <td>NaN</td>\n",
              "      <td>...</td>\n",
              "      <td>86.0</td>\n",
              "      <td>3.0</td>\n",
              "      <td>4.0</td>\n",
              "      <td>3.0</td>\n",
              "      <td>1.0</td>\n",
              "      <td>NaN</td>\n",
              "      <td>2.0</td>\n",
              "      <td>45.0</td>\n",
              "      <td>35.0</td>\n",
              "      <td>5.0</td>\n",
              "      <td>NaN</td>\n",
              "      <td>NaN</td>\n",
              "      <td>NaN</td>\n",
              "      <td>NaN</td>\n",
              "      <td>6.0</td>\n",
              "      <td>NaN</td>\n",
              "      <td>4.0</td>\n",
              "      <td>1.0</td>\n",
              "      <td>NaN</td>\n",
              "      <td>NaN</td>\n",
              "      <td>2.0</td>\n",
              "      <td>2.0</td>\n",
              "      <td>1.0</td>\n",
              "      <td>NaN</td>\n",
              "      <td>4.0</td>\n",
              "      <td>1.0</td>\n",
              "      <td>NaN</td>\n",
              "      <td>NaN</td>\n",
              "      <td>NaN</td>\n",
              "      <td>NaN</td>\n",
              "      <td>30.0</td>\n",
              "      <td>52.0</td>\n",
              "      <td>1</td>\n",
              "      <td>263.388752</td>\n",
              "      <td>37.0</td>\n",
              "      <td>NaN</td>\n",
              "      <td>37.0</td>\n",
              "      <td>NaN</td>\n",
              "      <td>5.0</td>\n",
              "      <td>NaN</td>\n",
              "    </tr>\n",
              "    <tr>\n",
              "      <th>1</th>\n",
              "      <td>1</td>\n",
              "      <td>2017</td>\n",
              "      <td>1</td>\n",
              "      <td>1</td>\n",
              "      <td>1</td>\n",
              "      <td>2</td>\n",
              "      <td>15</td>\n",
              "      <td>15</td>\n",
              "      <td>2</td>\n",
              "      <td>2</td>\n",
              "      <td>1.0</td>\n",
              "      <td>1</td>\n",
              "      <td>1.0</td>\n",
              "      <td>1.0</td>\n",
              "      <td>1.0</td>\n",
              "      <td>1.0</td>\n",
              "      <td>NaN</td>\n",
              "      <td>NaN</td>\n",
              "      <td>NaN</td>\n",
              "      <td>NaN</td>\n",
              "      <td>NaN</td>\n",
              "      <td>0.0</td>\n",
              "      <td>NaN</td>\n",
              "      <td>NaN</td>\n",
              "      <td>2</td>\n",
              "      <td>NaN</td>\n",
              "      <td>NaN</td>\n",
              "      <td>NaN</td>\n",
              "      <td>NaN</td>\n",
              "      <td>NaN</td>\n",
              "      <td>NaN</td>\n",
              "      <td>NaN</td>\n",
              "      <td>NaN</td>\n",
              "      <td>NaN</td>\n",
              "      <td>NaN</td>\n",
              "      <td>NaN</td>\n",
              "      <td>NaN</td>\n",
              "      <td>NaN</td>\n",
              "      <td>NaN</td>\n",
              "      <td>NaN</td>\n",
              "      <td>...</td>\n",
              "      <td>10.0</td>\n",
              "      <td>4.0</td>\n",
              "      <td>1.0</td>\n",
              "      <td>3.0</td>\n",
              "      <td>2.0</td>\n",
              "      <td>2.0</td>\n",
              "      <td>2.0</td>\n",
              "      <td>33.0</td>\n",
              "      <td>33.0</td>\n",
              "      <td>4.0</td>\n",
              "      <td>NaN</td>\n",
              "      <td>NaN</td>\n",
              "      <td>NaN</td>\n",
              "      <td>NaN</td>\n",
              "      <td>5.0</td>\n",
              "      <td>NaN</td>\n",
              "      <td>3.0</td>\n",
              "      <td>2.0</td>\n",
              "      <td>NaN</td>\n",
              "      <td>NaN</td>\n",
              "      <td>2.0</td>\n",
              "      <td>2.0</td>\n",
              "      <td>1.0</td>\n",
              "      <td>NaN</td>\n",
              "      <td>1.0</td>\n",
              "      <td>1.0</td>\n",
              "      <td>NaN</td>\n",
              "      <td>NaN</td>\n",
              "      <td>NaN</td>\n",
              "      <td>NaN</td>\n",
              "      <td>42.0</td>\n",
              "      <td>52.0</td>\n",
              "      <td>1</td>\n",
              "      <td>263.388752</td>\n",
              "      <td>32.0</td>\n",
              "      <td>NaN</td>\n",
              "      <td>32.0</td>\n",
              "      <td>NaN</td>\n",
              "      <td>4.0</td>\n",
              "      <td>NaN</td>\n",
              "    </tr>\n",
              "    <tr>\n",
              "      <th>2</th>\n",
              "      <td>2</td>\n",
              "      <td>2017</td>\n",
              "      <td>1</td>\n",
              "      <td>1</td>\n",
              "      <td>1</td>\n",
              "      <td>2</td>\n",
              "      <td>15</td>\n",
              "      <td>15</td>\n",
              "      <td>2</td>\n",
              "      <td>2</td>\n",
              "      <td>1.0</td>\n",
              "      <td>2</td>\n",
              "      <td>1.0</td>\n",
              "      <td>1.0</td>\n",
              "      <td>1.0</td>\n",
              "      <td>1.0</td>\n",
              "      <td>NaN</td>\n",
              "      <td>NaN</td>\n",
              "      <td>NaN</td>\n",
              "      <td>NaN</td>\n",
              "      <td>NaN</td>\n",
              "      <td>0.0</td>\n",
              "      <td>NaN</td>\n",
              "      <td>NaN</td>\n",
              "      <td>2</td>\n",
              "      <td>NaN</td>\n",
              "      <td>NaN</td>\n",
              "      <td>NaN</td>\n",
              "      <td>NaN</td>\n",
              "      <td>NaN</td>\n",
              "      <td>NaN</td>\n",
              "      <td>NaN</td>\n",
              "      <td>NaN</td>\n",
              "      <td>NaN</td>\n",
              "      <td>NaN</td>\n",
              "      <td>NaN</td>\n",
              "      <td>NaN</td>\n",
              "      <td>NaN</td>\n",
              "      <td>NaN</td>\n",
              "      <td>NaN</td>\n",
              "      <td>...</td>\n",
              "      <td>65.0</td>\n",
              "      <td>4.0</td>\n",
              "      <td>3.0</td>\n",
              "      <td>3.0</td>\n",
              "      <td>1.0</td>\n",
              "      <td>NaN</td>\n",
              "      <td>2.0</td>\n",
              "      <td>35.0</td>\n",
              "      <td>35.0</td>\n",
              "      <td>5.0</td>\n",
              "      <td>NaN</td>\n",
              "      <td>NaN</td>\n",
              "      <td>NaN</td>\n",
              "      <td>NaN</td>\n",
              "      <td>6.0</td>\n",
              "      <td>NaN</td>\n",
              "      <td>4.0</td>\n",
              "      <td>2.0</td>\n",
              "      <td>NaN</td>\n",
              "      <td>NaN</td>\n",
              "      <td>2.0</td>\n",
              "      <td>2.0</td>\n",
              "      <td>1.0</td>\n",
              "      <td>NaN</td>\n",
              "      <td>1.0</td>\n",
              "      <td>4.0</td>\n",
              "      <td>NaN</td>\n",
              "      <td>NaN</td>\n",
              "      <td>NaN</td>\n",
              "      <td>NaN</td>\n",
              "      <td>31.0</td>\n",
              "      <td>52.0</td>\n",
              "      <td>1</td>\n",
              "      <td>263.388752</td>\n",
              "      <td>38.0</td>\n",
              "      <td>NaN</td>\n",
              "      <td>38.0</td>\n",
              "      <td>NaN</td>\n",
              "      <td>5.0</td>\n",
              "      <td>NaN</td>\n",
              "    </tr>\n",
              "    <tr>\n",
              "      <th>3</th>\n",
              "      <td>3</td>\n",
              "      <td>2017</td>\n",
              "      <td>3</td>\n",
              "      <td>1</td>\n",
              "      <td>1</td>\n",
              "      <td>2</td>\n",
              "      <td>50</td>\n",
              "      <td>50</td>\n",
              "      <td>2</td>\n",
              "      <td>1</td>\n",
              "      <td>1.0</td>\n",
              "      <td>2</td>\n",
              "      <td>1.0</td>\n",
              "      <td>1.0</td>\n",
              "      <td>1.0</td>\n",
              "      <td>1.0</td>\n",
              "      <td>NaN</td>\n",
              "      <td>NaN</td>\n",
              "      <td>NaN</td>\n",
              "      <td>NaN</td>\n",
              "      <td>NaN</td>\n",
              "      <td>0.0</td>\n",
              "      <td>NaN</td>\n",
              "      <td>NaN</td>\n",
              "      <td>2</td>\n",
              "      <td>NaN</td>\n",
              "      <td>NaN</td>\n",
              "      <td>NaN</td>\n",
              "      <td>NaN</td>\n",
              "      <td>NaN</td>\n",
              "      <td>NaN</td>\n",
              "      <td>NaN</td>\n",
              "      <td>NaN</td>\n",
              "      <td>NaN</td>\n",
              "      <td>NaN</td>\n",
              "      <td>NaN</td>\n",
              "      <td>NaN</td>\n",
              "      <td>NaN</td>\n",
              "      <td>NaN</td>\n",
              "      <td>NaN</td>\n",
              "      <td>...</td>\n",
              "      <td>86.0</td>\n",
              "      <td>3.0</td>\n",
              "      <td>4.0</td>\n",
              "      <td>3.0</td>\n",
              "      <td>1.0</td>\n",
              "      <td>NaN</td>\n",
              "      <td>2.0</td>\n",
              "      <td>45.0</td>\n",
              "      <td>35.0</td>\n",
              "      <td>5.0</td>\n",
              "      <td>NaN</td>\n",
              "      <td>NaN</td>\n",
              "      <td>NaN</td>\n",
              "      <td>NaN</td>\n",
              "      <td>6.0</td>\n",
              "      <td>NaN</td>\n",
              "      <td>4.0</td>\n",
              "      <td>1.0</td>\n",
              "      <td>NaN</td>\n",
              "      <td>NaN</td>\n",
              "      <td>2.0</td>\n",
              "      <td>2.0</td>\n",
              "      <td>1.0</td>\n",
              "      <td>NaN</td>\n",
              "      <td>4.0</td>\n",
              "      <td>1.0</td>\n",
              "      <td>NaN</td>\n",
              "      <td>NaN</td>\n",
              "      <td>NaN</td>\n",
              "      <td>NaN</td>\n",
              "      <td>30.0</td>\n",
              "      <td>52.0</td>\n",
              "      <td>2</td>\n",
              "      <td>176.893923</td>\n",
              "      <td>37.0</td>\n",
              "      <td>NaN</td>\n",
              "      <td>37.0</td>\n",
              "      <td>NaN</td>\n",
              "      <td>5.0</td>\n",
              "      <td>NaN</td>\n",
              "    </tr>\n",
              "    <tr>\n",
              "      <th>4</th>\n",
              "      <td>4</td>\n",
              "      <td>2017</td>\n",
              "      <td>3</td>\n",
              "      <td>1</td>\n",
              "      <td>1</td>\n",
              "      <td>2</td>\n",
              "      <td>15</td>\n",
              "      <td>15</td>\n",
              "      <td>2</td>\n",
              "      <td>2</td>\n",
              "      <td>1.0</td>\n",
              "      <td>1</td>\n",
              "      <td>1.0</td>\n",
              "      <td>1.0</td>\n",
              "      <td>1.0</td>\n",
              "      <td>1.0</td>\n",
              "      <td>NaN</td>\n",
              "      <td>NaN</td>\n",
              "      <td>NaN</td>\n",
              "      <td>NaN</td>\n",
              "      <td>NaN</td>\n",
              "      <td>0.0</td>\n",
              "      <td>NaN</td>\n",
              "      <td>NaN</td>\n",
              "      <td>2</td>\n",
              "      <td>NaN</td>\n",
              "      <td>NaN</td>\n",
              "      <td>NaN</td>\n",
              "      <td>NaN</td>\n",
              "      <td>NaN</td>\n",
              "      <td>NaN</td>\n",
              "      <td>NaN</td>\n",
              "      <td>NaN</td>\n",
              "      <td>NaN</td>\n",
              "      <td>NaN</td>\n",
              "      <td>NaN</td>\n",
              "      <td>NaN</td>\n",
              "      <td>NaN</td>\n",
              "      <td>NaN</td>\n",
              "      <td>NaN</td>\n",
              "      <td>...</td>\n",
              "      <td>10.0</td>\n",
              "      <td>4.0</td>\n",
              "      <td>1.0</td>\n",
              "      <td>3.0</td>\n",
              "      <td>2.0</td>\n",
              "      <td>2.0</td>\n",
              "      <td>2.0</td>\n",
              "      <td>33.0</td>\n",
              "      <td>33.0</td>\n",
              "      <td>4.0</td>\n",
              "      <td>NaN</td>\n",
              "      <td>NaN</td>\n",
              "      <td>NaN</td>\n",
              "      <td>NaN</td>\n",
              "      <td>5.0</td>\n",
              "      <td>NaN</td>\n",
              "      <td>3.0</td>\n",
              "      <td>2.0</td>\n",
              "      <td>NaN</td>\n",
              "      <td>NaN</td>\n",
              "      <td>2.0</td>\n",
              "      <td>2.0</td>\n",
              "      <td>1.0</td>\n",
              "      <td>NaN</td>\n",
              "      <td>1.0</td>\n",
              "      <td>1.0</td>\n",
              "      <td>NaN</td>\n",
              "      <td>NaN</td>\n",
              "      <td>NaN</td>\n",
              "      <td>NaN</td>\n",
              "      <td>42.0</td>\n",
              "      <td>52.0</td>\n",
              "      <td>2</td>\n",
              "      <td>176.893923</td>\n",
              "      <td>40.0</td>\n",
              "      <td>NaN</td>\n",
              "      <td>32.0</td>\n",
              "      <td>NaN</td>\n",
              "      <td>4.0</td>\n",
              "      <td>NaN</td>\n",
              "    </tr>\n",
              "    <tr>\n",
              "      <th>...</th>\n",
              "      <td>...</td>\n",
              "      <td>...</td>\n",
              "      <td>...</td>\n",
              "      <td>...</td>\n",
              "      <td>...</td>\n",
              "      <td>...</td>\n",
              "      <td>...</td>\n",
              "      <td>...</td>\n",
              "      <td>...</td>\n",
              "      <td>...</td>\n",
              "      <td>...</td>\n",
              "      <td>...</td>\n",
              "      <td>...</td>\n",
              "      <td>...</td>\n",
              "      <td>...</td>\n",
              "      <td>...</td>\n",
              "      <td>...</td>\n",
              "      <td>...</td>\n",
              "      <td>...</td>\n",
              "      <td>...</td>\n",
              "      <td>...</td>\n",
              "      <td>...</td>\n",
              "      <td>...</td>\n",
              "      <td>...</td>\n",
              "      <td>...</td>\n",
              "      <td>...</td>\n",
              "      <td>...</td>\n",
              "      <td>...</td>\n",
              "      <td>...</td>\n",
              "      <td>...</td>\n",
              "      <td>...</td>\n",
              "      <td>...</td>\n",
              "      <td>...</td>\n",
              "      <td>...</td>\n",
              "      <td>...</td>\n",
              "      <td>...</td>\n",
              "      <td>...</td>\n",
              "      <td>...</td>\n",
              "      <td>...</td>\n",
              "      <td>...</td>\n",
              "      <td>...</td>\n",
              "      <td>...</td>\n",
              "      <td>...</td>\n",
              "      <td>...</td>\n",
              "      <td>...</td>\n",
              "      <td>...</td>\n",
              "      <td>...</td>\n",
              "      <td>...</td>\n",
              "      <td>...</td>\n",
              "      <td>...</td>\n",
              "      <td>...</td>\n",
              "      <td>...</td>\n",
              "      <td>...</td>\n",
              "      <td>...</td>\n",
              "      <td>...</td>\n",
              "      <td>...</td>\n",
              "      <td>...</td>\n",
              "      <td>...</td>\n",
              "      <td>...</td>\n",
              "      <td>...</td>\n",
              "      <td>...</td>\n",
              "      <td>...</td>\n",
              "      <td>...</td>\n",
              "      <td>...</td>\n",
              "      <td>...</td>\n",
              "      <td>...</td>\n",
              "      <td>...</td>\n",
              "      <td>...</td>\n",
              "      <td>...</td>\n",
              "      <td>...</td>\n",
              "      <td>...</td>\n",
              "      <td>...</td>\n",
              "      <td>...</td>\n",
              "      <td>...</td>\n",
              "      <td>...</td>\n",
              "      <td>...</td>\n",
              "      <td>...</td>\n",
              "      <td>...</td>\n",
              "      <td>...</td>\n",
              "      <td>...</td>\n",
              "      <td>...</td>\n",
              "    </tr>\n",
              "    <tr>\n",
              "      <th>428637</th>\n",
              "      <td>428637</td>\n",
              "      <td>2017</td>\n",
              "      <td>2</td>\n",
              "      <td>1</td>\n",
              "      <td>2</td>\n",
              "      <td>3</td>\n",
              "      <td>50</td>\n",
              "      <td>50</td>\n",
              "      <td>1</td>\n",
              "      <td>2</td>\n",
              "      <td>1.0</td>\n",
              "      <td>2</td>\n",
              "      <td>3.0</td>\n",
              "      <td>6.0</td>\n",
              "      <td>2.0</td>\n",
              "      <td>2.0</td>\n",
              "      <td>2.0</td>\n",
              "      <td>NaN</td>\n",
              "      <td>7.0</td>\n",
              "      <td>NaN</td>\n",
              "      <td>NaN</td>\n",
              "      <td>0.0</td>\n",
              "      <td>NaN</td>\n",
              "      <td>NaN</td>\n",
              "      <td>2</td>\n",
              "      <td>NaN</td>\n",
              "      <td>NaN</td>\n",
              "      <td>NaN</td>\n",
              "      <td>NaN</td>\n",
              "      <td>NaN</td>\n",
              "      <td>NaN</td>\n",
              "      <td>NaN</td>\n",
              "      <td>NaN</td>\n",
              "      <td>2.0</td>\n",
              "      <td>NaN</td>\n",
              "      <td>NaN</td>\n",
              "      <td>NaN</td>\n",
              "      <td>NaN</td>\n",
              "      <td>NaN</td>\n",
              "      <td>NaN</td>\n",
              "      <td>...</td>\n",
              "      <td>NaN</td>\n",
              "      <td>NaN</td>\n",
              "      <td>NaN</td>\n",
              "      <td>NaN</td>\n",
              "      <td>NaN</td>\n",
              "      <td>NaN</td>\n",
              "      <td>NaN</td>\n",
              "      <td>NaN</td>\n",
              "      <td>NaN</td>\n",
              "      <td>NaN</td>\n",
              "      <td>NaN</td>\n",
              "      <td>NaN</td>\n",
              "      <td>NaN</td>\n",
              "      <td>NaN</td>\n",
              "      <td>NaN</td>\n",
              "      <td>NaN</td>\n",
              "      <td>NaN</td>\n",
              "      <td>NaN</td>\n",
              "      <td>NaN</td>\n",
              "      <td>NaN</td>\n",
              "      <td>NaN</td>\n",
              "      <td>NaN</td>\n",
              "      <td>NaN</td>\n",
              "      <td>NaN</td>\n",
              "      <td>NaN</td>\n",
              "      <td>NaN</td>\n",
              "      <td>1.0</td>\n",
              "      <td>56.0</td>\n",
              "      <td>88.0</td>\n",
              "      <td>EV</td>\n",
              "      <td>71.0</td>\n",
              "      <td>75.0</td>\n",
              "      <td>234080</td>\n",
              "      <td>27.451625</td>\n",
              "      <td>0.0</td>\n",
              "      <td>NaN</td>\n",
              "      <td>NaN</td>\n",
              "      <td>NaN</td>\n",
              "      <td>NaN</td>\n",
              "      <td>NaN</td>\n",
              "    </tr>\n",
              "    <tr>\n",
              "      <th>428638</th>\n",
              "      <td>428638</td>\n",
              "      <td>2017</td>\n",
              "      <td>3</td>\n",
              "      <td>1</td>\n",
              "      <td>2</td>\n",
              "      <td>3</td>\n",
              "      <td>50</td>\n",
              "      <td>60</td>\n",
              "      <td>1</td>\n",
              "      <td>2</td>\n",
              "      <td>1.0</td>\n",
              "      <td>1</td>\n",
              "      <td>3.0</td>\n",
              "      <td>6.0</td>\n",
              "      <td>2.0</td>\n",
              "      <td>2.0</td>\n",
              "      <td>2.0</td>\n",
              "      <td>NaN</td>\n",
              "      <td>7.0</td>\n",
              "      <td>NaN</td>\n",
              "      <td>NaN</td>\n",
              "      <td>0.0</td>\n",
              "      <td>NaN</td>\n",
              "      <td>NaN</td>\n",
              "      <td>2</td>\n",
              "      <td>NaN</td>\n",
              "      <td>NaN</td>\n",
              "      <td>NaN</td>\n",
              "      <td>NaN</td>\n",
              "      <td>NaN</td>\n",
              "      <td>NaN</td>\n",
              "      <td>NaN</td>\n",
              "      <td>NaN</td>\n",
              "      <td>2.0</td>\n",
              "      <td>NaN</td>\n",
              "      <td>NaN</td>\n",
              "      <td>NaN</td>\n",
              "      <td>NaN</td>\n",
              "      <td>NaN</td>\n",
              "      <td>NaN</td>\n",
              "      <td>...</td>\n",
              "      <td>NaN</td>\n",
              "      <td>NaN</td>\n",
              "      <td>NaN</td>\n",
              "      <td>NaN</td>\n",
              "      <td>NaN</td>\n",
              "      <td>NaN</td>\n",
              "      <td>NaN</td>\n",
              "      <td>NaN</td>\n",
              "      <td>NaN</td>\n",
              "      <td>NaN</td>\n",
              "      <td>NaN</td>\n",
              "      <td>NaN</td>\n",
              "      <td>NaN</td>\n",
              "      <td>NaN</td>\n",
              "      <td>NaN</td>\n",
              "      <td>NaN</td>\n",
              "      <td>NaN</td>\n",
              "      <td>NaN</td>\n",
              "      <td>NaN</td>\n",
              "      <td>NaN</td>\n",
              "      <td>NaN</td>\n",
              "      <td>NaN</td>\n",
              "      <td>NaN</td>\n",
              "      <td>NaN</td>\n",
              "      <td>NaN</td>\n",
              "      <td>NaN</td>\n",
              "      <td>1.0</td>\n",
              "      <td>43.0</td>\n",
              "      <td>86.0</td>\n",
              "      <td>EV</td>\n",
              "      <td>33.0</td>\n",
              "      <td>75.0</td>\n",
              "      <td>234081</td>\n",
              "      <td>24.287870</td>\n",
              "      <td>NaN</td>\n",
              "      <td>NaN</td>\n",
              "      <td>NaN</td>\n",
              "      <td>NaN</td>\n",
              "      <td>NaN</td>\n",
              "      <td>NaN</td>\n",
              "    </tr>\n",
              "    <tr>\n",
              "      <th>428639</th>\n",
              "      <td>428639</td>\n",
              "      <td>2017</td>\n",
              "      <td>3</td>\n",
              "      <td>1</td>\n",
              "      <td>2</td>\n",
              "      <td>3</td>\n",
              "      <td>50</td>\n",
              "      <td>50</td>\n",
              "      <td>1</td>\n",
              "      <td>2</td>\n",
              "      <td>1.0</td>\n",
              "      <td>2</td>\n",
              "      <td>3.0</td>\n",
              "      <td>6.0</td>\n",
              "      <td>2.0</td>\n",
              "      <td>2.0</td>\n",
              "      <td>2.0</td>\n",
              "      <td>NaN</td>\n",
              "      <td>7.0</td>\n",
              "      <td>NaN</td>\n",
              "      <td>NaN</td>\n",
              "      <td>0.0</td>\n",
              "      <td>NaN</td>\n",
              "      <td>4.0</td>\n",
              "      <td>2</td>\n",
              "      <td>NaN</td>\n",
              "      <td>NaN</td>\n",
              "      <td>NaN</td>\n",
              "      <td>NaN</td>\n",
              "      <td>NaN</td>\n",
              "      <td>NaN</td>\n",
              "      <td>NaN</td>\n",
              "      <td>NaN</td>\n",
              "      <td>2.0</td>\n",
              "      <td>NaN</td>\n",
              "      <td>NaN</td>\n",
              "      <td>NaN</td>\n",
              "      <td>NaN</td>\n",
              "      <td>NaN</td>\n",
              "      <td>NaN</td>\n",
              "      <td>...</td>\n",
              "      <td>NaN</td>\n",
              "      <td>NaN</td>\n",
              "      <td>NaN</td>\n",
              "      <td>NaN</td>\n",
              "      <td>NaN</td>\n",
              "      <td>NaN</td>\n",
              "      <td>NaN</td>\n",
              "      <td>NaN</td>\n",
              "      <td>NaN</td>\n",
              "      <td>NaN</td>\n",
              "      <td>NaN</td>\n",
              "      <td>NaN</td>\n",
              "      <td>NaN</td>\n",
              "      <td>NaN</td>\n",
              "      <td>NaN</td>\n",
              "      <td>NaN</td>\n",
              "      <td>NaN</td>\n",
              "      <td>NaN</td>\n",
              "      <td>NaN</td>\n",
              "      <td>NaN</td>\n",
              "      <td>NaN</td>\n",
              "      <td>NaN</td>\n",
              "      <td>NaN</td>\n",
              "      <td>NaN</td>\n",
              "      <td>NaN</td>\n",
              "      <td>NaN</td>\n",
              "      <td>1.0</td>\n",
              "      <td>56.0</td>\n",
              "      <td>88.0</td>\n",
              "      <td>EV</td>\n",
              "      <td>71.0</td>\n",
              "      <td>75.0</td>\n",
              "      <td>234081</td>\n",
              "      <td>24.287870</td>\n",
              "      <td>NaN</td>\n",
              "      <td>NaN</td>\n",
              "      <td>NaN</td>\n",
              "      <td>NaN</td>\n",
              "      <td>NaN</td>\n",
              "      <td>NaN</td>\n",
              "    </tr>\n",
              "    <tr>\n",
              "      <th>428640</th>\n",
              "      <td>428640</td>\n",
              "      <td>2017</td>\n",
              "      <td>4</td>\n",
              "      <td>1</td>\n",
              "      <td>2</td>\n",
              "      <td>3</td>\n",
              "      <td>50</td>\n",
              "      <td>60</td>\n",
              "      <td>1</td>\n",
              "      <td>2</td>\n",
              "      <td>1.0</td>\n",
              "      <td>1</td>\n",
              "      <td>3.0</td>\n",
              "      <td>6.0</td>\n",
              "      <td>2.0</td>\n",
              "      <td>2.0</td>\n",
              "      <td>2.0</td>\n",
              "      <td>NaN</td>\n",
              "      <td>7.0</td>\n",
              "      <td>NaN</td>\n",
              "      <td>NaN</td>\n",
              "      <td>0.0</td>\n",
              "      <td>NaN</td>\n",
              "      <td>NaN</td>\n",
              "      <td>2</td>\n",
              "      <td>NaN</td>\n",
              "      <td>NaN</td>\n",
              "      <td>NaN</td>\n",
              "      <td>NaN</td>\n",
              "      <td>NaN</td>\n",
              "      <td>NaN</td>\n",
              "      <td>NaN</td>\n",
              "      <td>NaN</td>\n",
              "      <td>2.0</td>\n",
              "      <td>NaN</td>\n",
              "      <td>NaN</td>\n",
              "      <td>NaN</td>\n",
              "      <td>NaN</td>\n",
              "      <td>NaN</td>\n",
              "      <td>NaN</td>\n",
              "      <td>...</td>\n",
              "      <td>NaN</td>\n",
              "      <td>NaN</td>\n",
              "      <td>NaN</td>\n",
              "      <td>NaN</td>\n",
              "      <td>NaN</td>\n",
              "      <td>NaN</td>\n",
              "      <td>NaN</td>\n",
              "      <td>NaN</td>\n",
              "      <td>NaN</td>\n",
              "      <td>NaN</td>\n",
              "      <td>NaN</td>\n",
              "      <td>NaN</td>\n",
              "      <td>NaN</td>\n",
              "      <td>NaN</td>\n",
              "      <td>NaN</td>\n",
              "      <td>NaN</td>\n",
              "      <td>NaN</td>\n",
              "      <td>NaN</td>\n",
              "      <td>NaN</td>\n",
              "      <td>NaN</td>\n",
              "      <td>NaN</td>\n",
              "      <td>NaN</td>\n",
              "      <td>NaN</td>\n",
              "      <td>NaN</td>\n",
              "      <td>NaN</td>\n",
              "      <td>NaN</td>\n",
              "      <td>1.0</td>\n",
              "      <td>43.0</td>\n",
              "      <td>86.0</td>\n",
              "      <td>EV</td>\n",
              "      <td>33.0</td>\n",
              "      <td>75.0</td>\n",
              "      <td>234082</td>\n",
              "      <td>19.596248</td>\n",
              "      <td>NaN</td>\n",
              "      <td>NaN</td>\n",
              "      <td>NaN</td>\n",
              "      <td>NaN</td>\n",
              "      <td>NaN</td>\n",
              "      <td>NaN</td>\n",
              "    </tr>\n",
              "    <tr>\n",
              "      <th>428641</th>\n",
              "      <td>428641</td>\n",
              "      <td>2017</td>\n",
              "      <td>4</td>\n",
              "      <td>1</td>\n",
              "      <td>2</td>\n",
              "      <td>3</td>\n",
              "      <td>50</td>\n",
              "      <td>50</td>\n",
              "      <td>1</td>\n",
              "      <td>2</td>\n",
              "      <td>1.0</td>\n",
              "      <td>2</td>\n",
              "      <td>3.0</td>\n",
              "      <td>6.0</td>\n",
              "      <td>2.0</td>\n",
              "      <td>2.0</td>\n",
              "      <td>2.0</td>\n",
              "      <td>NaN</td>\n",
              "      <td>7.0</td>\n",
              "      <td>NaN</td>\n",
              "      <td>NaN</td>\n",
              "      <td>0.0</td>\n",
              "      <td>NaN</td>\n",
              "      <td>NaN</td>\n",
              "      <td>2</td>\n",
              "      <td>NaN</td>\n",
              "      <td>NaN</td>\n",
              "      <td>NaN</td>\n",
              "      <td>NaN</td>\n",
              "      <td>NaN</td>\n",
              "      <td>NaN</td>\n",
              "      <td>NaN</td>\n",
              "      <td>NaN</td>\n",
              "      <td>2.0</td>\n",
              "      <td>NaN</td>\n",
              "      <td>NaN</td>\n",
              "      <td>NaN</td>\n",
              "      <td>NaN</td>\n",
              "      <td>NaN</td>\n",
              "      <td>NaN</td>\n",
              "      <td>...</td>\n",
              "      <td>NaN</td>\n",
              "      <td>NaN</td>\n",
              "      <td>NaN</td>\n",
              "      <td>NaN</td>\n",
              "      <td>NaN</td>\n",
              "      <td>NaN</td>\n",
              "      <td>NaN</td>\n",
              "      <td>NaN</td>\n",
              "      <td>NaN</td>\n",
              "      <td>NaN</td>\n",
              "      <td>NaN</td>\n",
              "      <td>NaN</td>\n",
              "      <td>NaN</td>\n",
              "      <td>NaN</td>\n",
              "      <td>NaN</td>\n",
              "      <td>NaN</td>\n",
              "      <td>NaN</td>\n",
              "      <td>NaN</td>\n",
              "      <td>NaN</td>\n",
              "      <td>NaN</td>\n",
              "      <td>NaN</td>\n",
              "      <td>NaN</td>\n",
              "      <td>NaN</td>\n",
              "      <td>NaN</td>\n",
              "      <td>NaN</td>\n",
              "      <td>NaN</td>\n",
              "      <td>1.0</td>\n",
              "      <td>56.0</td>\n",
              "      <td>88.0</td>\n",
              "      <td>EV</td>\n",
              "      <td>71.0</td>\n",
              "      <td>75.0</td>\n",
              "      <td>234082</td>\n",
              "      <td>19.596248</td>\n",
              "      <td>NaN</td>\n",
              "      <td>NaN</td>\n",
              "      <td>NaN</td>\n",
              "      <td>NaN</td>\n",
              "      <td>NaN</td>\n",
              "      <td>NaN</td>\n",
              "    </tr>\n",
              "  </tbody>\n",
              "</table>\n",
              "<p>428642 rows × 126 columns</p>\n",
              "</div>"
            ],
            "text/plain": [
              "        Unnamed: 0  ANNEE  TRIM  CATAU2010R  ...  HHCE  HPLUSA  JOURTR  NBTOTE\n",
              "0                0   2017     1           1  ...  37.0     NaN     5.0     NaN\n",
              "1                1   2017     1           1  ...  32.0     NaN     4.0     NaN\n",
              "2                2   2017     1           1  ...  38.0     NaN     5.0     NaN\n",
              "3                3   2017     3           1  ...  37.0     NaN     5.0     NaN\n",
              "4                4   2017     3           1  ...  32.0     NaN     4.0     NaN\n",
              "...            ...    ...   ...         ...  ...   ...     ...     ...     ...\n",
              "428637      428637   2017     2           1  ...   NaN     NaN     NaN     NaN\n",
              "428638      428638   2017     3           1  ...   NaN     NaN     NaN     NaN\n",
              "428639      428639   2017     3           1  ...   NaN     NaN     NaN     NaN\n",
              "428640      428640   2017     4           1  ...   NaN     NaN     NaN     NaN\n",
              "428641      428641   2017     4           1  ...   NaN     NaN     NaN     NaN\n",
              "\n",
              "[428642 rows x 126 columns]"
            ]
          },
          "metadata": {
            "tags": []
          },
          "execution_count": 2
        }
      ]
    },
    {
      "cell_type": "code",
      "metadata": {
        "colab": {
          "base_uri": "https://localhost:8080/"
        },
        "id": "rXCsnvaGjHBT",
        "outputId": "ef3e0ac5-f5c5-4fea-af2d-cbf35152f03e"
      },
      "source": [
        "#On vérifie s'il y a des valeurs vides\n",
        "df.ACTEU.isna().sum()/len(df)"
      ],
      "execution_count": 13,
      "outputs": [
        {
          "output_type": "execute_result",
          "data": {
            "text/plain": [
              "0.0028088708059406217"
            ]
          },
          "metadata": {
            "tags": []
          },
          "execution_count": 13
        }
      ]
    },
    {
      "cell_type": "code",
      "metadata": {
        "colab": {
          "base_uri": "https://localhost:8080/",
          "height": 172
        },
        "id": "6letWvBthJbl",
        "outputId": "03c5118f-20d8-4127-ba40-171e9b7aa18a"
      },
      "source": [
        "#remplacement des valeurs manquantes\n",
        "df.fillna({x:0 for x in df[['ACTEU']]}, inplace=True)\n",
        "#recodification des valeurs\n",
        "df['status'] = ['unknown' if x == 0 else 'actif' if x == 1 else 'chomeur' if x== 2 else 'inactif' for x in df.ACTEU]\n",
        "\n",
        "df['status'].value_counts().to_frame(name='#people').reset_index()"
      ],
      "execution_count": 14,
      "outputs": [
        {
          "output_type": "execute_result",
          "data": {
            "text/html": [
              "<div>\n",
              "<style scoped>\n",
              "    .dataframe tbody tr th:only-of-type {\n",
              "        vertical-align: middle;\n",
              "    }\n",
              "\n",
              "    .dataframe tbody tr th {\n",
              "        vertical-align: top;\n",
              "    }\n",
              "\n",
              "    .dataframe thead th {\n",
              "        text-align: right;\n",
              "    }\n",
              "</style>\n",
              "<table border=\"1\" class=\"dataframe\">\n",
              "  <thead>\n",
              "    <tr style=\"text-align: right;\">\n",
              "      <th></th>\n",
              "      <th>index</th>\n",
              "      <th>#people</th>\n",
              "    </tr>\n",
              "  </thead>\n",
              "  <tbody>\n",
              "    <tr>\n",
              "      <th>0</th>\n",
              "      <td>inactif</td>\n",
              "      <td>207520</td>\n",
              "    </tr>\n",
              "    <tr>\n",
              "      <th>1</th>\n",
              "      <td>actif</td>\n",
              "      <td>198054</td>\n",
              "    </tr>\n",
              "    <tr>\n",
              "      <th>2</th>\n",
              "      <td>chomeur</td>\n",
              "      <td>21864</td>\n",
              "    </tr>\n",
              "    <tr>\n",
              "      <th>3</th>\n",
              "      <td>unknown</td>\n",
              "      <td>1204</td>\n",
              "    </tr>\n",
              "  </tbody>\n",
              "</table>\n",
              "</div>"
            ],
            "text/plain": [
              "     index  #people\n",
              "0  inactif   207520\n",
              "1    actif   198054\n",
              "2  chomeur    21864\n",
              "3  unknown     1204"
            ]
          },
          "metadata": {
            "tags": []
          },
          "execution_count": 14
        }
      ]
    },
    {
      "cell_type": "code",
      "metadata": {
        "colab": {
          "base_uri": "https://localhost:8080/"
        },
        "id": "7aBT_7_oo_Nz",
        "outputId": "c4a36979-7ce6-4b5d-ac09-823fc44e937d"
      },
      "source": [
        "sums = df['status'].value_counts().to_frame(name='#people').reset_index()['#people']\n",
        "sums"
      ],
      "execution_count": 15,
      "outputs": [
        {
          "output_type": "execute_result",
          "data": {
            "text/plain": [
              "0    207520\n",
              "1    198054\n",
              "2     21864\n",
              "3      1204\n",
              "Name: #people, dtype: int64"
            ]
          },
          "metadata": {
            "tags": []
          },
          "execution_count": 15
        }
      ]
    },
    {
      "cell_type": "code",
      "metadata": {
        "colab": {
          "base_uri": "https://localhost:8080/",
          "height": 513
        },
        "id": "0ctlAt9_e5Qs",
        "outputId": "4a90f26c-7a0f-47d1-d06b-d7c2dd061009"
      },
      "source": [
        "# Pie chart\n",
        "plt.figure(figsize=(15, 7))\n",
        "\n",
        "sums = df['status'].value_counts(normalize=True).values\n",
        "names = df['status'].value_counts(normalize=True).index\n",
        "#colors\n",
        "colors =  ['#66C2A5', '#FC8D62', '#8DA0CB',\n",
        "           '#E78AC3']\n",
        "#explosion\n",
        "explode = (0.05,0.05,0.05,0.05,)\n",
        "\n",
        "plt.pie(sums\n",
        "         , labels=names\n",
        "         , colors = colors\n",
        "         , autopct='%1.1f%%'\n",
        "         , startangle=45\n",
        "         , pctdistance=0.85\n",
        "         , explode = explode)\n",
        "\n",
        "#draw circle\n",
        "centre_circle = plt.Circle((0,0),0.65,fc='white')\n",
        "\n",
        "fig = plt.gcf()\n",
        "fig.gca().add_artist(centre_circle)\n",
        "\n",
        "\n",
        "plt.legend()\n",
        "plt.title('unemployment_rate')\n",
        "plt.tight_layout()\n",
        "plt.show();"
      ],
      "execution_count": 16,
      "outputs": [
        {
          "output_type": "display_data",
          "data": {
            "image/png": "[encoded data removed]",
            "text/plain": [
              "<Figure size 1080x504 with 1 Axes>"
            ]
          },
          "metadata": {
            "tags": []
          }
        }
      ]
    },
    {
      "cell_type": "markdown",
      "metadata": {
        "id": "DhqXJDXCY49a"
      },
      "source": [
        "* By doing a <a href=\"https://matplotlib.org/3.1.1/api/_as_gen/matplotlib.pyplot.pie.html\" target=\"_blank\">pie-chart</a>, show the share of unemployed, inactive and employed persons in France (from the variable ```ACTEU```).\n",
        "\n",
        "Here you have some steps:\n",
        "- Create a variable wich is the ```ACTEU```\n",
        "- Convert this variable to qualitative values <a href=\"https://www.insee.fr/fr/statistiques/3555153#documentation\" target=\"_blank\">(refer to the doc)</a>\n",
        "- Then do the pie chart with these informations:\n",
        "\n",
        "  * The percentage of each category \n",
        "  * A legend "
      ]
    },
    {
      "cell_type": "code",
      "metadata": {
        "id": "3EUBWNMKeCJW",
        "outputId": "0a1adeac-0051-4a4e-e96e-55ba9fb397d4"
      },
      "source": [
        ""
      ],
      "execution_count": null,
      "outputs": [
        {
          "output_type": "execute_result",
          "data": {
            "text/html": [
              "<div>\n",
              "<style scoped>\n",
              "    .dataframe tbody tr th:only-of-type {\n",
              "        vertical-align: middle;\n",
              "    }\n",
              "\n",
              "    .dataframe tbody tr th {\n",
              "        vertical-align: top;\n",
              "    }\n",
              "\n",
              "    .dataframe thead th {\n",
              "        text-align: right;\n",
              "    }\n",
              "</style>\n",
              "<table border=\"1\" class=\"dataframe\">\n",
              "  <thead>\n",
              "    <tr style=\"text-align: right;\">\n",
              "      <th></th>\n",
              "      <th>Unnamed: 0</th>\n",
              "      <th>ANNEE</th>\n",
              "      <th>TRIM</th>\n",
              "      <th>CATAU2010R</th>\n",
              "      <th>METRODOM</th>\n",
              "      <th>TYPMEN7</th>\n",
              "      <th>AGE3</th>\n",
              "      <th>AGE5</th>\n",
              "      <th>COURED</th>\n",
              "      <th>ENFRED</th>\n",
              "      <th>...</th>\n",
              "      <th>DIP11</th>\n",
              "      <th>CSTOTPRM</th>\n",
              "      <th>IDENTM</th>\n",
              "      <th>EXTRIAN</th>\n",
              "      <th>EMPNBH</th>\n",
              "      <th>HREC</th>\n",
              "      <th>HHCE</th>\n",
              "      <th>HPLUSA</th>\n",
              "      <th>JOURTR</th>\n",
              "      <th>NBTOTE</th>\n",
              "    </tr>\n",
              "  </thead>\n",
              "  <tbody>\n",
              "    <tr>\n",
              "      <th>0</th>\n",
              "      <td>0</td>\n",
              "      <td>2017</td>\n",
              "      <td>1</td>\n",
              "      <td>1</td>\n",
              "      <td>1</td>\n",
              "      <td>2</td>\n",
              "      <td>50</td>\n",
              "      <td>50</td>\n",
              "      <td>2</td>\n",
              "      <td>1</td>\n",
              "      <td>...</td>\n",
              "      <td>30.0</td>\n",
              "      <td>52.0</td>\n",
              "      <td>1</td>\n",
              "      <td>263.388752</td>\n",
              "      <td>37.0</td>\n",
              "      <td>NaN</td>\n",
              "      <td>37.0</td>\n",
              "      <td>NaN</td>\n",
              "      <td>5.0</td>\n",
              "      <td>NaN</td>\n",
              "    </tr>\n",
              "    <tr>\n",
              "      <th>1</th>\n",
              "      <td>1</td>\n",
              "      <td>2017</td>\n",
              "      <td>1</td>\n",
              "      <td>1</td>\n",
              "      <td>1</td>\n",
              "      <td>2</td>\n",
              "      <td>15</td>\n",
              "      <td>15</td>\n",
              "      <td>2</td>\n",
              "      <td>2</td>\n",
              "      <td>...</td>\n",
              "      <td>42.0</td>\n",
              "      <td>52.0</td>\n",
              "      <td>1</td>\n",
              "      <td>263.388752</td>\n",
              "      <td>32.0</td>\n",
              "      <td>NaN</td>\n",
              "      <td>32.0</td>\n",
              "      <td>NaN</td>\n",
              "      <td>4.0</td>\n",
              "      <td>NaN</td>\n",
              "    </tr>\n",
              "    <tr>\n",
              "      <th>2</th>\n",
              "      <td>2</td>\n",
              "      <td>2017</td>\n",
              "      <td>1</td>\n",
              "      <td>1</td>\n",
              "      <td>1</td>\n",
              "      <td>2</td>\n",
              "      <td>15</td>\n",
              "      <td>15</td>\n",
              "      <td>2</td>\n",
              "      <td>2</td>\n",
              "      <td>...</td>\n",
              "      <td>31.0</td>\n",
              "      <td>52.0</td>\n",
              "      <td>1</td>\n",
              "      <td>263.388752</td>\n",
              "      <td>38.0</td>\n",
              "      <td>NaN</td>\n",
              "      <td>38.0</td>\n",
              "      <td>NaN</td>\n",
              "      <td>5.0</td>\n",
              "      <td>NaN</td>\n",
              "    </tr>\n",
              "    <tr>\n",
              "      <th>3</th>\n",
              "      <td>3</td>\n",
              "      <td>2017</td>\n",
              "      <td>3</td>\n",
              "      <td>1</td>\n",
              "      <td>1</td>\n",
              "      <td>2</td>\n",
              "      <td>50</td>\n",
              "      <td>50</td>\n",
              "      <td>2</td>\n",
              "      <td>1</td>\n",
              "      <td>...</td>\n",
              "      <td>30.0</td>\n",
              "      <td>52.0</td>\n",
              "      <td>2</td>\n",
              "      <td>176.893923</td>\n",
              "      <td>37.0</td>\n",
              "      <td>NaN</td>\n",
              "      <td>37.0</td>\n",
              "      <td>NaN</td>\n",
              "      <td>5.0</td>\n",
              "      <td>NaN</td>\n",
              "    </tr>\n",
              "    <tr>\n",
              "      <th>4</th>\n",
              "      <td>4</td>\n",
              "      <td>2017</td>\n",
              "      <td>3</td>\n",
              "      <td>1</td>\n",
              "      <td>1</td>\n",
              "      <td>2</td>\n",
              "      <td>15</td>\n",
              "      <td>15</td>\n",
              "      <td>2</td>\n",
              "      <td>2</td>\n",
              "      <td>...</td>\n",
              "      <td>42.0</td>\n",
              "      <td>52.0</td>\n",
              "      <td>2</td>\n",
              "      <td>176.893923</td>\n",
              "      <td>40.0</td>\n",
              "      <td>NaN</td>\n",
              "      <td>32.0</td>\n",
              "      <td>NaN</td>\n",
              "      <td>4.0</td>\n",
              "      <td>NaN</td>\n",
              "    </tr>\n",
              "  </tbody>\n",
              "</table>\n",
              "<p>5 rows × 126 columns</p>\n",
              "</div>"
            ],
            "text/plain": [
              "   Unnamed: 0  ANNEE  TRIM  CATAU2010R  METRODOM  TYPMEN7  AGE3  AGE5  COURED  \\\n",
              "0           0   2017     1           1         1        2    50    50       2   \n",
              "1           1   2017     1           1         1        2    15    15       2   \n",
              "2           2   2017     1           1         1        2    15    15       2   \n",
              "3           3   2017     3           1         1        2    50    50       2   \n",
              "4           4   2017     3           1         1        2    15    15       2   \n",
              "\n",
              "   ENFRED  ...  DIP11  CSTOTPRM  IDENTM     EXTRIAN  EMPNBH  HREC  HHCE  \\\n",
              "0       1  ...   30.0      52.0       1  263.388752    37.0   NaN  37.0   \n",
              "1       2  ...   42.0      52.0       1  263.388752    32.0   NaN  32.0   \n",
              "2       2  ...   31.0      52.0       1  263.388752    38.0   NaN  38.0   \n",
              "3       1  ...   30.0      52.0       2  176.893923    37.0   NaN  37.0   \n",
              "4       2  ...   42.0      52.0       2  176.893923    40.0   NaN  32.0   \n",
              "\n",
              "   HPLUSA  JOURTR  NBTOTE  \n",
              "0     NaN     5.0     NaN  \n",
              "1     NaN     4.0     NaN  \n",
              "2     NaN     5.0     NaN  \n",
              "3     NaN     5.0     NaN  \n",
              "4     NaN     4.0     NaN  \n",
              "\n",
              "[5 rows x 126 columns]"
            ]
          },
          "metadata": {
            "tags": []
          },
          "execution_count": 3
        }
      ]
    },
    {
      "cell_type": "code",
      "metadata": {
        "colab": {
          "base_uri": "https://localhost:8080/",
          "height": 102
        },
        "id": "tZVEocaXZwVu",
        "outputId": "99c5222a-7831-4cc1-ccdd-ffd46d7dcae1"
      },
      "source": [
        ""
      ],
      "execution_count": null,
      "outputs": [
        {
          "output_type": "execute_result",
          "data": {
            "text/plain": [
              "Inactive      207520\n",
              "Active        198054\n",
              "Unemployed     21864\n",
              "Unknow          1204\n",
              "Name: ACTEU, dtype: int64"
            ]
          },
          "metadata": {
            "tags": []
          },
          "execution_count": 29
        }
      ]
    },
    {
      "cell_type": "markdown",
      "metadata": {
        "id": "mX9t8VnQhCu0"
      },
      "source": [
        "* Make the same graph on the variable ```ACTEU6``` which is more precise on the type of actives.\n",
        "\n",
        "Remember:\n",
        "\n",
        "You have to convert quantitatives values to quanlitatives"
      ]
    },
    {
      "cell_type": "code",
      "metadata": {
        "colab": {
          "base_uri": "https://localhost:8080/",
          "height": 235
        },
        "id": "2GvU42xLbQT0",
        "outputId": "be636885-18b0-4a52-ac34-d44dbbcf1ee7"
      },
      "source": [
        "'''\n",
        "Vide Sans objet (ACTEU non renseigné, individus de 15 ans et plus nécessairement non pondérés)\n",
        "1 Actif occupé\n",
        "3 Chômeur PSERE (Population sans Emploi à la Recherche d'un Emploi)\n",
        "4 Autre chômeur BIT\n",
        "5 Etudiant, élève, stagiaire en formation (inactifs)\n",
        "6 Autres inactifs (dont retraités)\n",
        "\n",
        "'''\n",
        "\n",
        "#remplacement des valeurs manquantes\n",
        "df.fillna({x:0 for x in df[['ACTEU6']]}, inplace=True)\n",
        "#recodification des valeurs\n",
        "df['status2'] = ['unknown' if x == 0 else 'actif_occupé' if x == 1 else 'chomeur_psere' if x== 3 else 'autre_chomeur_bit' if x== 4 else 'etudiant' if x== 5 else'autres_inactif' for x in df.ACTEU6]\n",
        "\n",
        "df['status2'].value_counts().to_frame(name='#people_2').reset_index()"
      ],
      "execution_count": 17,
      "outputs": [
        {
          "output_type": "execute_result",
          "data": {
            "text/html": [
              "<div>\n",
              "<style scoped>\n",
              "    .dataframe tbody tr th:only-of-type {\n",
              "        vertical-align: middle;\n",
              "    }\n",
              "\n",
              "    .dataframe tbody tr th {\n",
              "        vertical-align: top;\n",
              "    }\n",
              "\n",
              "    .dataframe thead th {\n",
              "        text-align: right;\n",
              "    }\n",
              "</style>\n",
              "<table border=\"1\" class=\"dataframe\">\n",
              "  <thead>\n",
              "    <tr style=\"text-align: right;\">\n",
              "      <th></th>\n",
              "      <th>index</th>\n",
              "      <th>#people_2</th>\n",
              "    </tr>\n",
              "  </thead>\n",
              "  <tbody>\n",
              "    <tr>\n",
              "      <th>0</th>\n",
              "      <td>actif_occupé</td>\n",
              "      <td>198054</td>\n",
              "    </tr>\n",
              "    <tr>\n",
              "      <th>1</th>\n",
              "      <td>autres_inactif</td>\n",
              "      <td>172921</td>\n",
              "    </tr>\n",
              "    <tr>\n",
              "      <th>2</th>\n",
              "      <td>etudiant</td>\n",
              "      <td>34599</td>\n",
              "    </tr>\n",
              "    <tr>\n",
              "      <th>3</th>\n",
              "      <td>chomeur_psere</td>\n",
              "      <td>20854</td>\n",
              "    </tr>\n",
              "    <tr>\n",
              "      <th>4</th>\n",
              "      <td>unknown</td>\n",
              "      <td>1204</td>\n",
              "    </tr>\n",
              "    <tr>\n",
              "      <th>5</th>\n",
              "      <td>autre_chomeur_bit</td>\n",
              "      <td>1010</td>\n",
              "    </tr>\n",
              "  </tbody>\n",
              "</table>\n",
              "</div>"
            ],
            "text/plain": [
              "               index  #people_2\n",
              "0       actif_occupé     198054\n",
              "1     autres_inactif     172921\n",
              "2           etudiant      34599\n",
              "3      chomeur_psere      20854\n",
              "4            unknown       1204\n",
              "5  autre_chomeur_bit       1010"
            ]
          },
          "metadata": {
            "tags": []
          },
          "execution_count": 17
        }
      ]
    },
    {
      "cell_type": "code",
      "metadata": {
        "colab": {
          "base_uri": "https://localhost:8080/",
          "height": 513
        },
        "id": "2ndmQN-zjSzW",
        "outputId": "f31a8543-8d2e-4d5b-b685-c69ce44a41ec"
      },
      "source": [
        "# Pie chart\n",
        "plt.figure(figsize=(15, 7))\n",
        "\n",
        "sums = df['status2'].value_counts(normalize=True).values\n",
        "names = df['status2'].value_counts(normalize=True).index\n",
        "#colors\n",
        "colors =  ['#66C2A5', '#FC8D62', '#8DA0CB',\n",
        "           '#E78AC3', '#A6D854', '#D9D9D9']\n",
        "#explosion\n",
        "explode = (0.05,0.05,0.05,0.05,0.05,0.05,)\n",
        "\n",
        "plt.pie(sums\n",
        "         , labels=names\n",
        "         , colors = colors\n",
        "         , autopct='%1.1f%%'\n",
        "         , startangle=30\n",
        "         , pctdistance=0.85\n",
        "         , explode = explode)\n",
        "\n",
        "#draw circle\n",
        "centre_circle = plt.Circle((0,0),0.65,fc='white')\n",
        "\n",
        "fig = plt.gcf()\n",
        "fig.gca().add_artist(centre_circle)\n",
        "\n",
        "\n",
        "# plt.legend()\n",
        "plt.title('better_unemployment_estimate')\n",
        "plt.tight_layout()\n",
        "plt.show();"
      ],
      "execution_count": 18,
      "outputs": [
        {
          "output_type": "display_data",
          "data": {
            "image/png": "[encoded data removed]",
            "text/plain": [
              "<Figure size 1080x504 with 1 Axes>"
            ]
          },
          "metadata": {
            "tags": []
          }
        }
      ]
    },
    {
      "cell_type": "markdown",
      "metadata": {
        "id": "EZOe0bmqm8bq"
      },
      "source": [
        "* By ploting a <a href=\"https://pythonmatplotlibtips.blogspot.com/2018/11/normalized-stacked-barplot-number-percentage-python-matplotlib.html\" target=\"_blank\">stacked bar chart</a>, compare :\n",
        "\n",
        "  * The ratio *Unemployed* / *Actives* \n",
        "  * The ratio *Unemployed* / *Actives + Inactives*"
      ]
    },
    {
      "cell_type": "code",
      "metadata": {
        "colab": {
          "base_uri": "https://localhost:8080/"
        },
        "id": "mfFcPreepD0Z",
        "outputId": "b4aca43e-9026-4a28-b352-b17a2caf8f7e"
      },
      "source": [
        "df.status2.value_counts()"
      ],
      "execution_count": 19,
      "outputs": [
        {
          "output_type": "execute_result",
          "data": {
            "text/plain": [
              "actif_occupé         198054\n",
              "autres_inactif       172921\n",
              "etudiant              34599\n",
              "chomeur_psere         20854\n",
              "unknown                1204\n",
              "autre_chomeur_bit      1010\n",
              "Name: status2, dtype: int64"
            ]
          },
          "metadata": {
            "tags": []
          },
          "execution_count": 19
        }
      ]
    },
    {
      "cell_type": "code",
      "metadata": {
        "colab": {
          "base_uri": "https://localhost:8080/"
        },
        "id": "ypb7iZ3Ixh9d",
        "outputId": "477dcb0e-febf-4f90-f10d-67ecfb22a4c3"
      },
      "source": [
        "s3= {'actif_occupé' : 'actives',\n",
        "     'autres_inactif' : 'inactives',\n",
        "     'etudiant' : 'inactives',\n",
        "     'chomeur_psere': 'unemployed',\n",
        "     'unknown' : 'inactives',\n",
        "     'autre_chomeur_bit' : 'unemployed' \n",
        "  }\n",
        "df['unemployment'] = df.status2.map(s3)\n",
        "df['unemployment'].value_counts()"
      ],
      "execution_count": 20,
      "outputs": [
        {
          "output_type": "execute_result",
          "data": {
            "text/plain": [
              "inactives     208724\n",
              "actives       198054\n",
              "unemployed     21864\n",
              "Name: unemployment, dtype: int64"
            ]
          },
          "metadata": {
            "tags": []
          },
          "execution_count": 20
        }
      ]
    },
    {
      "cell_type": "code",
      "metadata": {
        "colab": {
          "base_uri": "https://localhost:8080/"
        },
        "id": "Eu5bfNogybmA",
        "outputId": "49def58b-2e8e-4451-84cb-4b39af47f52c"
      },
      "source": [
        "# Ratio unemployed / actives: r1\n",
        "r1 = (df['unemployment'] == 'unemployed').sum() /(df['unemployment']=='actives').sum()\n",
        "print('Ratio unemployed / actives r1 = ', r1)"
      ],
      "execution_count": 21,
      "outputs": [
        {
          "output_type": "stream",
          "text": [
            "Ratio unemployed / actives r1 =  0.11039413493289708\n"
          ],
          "name": "stdout"
        }
      ]
    },
    {
      "cell_type": "code",
      "metadata": {
        "colab": {
          "base_uri": "https://localhost:8080/"
        },
        "id": "Nyo1NFlh0N8e",
        "outputId": "4935b862-21be-4051-8c9c-d0692ef9b1d7"
      },
      "source": [
        "# Ratio unemployed / actives + inactives: r2\n",
        "r2 = (df['unemployment'] == 'unemployed').sum() / (df['unemployment'] != 'unemployed').sum()\n",
        "print('Ratio unemployed / actives + inactives: r2 = ',r2)"
      ],
      "execution_count": 22,
      "outputs": [
        {
          "output_type": "stream",
          "text": [
            "Ratio unemployed / actives + inactives: r2 =  0.05374921947597953\n"
          ],
          "name": "stdout"
        }
      ]
    },
    {
      "cell_type": "code",
      "metadata": {
        "colab": {
          "base_uri": "https://localhost:8080/",
          "height": 110
        },
        "id": "xQt20_ulP-Q1",
        "outputId": "8a44bccd-a42b-46ef-a7e5-6712b5283130"
      },
      "source": [
        "dataset = pd.DataFrame({\n",
        "    \n",
        "    'employed': [1-r1, 1-r2],\n",
        "    'unemployed': [r1,r2],\n",
        "})\n",
        "dataset.index = ['unemployed / actives','unemployed / actives + inactives']\n",
        "dataset"
      ],
      "execution_count": 96,
      "outputs": [
        {
          "output_type": "execute_result",
          "data": {
            "text/html": [
              "<div>\n",
              "<style scoped>\n",
              "    .dataframe tbody tr th:only-of-type {\n",
              "        vertical-align: middle;\n",
              "    }\n",
              "\n",
              "    .dataframe tbody tr th {\n",
              "        vertical-align: top;\n",
              "    }\n",
              "\n",
              "    .dataframe thead th {\n",
              "        text-align: right;\n",
              "    }\n",
              "</style>\n",
              "<table border=\"1\" class=\"dataframe\">\n",
              "  <thead>\n",
              "    <tr style=\"text-align: right;\">\n",
              "      <th></th>\n",
              "      <th>employed</th>\n",
              "      <th>unemployed</th>\n",
              "    </tr>\n",
              "  </thead>\n",
              "  <tbody>\n",
              "    <tr>\n",
              "      <th>unemployed / actives</th>\n",
              "      <td>0.889606</td>\n",
              "      <td>0.110394</td>\n",
              "    </tr>\n",
              "    <tr>\n",
              "      <th>unemployed / actives + inactives</th>\n",
              "      <td>0.946251</td>\n",
              "      <td>0.053749</td>\n",
              "    </tr>\n",
              "  </tbody>\n",
              "</table>\n",
              "</div>"
            ],
            "text/plain": [
              "                                  employed  unemployed\n",
              "unemployed / actives              0.889606    0.110394\n",
              "unemployed / actives + inactives  0.946251    0.053749"
            ]
          },
          "metadata": {
            "tags": []
          },
          "execution_count": 96
        }
      ]
    },
    {
      "cell_type": "markdown",
      "metadata": {
        "id": "bF8i5GZmiOQ7"
      },
      "source": [
        "Avec des barres horizontales"
      ]
    },
    {
      "cell_type": "code",
      "metadata": {
        "colab": {
          "base_uri": "https://localhost:8080/",
          "height": 320
        },
        "id": "MycftrxXCEeD",
        "outputId": "9845a484-79fe-41e1-e9eb-1b3c63347d62"
      },
      "source": [
        "\n",
        "ax = dataset.plot(stacked=True, kind='barh', figsize=(10, 5), )\n",
        "for c in ax.containers:\n",
        "    ax.bar_label(c, label_type='center')\n",
        "\n"
      ],
      "execution_count": 99,
      "outputs": [
        {
          "output_type": "display_data",
          "data": {
            "image/png": "[encoded data removed]",
            "text/plain": [
              "<Figure size 720x360 with 1 Axes>"
            ]
          },
          "metadata": {
            "tags": [],
            "needs_background": "light"
          }
        }
      ]
    },
    {
      "cell_type": "markdown",
      "metadata": {
        "id": "W3l3TUb3iYvs"
      },
      "source": [
        "Avec ds barres verticales"
      ]
    },
    {
      "cell_type": "code",
      "metadata": {
        "colab": {
          "base_uri": "https://localhost:8080/",
          "height": 475
        },
        "id": "7qFBwJDRXg5k",
        "outputId": "767e5bbc-eb38-4312-c9d1-db0d15686a36"
      },
      "source": [
        "\n",
        "ax = dataset.plot.bar(stacked=True, figsize=(10, 5))\n",
        "for c in ax.containers:\n",
        "    ax.bar_label(c, label_type='center')"
      ],
      "execution_count": 101,
      "outputs": [
        {
          "output_type": "display_data",
          "data": {
            "image/png": "[encoded data removed]",
            "text/plain": [
              "<Figure size 720x360 with 1 Axes>"
            ]
          },
          "metadata": {
            "tags": [],
            "needs_background": "light"
          }
        }
      ]
    },
    {
      "cell_type": "markdown",
      "metadata": {
        "id": "imCCe_2byFzg"
      },
      "source": [
        "* By creating a <a href=\"https://matplotlib.org/3.1.1/api/_as_gen/matplotlib.pyplot.bar.html\" target=\"_blank\">bar chart</a> again, this time look at the distribution of unemployment seniority. The variable's name is ```ANCCHOM```"
      ]
    },
    {
      "cell_type": "code",
      "metadata": {
        "colab": {
          "base_uri": "https://localhost:8080/"
        },
        "id": "KteWKu6YW9Ca",
        "outputId": "be687d99-bcbf-4a15-ef11-8edd1d2f2b80"
      },
      "source": [
        "trad = {1:'<1', 2:'[1,3]', \n",
        "              3:'[3,6]',\n",
        "               4:'[6,12]', 5:'[12, 18 mois]',\n",
        "               6:'[18,24]', 7:'[24,36]',\n",
        "               8:'>36', np.NAN:'unknown'}\n",
        "df['seniority'] = df.ANCCHOM.map(trad)\n",
        "df['seniority'].value_counts()"
      ],
      "execution_count": 10,
      "outputs": [
        {
          "output_type": "execute_result",
          "data": {
            "text/plain": [
              "unknown          406904\n",
              ">36                3906\n",
              "[6,12]             3648\n",
              "[12, 18 mois]      3398\n",
              "[1,3]              3270\n",
              "[3,6]              3193\n",
              "[24,36]            2289\n",
              "[18,24]            1132\n",
              "<1                  902\n",
              "Name: seniority, dtype: int64"
            ]
          },
          "metadata": {
            "tags": []
          },
          "execution_count": 10
        }
      ]
    },
    {
      "cell_type": "code",
      "metadata": {
        "colab": {
          "base_uri": "https://localhost:8080/",
          "height": 538
        },
        "id": "jljzO-hTZuPJ",
        "outputId": "160aaedb-f35a-4a3d-954b-acce6c97f552"
      },
      "source": [
        "d2 = pd.DataFrame(df['seniority'].value_counts())\n",
        "d2 = d2.iloc[1:]\n",
        "\n",
        "ax = d2.plot(kind='bar', figsize=(20,8))\n",
        "for c in ax.containers:\n",
        "    ax.bar_label(c, label_type='center')\n"
      ],
      "execution_count": 12,
      "outputs": [
        {
          "output_type": "display_data",
          "data": {
            "image/png": "[encoded data removed]",
            "text/plain": [
              "<Figure size 1440x576 with 1 Axes>"
            ]
          },
          "metadata": {
            "tags": [],
            "needs_background": "light"
          }
        }
      ]
    },
    {
      "cell_type": "markdown",
      "metadata": {
        "id": "SOZ0dz4k2tMY"
      },
      "source": [
        "* The distribution doesn't look good on the bar chart, try doing it again on a piechart. "
      ]
    },
    {
      "cell_type": "code",
      "metadata": {
        "colab": {
          "base_uri": "https://localhost:8080/",
          "height": 297
        },
        "id": "My2I_VY4dEng",
        "outputId": "0460e035-a346-48a2-90a6-ed8738b149f6"
      },
      "source": [
        "d3 = pd.DataFrame(df.seniority.value_counts())\n",
        "d3.drop(['unknown'],inplace=True)\n",
        "d3.reset_index(inplace=True)\n",
        "d3.rename(columns={'index':'lib'}, inplace=True)\n",
        "d3['lib2'] = d3['lib']\n",
        "d3.set_index('lib')\n",
        "\n",
        "def calc(x,z):\n",
        "   return z + ' : ' + str(round(x/d3.seniority.sum() * 100))+ '%'\n",
        "\n",
        "d3['lib2'] = d3.apply(lambda x:calc(x['seniority'], x['lib2']),axis=1)\n",
        "d3"
      ],
      "execution_count": 243,
      "outputs": [
        {
          "output_type": "execute_result",
          "data": {
            "text/html": [
              "<div>\n",
              "<style scoped>\n",
              "    .dataframe tbody tr th:only-of-type {\n",
              "        vertical-align: middle;\n",
              "    }\n",
              "\n",
              "    .dataframe tbody tr th {\n",
              "        vertical-align: top;\n",
              "    }\n",
              "\n",
              "    .dataframe thead th {\n",
              "        text-align: right;\n",
              "    }\n",
              "</style>\n",
              "<table border=\"1\" class=\"dataframe\">\n",
              "  <thead>\n",
              "    <tr style=\"text-align: right;\">\n",
              "      <th></th>\n",
              "      <th>lib</th>\n",
              "      <th>seniority</th>\n",
              "      <th>lib2</th>\n",
              "    </tr>\n",
              "  </thead>\n",
              "  <tbody>\n",
              "    <tr>\n",
              "      <th>0</th>\n",
              "      <td>&gt;36</td>\n",
              "      <td>3906</td>\n",
              "      <td>&gt;36 : 18%</td>\n",
              "    </tr>\n",
              "    <tr>\n",
              "      <th>1</th>\n",
              "      <td>[6,12]</td>\n",
              "      <td>3648</td>\n",
              "      <td>[6,12] : 17%</td>\n",
              "    </tr>\n",
              "    <tr>\n",
              "      <th>2</th>\n",
              "      <td>[12, 18 mois]</td>\n",
              "      <td>3398</td>\n",
              "      <td>[12, 18 mois] : 16%</td>\n",
              "    </tr>\n",
              "    <tr>\n",
              "      <th>3</th>\n",
              "      <td>[1,3]</td>\n",
              "      <td>3270</td>\n",
              "      <td>[1,3] : 15%</td>\n",
              "    </tr>\n",
              "    <tr>\n",
              "      <th>4</th>\n",
              "      <td>[3,6]</td>\n",
              "      <td>3193</td>\n",
              "      <td>[3,6] : 15%</td>\n",
              "    </tr>\n",
              "    <tr>\n",
              "      <th>5</th>\n",
              "      <td>[24,36]</td>\n",
              "      <td>2289</td>\n",
              "      <td>[24,36] : 11%</td>\n",
              "    </tr>\n",
              "    <tr>\n",
              "      <th>6</th>\n",
              "      <td>[18,24]</td>\n",
              "      <td>1132</td>\n",
              "      <td>[18,24] : 5%</td>\n",
              "    </tr>\n",
              "    <tr>\n",
              "      <th>7</th>\n",
              "      <td>&lt;1</td>\n",
              "      <td>902</td>\n",
              "      <td>&lt;1 : 4%</td>\n",
              "    </tr>\n",
              "  </tbody>\n",
              "</table>\n",
              "</div>"
            ],
            "text/plain": [
              "             lib  seniority                 lib2\n",
              "0            >36       3906            >36 : 18%\n",
              "1         [6,12]       3648         [6,12] : 17%\n",
              "2  [12, 18 mois]       3398  [12, 18 mois] : 16%\n",
              "3          [1,3]       3270          [1,3] : 15%\n",
              "4          [3,6]       3193          [3,6] : 15%\n",
              "5        [24,36]       2289        [24,36] : 11%\n",
              "6        [18,24]       1132         [18,24] : 5%\n",
              "7             <1        902              <1 : 4%"
            ]
          },
          "metadata": {
            "tags": []
          },
          "execution_count": 243
        }
      ]
    },
    {
      "cell_type": "code",
      "metadata": {
        "colab": {
          "base_uri": "https://localhost:8080/"
        },
        "id": "_N4NuRaAn8Yr",
        "outputId": "b8d91c89-f111-4bee-f3c6-50b571d51f47"
      },
      "source": [
        "d3.seniority.sum()"
      ],
      "execution_count": 209,
      "outputs": [
        {
          "output_type": "execute_result",
          "data": {
            "text/plain": [
              "21738"
            ]
          },
          "metadata": {
            "tags": []
          },
          "execution_count": 209
        }
      ]
    },
    {
      "cell_type": "code",
      "metadata": {
        "colab": {
          "base_uri": "https://localhost:8080/",
          "height": 248
        },
        "id": "NIgYiAsRfJfA",
        "outputId": "15d56c55-f8f0-4a4f-a17d-32e927b5e05f"
      },
      "source": [
        "ax = plt.pie(d3.seniority,labels=d3.lib2)\n",
        "centre_circle = plt.Circle((0,0),0.65,fc='white')\n",
        "\n",
        "fig = plt.gcf()\n",
        "fig.gca().add_artist(centre_circle)\n",
        "plt.show()"
      ],
      "execution_count": 245,
      "outputs": [
        {
          "output_type": "display_data",
          "data": {
            "image/png": "[encoded data removed]",
            "text/plain": [
              "<Figure size 432x288 with 1 Axes>"
            ]
          },
          "metadata": {
            "tags": []
          }
        }
      ]
    },
    {
      "cell_type": "markdown",
      "metadata": {
        "id": "8LIfy88y5cnO"
      },
      "source": [
        "* It would be interesting to see the distribution of people registered with Pôle Emploi or an employment agency among these unemployed people. Look at this distribution thanks to the CONTACT column \n",
        "  * Directly remove the NaN from your chart"
      ]
    },
    {
      "cell_type": "code",
      "metadata": {
        "colab": {
          "base_uri": "https://localhost:8080/",
          "height": 289
        },
        "id": "Xviz1js24gOu",
        "outputId": "da3d97ba-12ae-4266-ab6c-7493ea3ff020"
      },
      "source": [
        "contacts = df.CONTACT.copy()\n",
        "contacts.dropna(axis=0, inplace=True)\n",
        "contacts = contacts.map({2:'no', 1:'yes'})\n",
        "temp = pd.DataFrame(contacts.value_counts())\n",
        "ax = temp.plot(kind='bar')\n",
        "plt.title('registration with employment agency')\n",
        "for c in ax.containers:\n",
        "    ax.bar_label(c, label_type='center', color='white');"
      ],
      "execution_count": 290,
      "outputs": [
        {
          "output_type": "display_data",
          "data": {
            "image/png": "[encoded data removed]",
            "text/plain": [
              "<Figure size 432x288 with 1 Axes>"
            ]
          },
          "metadata": {
            "tags": [],
            "needs_background": "light"
          }
        }
      ]
    },
    {
      "cell_type": "markdown",
      "metadata": {
        "id": "SizUWI_f7pgw"
      },
      "source": [
        "* Let's take a look at what pushes French people to change jobs. Through the ```CREACCP``` feature, create a horizontal bar chart that will allow you to know the main reasons why French people change jobs."
      ]
    },
    {
      "cell_type": "code",
      "metadata": {
        "id": "262jwz_-1og9"
      },
      "source": [
        "reason = df['CREACCP']\n",
        "reason.dropna(inplace=True, axis=0)\n",
        "eq = {\n",
        "    \n",
        "1: 'perte imminente',\n",
        "2 : 'meilleur job',\n",
        "3 :'cdi',\n",
        "4 : 'travailler +',\n",
        "5 : '+souple',\n",
        "6 : '+sain',\n",
        "7 :'+salaire',\n",
        "8 :' -déplacements',\n",
        "9 :'bouge',\n",
        "10 :'entrepreneur',\n",
        "11 :'changement',\n",
        "12 :'invivable',\n",
        "13 :'autre'\n",
        "}\n",
        "reason = reason.map(eq)"
      ],
      "execution_count": 297,
      "outputs": []
    },
    {
      "cell_type": "code",
      "metadata": {
        "colab": {
          "base_uri": "https://localhost:8080/"
        },
        "id": "wjcaHyNn17Hw",
        "outputId": "68de0652-2c6e-47c3-fe2b-d01793c8c51e"
      },
      "source": [
        "reason.value_counts()"
      ],
      "execution_count": 298,
      "outputs": [
        {
          "output_type": "execute_result",
          "data": {
            "text/plain": [
              "+salaire           6775\n",
              "meilleur job       2779\n",
              "cdi                2462\n",
              "+sain              1820\n",
              "perte imminente    1582\n",
              "travailler +       1404\n",
              "changement         1392\n",
              "invivable          1223\n",
              "+souple            1102\n",
              "autre               894\n",
              " -déplacements      598\n",
              "entrepreneur        354\n",
              "bouge               216\n",
              "Name: CREACCP, dtype: int64"
            ]
          },
          "metadata": {
            "tags": []
          },
          "execution_count": 298
        }
      ]
    },
    {
      "cell_type": "code",
      "metadata": {
        "colab": {
          "base_uri": "https://localhost:8080/"
        },
        "id": "__xw-tmG34MJ",
        "outputId": "1c06c58c-24a9-4587-d3eb-bc134203240e"
      },
      "source": [
        "reason.head()"
      ],
      "execution_count": 301,
      "outputs": [
        {
          "output_type": "execute_result",
          "data": {
            "text/plain": [
              "56                cdi\n",
              "58      -déplacements\n",
              "71       meilleur job\n",
              "120      meilleur job\n",
              "121        changement\n",
              "Name: CREACCP, dtype: object"
            ]
          },
          "metadata": {
            "tags": []
          },
          "execution_count": 301
        }
      ]
    },
    {
      "cell_type": "code",
      "metadata": {
        "colab": {
          "base_uri": "https://localhost:8080/",
          "height": 483
        },
        "id": "lA_1mbi33niG",
        "outputId": "ab0d479e-ec40-4c7a-98d4-3988c43a69c2"
      },
      "source": [
        "ax= reason.value_counts(normalize=True).mul(100).round(2).sort_values().plot(kind='barh', figsize=(10, 8),)\n",
        "for c in ax.containers:\n",
        "    ax.bar_label(c, label_type='edge',color='red')\n",
        "plt.show()"
      ],
      "execution_count": 337,
      "outputs": [
        {
          "output_type": "display_data",
          "data": {
            "image/png": "[encoded data removed]",
            "text/plain": [
              "<Figure size 720x576 with 1 Axes>"
            ]
          },
          "metadata": {
            "tags": [],
            "needs_background": "light"
          }
        }
      ]
    },
    {
      "cell_type": "code",
      "metadata": {
        "colab": {
          "base_uri": "https://localhost:8080/",
          "height": 255
        },
        "id": "XtoXCk5r6jcD",
        "outputId": "a39a4abf-7b69-4632-941d-f2c40be50c11"
      },
      "source": [
        ""
      ],
      "execution_count": null,
      "outputs": [
        {
          "output_type": "execute_result",
          "data": {
            "text/plain": [
              "Need or wants to move                                                                           216\n",
              "Want to be a freelance                                                                          354\n",
              "Wants to reduce transport time                                                                  598\n",
              "Need more suitable or flexible hourly rhythm                                                   1102\n",
              "Finds the work atmosphere bad, conflicting work relations                                      1223\n",
              "Wants to change of job or activity sector                                                      1392\n",
              "Wants to work more hours                                                                       1404\n",
              "Risk of losing or gonna lose current job                                                       1582\n",
              "Need to work with conditions that are less strenuous or more adapted to his or her health      1820\n",
              "Wants a CDI                                                                                    2462\n",
              "Wants a more interesting job                                                                   2779\n",
              "Wants to increase salary                                                                       6775\n",
              "Unknow                                                                                       406935\n",
              "Name: CREACCP, dtype: int64"
            ]
          },
          "metadata": {
            "tags": []
          },
          "execution_count": 21
        }
      ]
    },
    {
      "cell_type": "markdown",
      "metadata": {
        "id": "jE1eEKcPeCKB"
      },
      "source": [
        "* Calculate the sum of all features without ```Unknow```"
      ]
    },
    {
      "cell_type": "code",
      "metadata": {
        "id": "YkDqs3TBeCKC",
        "outputId": "2216c0a7-168b-48e5-f760-39fcf35dfc03"
      },
      "source": [
        ""
      ],
      "execution_count": null,
      "outputs": [
        {
          "output_type": "stream",
          "text": [
            "The sum of all feature without Unknow is: 21707\n"
          ],
          "name": "stdout"
        }
      ]
    },
    {
      "cell_type": "markdown",
      "metadata": {
        "id": "vMfsdjBfeCKC"
      },
      "source": [
        "- Calculate the repartition of each feature"
      ]
    },
    {
      "cell_type": "code",
      "metadata": {
        "colab": {
          "base_uri": "https://localhost:8080/",
          "height": 34
        },
        "id": "fMlBDKUr-m-W",
        "outputId": "c6f1ebe3-f650-4113-b20a-d329d8cb158f"
      },
      "source": [
        ""
      ],
      "execution_count": null,
      "outputs": [
        {
          "output_type": "execute_result",
          "data": {
            "text/html": [
              "<div>\n",
              "<style scoped>\n",
              "    .dataframe tbody tr th:only-of-type {\n",
              "        vertical-align: middle;\n",
              "    }\n",
              "\n",
              "    .dataframe tbody tr th {\n",
              "        vertical-align: top;\n",
              "    }\n",
              "\n",
              "    .dataframe thead th {\n",
              "        text-align: right;\n",
              "    }\n",
              "</style>\n",
              "<table border=\"1\" class=\"dataframe\">\n",
              "  <thead>\n",
              "    <tr style=\"text-align: right;\">\n",
              "      <th></th>\n",
              "      <th>Feature</th>\n",
              "      <th>Percentage</th>\n",
              "    </tr>\n",
              "  </thead>\n",
              "  <tbody>\n",
              "    <tr>\n",
              "      <th>11</th>\n",
              "      <td>Wants to increase salary</td>\n",
              "      <td>31.21</td>\n",
              "    </tr>\n",
              "    <tr>\n",
              "      <th>10</th>\n",
              "      <td>Wants a more interesting job</td>\n",
              "      <td>12.80</td>\n",
              "    </tr>\n",
              "    <tr>\n",
              "      <th>9</th>\n",
              "      <td>Wants a CDI</td>\n",
              "      <td>11.34</td>\n",
              "    </tr>\n",
              "    <tr>\n",
              "      <th>8</th>\n",
              "      <td>Need to work with conditions that are less str...</td>\n",
              "      <td>8.38</td>\n",
              "    </tr>\n",
              "    <tr>\n",
              "      <th>7</th>\n",
              "      <td>Risk of losing or gonna lose current job</td>\n",
              "      <td>7.29</td>\n",
              "    </tr>\n",
              "    <tr>\n",
              "      <th>6</th>\n",
              "      <td>Wants to work more hours</td>\n",
              "      <td>6.47</td>\n",
              "    </tr>\n",
              "    <tr>\n",
              "      <th>5</th>\n",
              "      <td>Wants to change of job or activity sector</td>\n",
              "      <td>6.41</td>\n",
              "    </tr>\n",
              "    <tr>\n",
              "      <th>4</th>\n",
              "      <td>Finds the work atmosphere bad, conflicting wor...</td>\n",
              "      <td>5.63</td>\n",
              "    </tr>\n",
              "    <tr>\n",
              "      <th>3</th>\n",
              "      <td>Need more suitable or flexible hourly rhythm</td>\n",
              "      <td>5.08</td>\n",
              "    </tr>\n",
              "    <tr>\n",
              "      <th>2</th>\n",
              "      <td>Wants to reduce transport time</td>\n",
              "      <td>2.75</td>\n",
              "    </tr>\n",
              "    <tr>\n",
              "      <th>1</th>\n",
              "      <td>Want to be a freelance</td>\n",
              "      <td>1.63</td>\n",
              "    </tr>\n",
              "    <tr>\n",
              "      <th>0</th>\n",
              "      <td>Need or wants to move</td>\n",
              "      <td>1.00</td>\n",
              "    </tr>\n",
              "  </tbody>\n",
              "</table>\n",
              "</div>"
            ],
            "text/plain": [
              "                                              Feature  Percentage\n",
              "11                           Wants to increase salary       31.21\n",
              "10                       Wants a more interesting job       12.80\n",
              "9                                         Wants a CDI       11.34\n",
              "8   Need to work with conditions that are less str...        8.38\n",
              "7            Risk of losing or gonna lose current job        7.29\n",
              "6                            Wants to work more hours        6.47\n",
              "5           Wants to change of job or activity sector        6.41\n",
              "4   Finds the work atmosphere bad, conflicting wor...        5.63\n",
              "3        Need more suitable or flexible hourly rhythm        5.08\n",
              "2                      Wants to reduce transport time        2.75\n",
              "1                              Want to be a freelance        1.63\n",
              "0                               Need or wants to move        1.00"
            ]
          },
          "metadata": {
            "tags": []
          },
          "execution_count": 23
        }
      ]
    },
    {
      "cell_type": "code",
      "metadata": {
        "colab": {
          "base_uri": "https://localhost:8080/",
          "height": 316
        },
        "id": "I3j4qraB-9GU",
        "outputId": "e51e3129-3726-4e7f-f61a-6dc986b80156"
      },
      "source": [
        ""
      ],
      "execution_count": null,
      "outputs": [
        {
          "output_type": "display_data",
          "data": {
            "image/png": "[encoded data removed]",
            "image/svg+xml": "<?xml version=\"1.0\" encoding=\"utf-8\" standalone=\"no\"?>\n<!DOCTYPE svg PUBLIC \"-//W3C//DTD SVG 1.1//EN\"\n  \"http://www.w3.org/Graphics/SVG/1.1/DTD/svg11.dtd\">\n<!-- Created with matplotlib (https://matplotlib.org/) -->\n<svg height=\"331.674375pt\" version=\"1.1\" viewBox=\"0 0 1307.96875 331.674375\" width=\"1307.96875pt\" xmlns=\"http://www.w3.org/2000/svg\" xmlns:xlink=\"http://www.w3.org/1999/xlink\">\n <metadata>\n  <rdf:RDF xmlns:cc=\"http://creativecommons.org/ns#\" xmlns:dc=\"http://purl.org/dc/elements/1.1/\" xmlns:rdf=\"http://www.w3.org/1999/02/22-rdf-syntax-ns#\">\n   <cc:Work>\n    <dc:type rdf:resource=\"http://purl.org/dc/dcmitype/StillImage\"/>\n    <dc:date>2020-11-17T20:01:45.811623</dc:date>\n    <dc:format>image/svg+xml</dc:format>\n    <dc:creator>\n     <cc:Agent>\n      <dc:title>Matplotlib v3.3.3, https://matplotlib.org/</dc:title>\n     </cc:Agent>\n    </dc:creator>\n   </cc:Work>\n  </rdf:RDF>\n </metadata>\n <defs>\n  <style type=\"text/css\">*{stroke-linecap:butt;stroke-linejoin:round;}</style>\n </defs>\n <g id=\"figure_1\">\n  <g id=\"patch_1\">\n   <path d=\"M 0 331.674375 \nL 1307.96875 331.674375 \nL 1307.96875 0 \nL 0 0 \nz\n\" style=\"fill:none;\"/>\n  </g>\n  <g id=\"axes_1\">\n   <g id=\"patch_2\">\n    <path d=\"M 463.76875 294.118125 \nL 1300.76875 294.118125 \nL 1300.76875 22.318125 \nL 463.76875 22.318125 \nz\n\" style=\"fill:#ffffff;\"/>\n   </g>\n   <g id=\"patch_3\">\n    <path clip-path=\"url(#pc2ab0cf713)\" d=\"M 463.76875 281.76358 \nL 489.310014 281.76358 \nL 489.310014 265.011654 \nL 463.76875 265.011654 \nz\n\" style=\"fill:#1f77b4;\"/>\n   </g>\n   <g id=\"patch_4\">\n    <path clip-path=\"url(#pc2ab0cf713)\" d=\"M 463.76875 260.823672 \nL 505.401011 260.823672 \nL 505.401011 244.071746 \nL 463.76875 244.071746 \nz\n\" style=\"fill:#1f77b4;\"/>\n   </g>\n   <g id=\"patch_5\">\n    <path clip-path=\"url(#pc2ab0cf713)\" d=\"M 463.76875 239.883764 \nL 534.007227 239.883764 \nL 534.007227 223.131838 \nL 463.76875 223.131838 \nz\n\" style=\"fill:#1f77b4;\"/>\n   </g>\n   <g id=\"patch_6\">\n    <path clip-path=\"url(#pc2ab0cf713)\" d=\"M 463.76875 218.943857 \nL 593.518372 218.943857 \nL 593.518372 202.191931 \nL 463.76875 202.191931 \nz\n\" style=\"fill:#1f77b4;\"/>\n   </g>\n   <g id=\"patch_7\">\n    <path clip-path=\"url(#pc2ab0cf713)\" d=\"M 463.76875 198.003949 \nL 607.566068 198.003949 \nL 607.566068 181.252023 \nL 463.76875 181.252023 \nz\n\" style=\"fill:#1f77b4;\"/>\n   </g>\n   <g id=\"patch_8\">\n    <path clip-path=\"url(#pc2ab0cf713)\" d=\"M 463.76875 177.064042 \nL 627.488254 177.064042 \nL 627.488254 160.312116 \nL 463.76875 160.312116 \nz\n\" style=\"fill:#1f77b4;\"/>\n   </g>\n   <g id=\"patch_9\">\n    <path clip-path=\"url(#pc2ab0cf713)\" d=\"M 463.76875 156.124134 \nL 629.02073 156.124134 \nL 629.02073 139.372208 \nL 463.76875 139.372208 \nz\n\" style=\"fill:#1f77b4;\"/>\n   </g>\n   <g id=\"patch_10\">\n    <path clip-path=\"url(#pc2ab0cf713)\" d=\"M 463.76875 135.184227 \nL 649.964566 135.184227 \nL 649.964566 118.432301 \nL 463.76875 118.432301 \nz\n\" style=\"fill:#1f77b4;\"/>\n   </g>\n   <g id=\"patch_11\">\n    <path clip-path=\"url(#pc2ab0cf713)\" d=\"M 463.76875 114.244319 \nL 677.804544 114.244319 \nL 677.804544 97.492393 \nL 463.76875 97.492393 \nz\n\" style=\"fill:#1f77b4;\"/>\n   </g>\n   <g id=\"patch_12\">\n    <path clip-path=\"url(#pc2ab0cf713)\" d=\"M 463.76875 93.304412 \nL 753.406687 93.304412 \nL 753.406687 76.552486 \nL 463.76875 76.552486 \nz\n\" style=\"fill:#1f77b4;\"/>\n   </g>\n   <g id=\"patch_13\">\n    <path clip-path=\"url(#pc2ab0cf713)\" d=\"M 463.76875 72.364504 \nL 790.696932 72.364504 \nL 790.696932 55.612578 \nL 463.76875 55.612578 \nz\n\" style=\"fill:#1f77b4;\"/>\n   </g>\n   <g id=\"patch_14\">\n    <path clip-path=\"url(#pc2ab0cf713)\" d=\"M 463.76875 51.424596 \nL 1260.911607 51.424596 \nL 1260.911607 34.67267 \nL 463.76875 34.67267 \nz\n\" style=\"fill:#1f77b4;\"/>\n   </g>\n   <g id=\"matplotlib.axis_1\">\n    <g id=\"xtick_1\">\n     <g id=\"line2d_1\">\n      <defs>\n       <path d=\"M 0 0 \nL 0 3.5 \n\" id=\"m5dd5dfd6d3\" style=\"stroke:#000000;stroke-width:0.8;\"/>\n      </defs>\n      <g>\n       <use style=\"stroke:#000000;stroke-width:0.8;\" x=\"463.76875\" xlink:href=\"#m5dd5dfd6d3\" y=\"294.118125\"/>\n      </g>\n     </g>\n     <g id=\"text_1\">\n      <!-- 0 -->\n      <g transform=\"translate(460.5875 308.716563)scale(0.1 -0.1)\">\n       <defs>\n        <path d=\"M 31.78125 66.40625 \nQ 24.171875 66.40625 20.328125 58.90625 \nQ 16.5 51.421875 16.5 36.375 \nQ 16.5 21.390625 20.328125 13.890625 \nQ 24.171875 6.390625 31.78125 6.390625 \nQ 39.453125 6.390625 43.28125 13.890625 \nQ 47.125 21.390625 47.125 36.375 \nQ 47.125 51.421875 43.28125 58.90625 \nQ 39.453125 66.40625 31.78125 66.40625 \nz\nM 31.78125 74.21875 \nQ 44.046875 74.21875 50.515625 64.515625 \nQ 56.984375 54.828125 56.984375 36.375 \nQ 56.984375 17.96875 50.515625 8.265625 \nQ 44.046875 -1.421875 31.78125 -1.421875 \nQ 19.53125 -1.421875 13.0625 8.265625 \nQ 6.59375 17.96875 6.59375 36.375 \nQ 6.59375 54.828125 13.0625 64.515625 \nQ 19.53125 74.21875 31.78125 74.21875 \nz\n\" id=\"DejaVuSans-48\"/>\n       </defs>\n       <use xlink:href=\"#DejaVuSans-48\"/>\n      </g>\n     </g>\n    </g>\n    <g id=\"xtick_2\">\n     <g id=\"line2d_2\">\n      <g>\n       <use style=\"stroke:#000000;stroke-width:0.8;\" x=\"591.475071\" xlink:href=\"#m5dd5dfd6d3\" y=\"294.118125\"/>\n      </g>\n     </g>\n     <g id=\"text_2\">\n      <!-- 5 -->\n      <g transform=\"translate(588.293821 308.716563)scale(0.1 -0.1)\">\n       <defs>\n        <path d=\"M 10.796875 72.90625 \nL 49.515625 72.90625 \nL 49.515625 64.59375 \nL 19.828125 64.59375 \nL 19.828125 46.734375 \nQ 21.96875 47.46875 24.109375 47.828125 \nQ 26.265625 48.1875 28.421875 48.1875 \nQ 40.625 48.1875 47.75 41.5 \nQ 54.890625 34.8125 54.890625 23.390625 \nQ 54.890625 11.625 47.5625 5.09375 \nQ 40.234375 -1.421875 26.90625 -1.421875 \nQ 22.3125 -1.421875 17.546875 -0.640625 \nQ 12.796875 0.140625 7.71875 1.703125 \nL 7.71875 11.625 \nQ 12.109375 9.234375 16.796875 8.0625 \nQ 21.484375 6.890625 26.703125 6.890625 \nQ 35.15625 6.890625 40.078125 11.328125 \nQ 45.015625 15.765625 45.015625 23.390625 \nQ 45.015625 31 40.078125 35.4375 \nQ 35.15625 39.890625 26.703125 39.890625 \nQ 22.75 39.890625 18.8125 39.015625 \nQ 14.890625 38.140625 10.796875 36.28125 \nz\n\" id=\"DejaVuSans-53\"/>\n       </defs>\n       <use xlink:href=\"#DejaVuSans-53\"/>\n      </g>\n     </g>\n    </g>\n    <g id=\"xtick_3\">\n     <g id=\"line2d_3\">\n      <g>\n       <use style=\"stroke:#000000;stroke-width:0.8;\" x=\"719.181392\" xlink:href=\"#m5dd5dfd6d3\" y=\"294.118125\"/>\n      </g>\n     </g>\n     <g id=\"text_3\">\n      <!-- 10 -->\n      <g transform=\"translate(712.818892 308.716563)scale(0.1 -0.1)\">\n       <defs>\n        <path d=\"M 12.40625 8.296875 \nL 28.515625 8.296875 \nL 28.515625 63.921875 \nL 10.984375 60.40625 \nL 10.984375 69.390625 \nL 28.421875 72.90625 \nL 38.28125 72.90625 \nL 38.28125 8.296875 \nL 54.390625 8.296875 \nL 54.390625 0 \nL 12.40625 0 \nz\n\" id=\"DejaVuSans-49\"/>\n       </defs>\n       <use xlink:href=\"#DejaVuSans-49\"/>\n       <use x=\"63.623047\" xlink:href=\"#DejaVuSans-48\"/>\n      </g>\n     </g>\n    </g>\n    <g id=\"xtick_4\">\n     <g id=\"line2d_4\">\n      <g>\n       <use style=\"stroke:#000000;stroke-width:0.8;\" x=\"846.887714\" xlink:href=\"#m5dd5dfd6d3\" y=\"294.118125\"/>\n      </g>\n     </g>\n     <g id=\"text_4\">\n      <!-- 15 -->\n      <g transform=\"translate(840.525214 308.716563)scale(0.1 -0.1)\">\n       <use xlink:href=\"#DejaVuSans-49\"/>\n       <use x=\"63.623047\" xlink:href=\"#DejaVuSans-53\"/>\n      </g>\n     </g>\n    </g>\n    <g id=\"xtick_5\">\n     <g id=\"line2d_5\">\n      <g>\n       <use style=\"stroke:#000000;stroke-width:0.8;\" x=\"974.594035\" xlink:href=\"#m5dd5dfd6d3\" y=\"294.118125\"/>\n      </g>\n     </g>\n     <g id=\"text_5\">\n      <!-- 20 -->\n      <g transform=\"translate(968.231535 308.716563)scale(0.1 -0.1)\">\n       <defs>\n        <path d=\"M 19.1875 8.296875 \nL 53.609375 8.296875 \nL 53.609375 0 \nL 7.328125 0 \nL 7.328125 8.296875 \nQ 12.9375 14.109375 22.625 23.890625 \nQ 32.328125 33.6875 34.8125 36.53125 \nQ 39.546875 41.84375 41.421875 45.53125 \nQ 43.3125 49.21875 43.3125 52.78125 \nQ 43.3125 58.59375 39.234375 62.25 \nQ 35.15625 65.921875 28.609375 65.921875 \nQ 23.96875 65.921875 18.8125 64.3125 \nQ 13.671875 62.703125 7.8125 59.421875 \nL 7.8125 69.390625 \nQ 13.765625 71.78125 18.9375 73 \nQ 24.125 74.21875 28.421875 74.21875 \nQ 39.75 74.21875 46.484375 68.546875 \nQ 53.21875 62.890625 53.21875 53.421875 \nQ 53.21875 48.921875 51.53125 44.890625 \nQ 49.859375 40.875 45.40625 35.40625 \nQ 44.1875 33.984375 37.640625 27.21875 \nQ 31.109375 20.453125 19.1875 8.296875 \nz\n\" id=\"DejaVuSans-50\"/>\n       </defs>\n       <use xlink:href=\"#DejaVuSans-50\"/>\n       <use x=\"63.623047\" xlink:href=\"#DejaVuSans-48\"/>\n      </g>\n     </g>\n    </g>\n    <g id=\"xtick_6\">\n     <g id=\"line2d_6\">\n      <g>\n       <use style=\"stroke:#000000;stroke-width:0.8;\" x=\"1102.300356\" xlink:href=\"#m5dd5dfd6d3\" y=\"294.118125\"/>\n      </g>\n     </g>\n     <g id=\"text_6\">\n      <!-- 25 -->\n      <g transform=\"translate(1095.937856 308.716563)scale(0.1 -0.1)\">\n       <use xlink:href=\"#DejaVuSans-50\"/>\n       <use x=\"63.623047\" xlink:href=\"#DejaVuSans-53\"/>\n      </g>\n     </g>\n    </g>\n    <g id=\"xtick_7\">\n     <g id=\"line2d_7\">\n      <g>\n       <use style=\"stroke:#000000;stroke-width:0.8;\" x=\"1230.006677\" xlink:href=\"#m5dd5dfd6d3\" y=\"294.118125\"/>\n      </g>\n     </g>\n     <g id=\"text_7\">\n      <!-- 30 -->\n      <g transform=\"translate(1223.644177 308.716563)scale(0.1 -0.1)\">\n       <defs>\n        <path d=\"M 40.578125 39.3125 \nQ 47.65625 37.796875 51.625 33 \nQ 55.609375 28.21875 55.609375 21.1875 \nQ 55.609375 10.40625 48.1875 4.484375 \nQ 40.765625 -1.421875 27.09375 -1.421875 \nQ 22.515625 -1.421875 17.65625 -0.515625 \nQ 12.796875 0.390625 7.625 2.203125 \nL 7.625 11.71875 \nQ 11.71875 9.328125 16.59375 8.109375 \nQ 21.484375 6.890625 26.8125 6.890625 \nQ 36.078125 6.890625 40.9375 10.546875 \nQ 45.796875 14.203125 45.796875 21.1875 \nQ 45.796875 27.640625 41.28125 31.265625 \nQ 36.765625 34.90625 28.71875 34.90625 \nL 20.21875 34.90625 \nL 20.21875 43.015625 \nL 29.109375 43.015625 \nQ 36.375 43.015625 40.234375 45.921875 \nQ 44.09375 48.828125 44.09375 54.296875 \nQ 44.09375 59.90625 40.109375 62.90625 \nQ 36.140625 65.921875 28.71875 65.921875 \nQ 24.65625 65.921875 20.015625 65.03125 \nQ 15.375 64.15625 9.8125 62.3125 \nL 9.8125 71.09375 \nQ 15.4375 72.65625 20.34375 73.4375 \nQ 25.25 74.21875 29.59375 74.21875 \nQ 40.828125 74.21875 47.359375 69.109375 \nQ 53.90625 64.015625 53.90625 55.328125 \nQ 53.90625 49.265625 50.4375 45.09375 \nQ 46.96875 40.921875 40.578125 39.3125 \nz\n\" id=\"DejaVuSans-51\"/>\n       </defs>\n       <use xlink:href=\"#DejaVuSans-51\"/>\n       <use x=\"63.623047\" xlink:href=\"#DejaVuSans-48\"/>\n      </g>\n     </g>\n    </g>\n    <g id=\"text_8\">\n     <!-- Percentage repartition -->\n     <g transform=\"translate(826.317187 322.394687)scale(0.1 -0.1)\">\n      <defs>\n       <path d=\"M 19.671875 64.796875 \nL 19.671875 37.40625 \nL 32.078125 37.40625 \nQ 38.96875 37.40625 42.71875 40.96875 \nQ 46.484375 44.53125 46.484375 51.125 \nQ 46.484375 57.671875 42.71875 61.234375 \nQ 38.96875 64.796875 32.078125 64.796875 \nz\nM 9.8125 72.90625 \nL 32.078125 72.90625 \nQ 44.34375 72.90625 50.609375 67.359375 \nQ 56.890625 61.8125 56.890625 51.125 \nQ 56.890625 40.328125 50.609375 34.8125 \nQ 44.34375 29.296875 32.078125 29.296875 \nL 19.671875 29.296875 \nL 19.671875 0 \nL 9.8125 0 \nz\n\" id=\"DejaVuSans-80\"/>\n       <path d=\"M 56.203125 29.59375 \nL 56.203125 25.203125 \nL 14.890625 25.203125 \nQ 15.484375 15.921875 20.484375 11.0625 \nQ 25.484375 6.203125 34.421875 6.203125 \nQ 39.59375 6.203125 44.453125 7.46875 \nQ 49.3125 8.734375 54.109375 11.28125 \nL 54.109375 2.78125 \nQ 49.265625 0.734375 44.1875 -0.34375 \nQ 39.109375 -1.421875 33.890625 -1.421875 \nQ 20.796875 -1.421875 13.15625 6.1875 \nQ 5.515625 13.8125 5.515625 26.8125 \nQ 5.515625 40.234375 12.765625 48.109375 \nQ 20.015625 56 32.328125 56 \nQ 43.359375 56 49.78125 48.890625 \nQ 56.203125 41.796875 56.203125 29.59375 \nz\nM 47.21875 32.234375 \nQ 47.125 39.59375 43.09375 43.984375 \nQ 39.0625 48.390625 32.421875 48.390625 \nQ 24.90625 48.390625 20.390625 44.140625 \nQ 15.875 39.890625 15.1875 32.171875 \nz\n\" id=\"DejaVuSans-101\"/>\n       <path d=\"M 41.109375 46.296875 \nQ 39.59375 47.171875 37.8125 47.578125 \nQ 36.03125 48 33.890625 48 \nQ 26.265625 48 22.1875 43.046875 \nQ 18.109375 38.09375 18.109375 28.8125 \nL 18.109375 0 \nL 9.078125 0 \nL 9.078125 54.6875 \nL 18.109375 54.6875 \nL 18.109375 46.1875 \nQ 20.953125 51.171875 25.484375 53.578125 \nQ 30.03125 56 36.53125 56 \nQ 37.453125 56 38.578125 55.875 \nQ 39.703125 55.765625 41.0625 55.515625 \nz\n\" id=\"DejaVuSans-114\"/>\n       <path d=\"M 48.78125 52.59375 \nL 48.78125 44.1875 \nQ 44.96875 46.296875 41.140625 47.34375 \nQ 37.3125 48.390625 33.40625 48.390625 \nQ 24.65625 48.390625 19.8125 42.84375 \nQ 14.984375 37.3125 14.984375 27.296875 \nQ 14.984375 17.28125 19.8125 11.734375 \nQ 24.65625 6.203125 33.40625 6.203125 \nQ 37.3125 6.203125 41.140625 7.25 \nQ 44.96875 8.296875 48.78125 10.40625 \nL 48.78125 2.09375 \nQ 45.015625 0.34375 40.984375 -0.53125 \nQ 36.96875 -1.421875 32.421875 -1.421875 \nQ 20.0625 -1.421875 12.78125 6.34375 \nQ 5.515625 14.109375 5.515625 27.296875 \nQ 5.515625 40.671875 12.859375 48.328125 \nQ 20.21875 56 33.015625 56 \nQ 37.15625 56 41.109375 55.140625 \nQ 45.0625 54.296875 48.78125 52.59375 \nz\n\" id=\"DejaVuSans-99\"/>\n       <path d=\"M 54.890625 33.015625 \nL 54.890625 0 \nL 45.90625 0 \nL 45.90625 32.71875 \nQ 45.90625 40.484375 42.875 44.328125 \nQ 39.84375 48.1875 33.796875 48.1875 \nQ 26.515625 48.1875 22.3125 43.546875 \nQ 18.109375 38.921875 18.109375 30.90625 \nL 18.109375 0 \nL 9.078125 0 \nL 9.078125 54.6875 \nL 18.109375 54.6875 \nL 18.109375 46.1875 \nQ 21.34375 51.125 25.703125 53.5625 \nQ 30.078125 56 35.796875 56 \nQ 45.21875 56 50.046875 50.171875 \nQ 54.890625 44.34375 54.890625 33.015625 \nz\n\" id=\"DejaVuSans-110\"/>\n       <path d=\"M 18.3125 70.21875 \nL 18.3125 54.6875 \nL 36.8125 54.6875 \nL 36.8125 47.703125 \nL 18.3125 47.703125 \nL 18.3125 18.015625 \nQ 18.3125 11.328125 20.140625 9.421875 \nQ 21.96875 7.515625 27.59375 7.515625 \nL 36.8125 7.515625 \nL 36.8125 0 \nL 27.59375 0 \nQ 17.1875 0 13.234375 3.875 \nQ 9.28125 7.765625 9.28125 18.015625 \nL 9.28125 47.703125 \nL 2.6875 47.703125 \nL 2.6875 54.6875 \nL 9.28125 54.6875 \nL 9.28125 70.21875 \nz\n\" id=\"DejaVuSans-116\"/>\n       <path d=\"M 34.28125 27.484375 \nQ 23.390625 27.484375 19.1875 25 \nQ 14.984375 22.515625 14.984375 16.5 \nQ 14.984375 11.71875 18.140625 8.90625 \nQ 21.296875 6.109375 26.703125 6.109375 \nQ 34.1875 6.109375 38.703125 11.40625 \nQ 43.21875 16.703125 43.21875 25.484375 \nL 43.21875 27.484375 \nz\nM 52.203125 31.203125 \nL 52.203125 0 \nL 43.21875 0 \nL 43.21875 8.296875 \nQ 40.140625 3.328125 35.546875 0.953125 \nQ 30.953125 -1.421875 24.3125 -1.421875 \nQ 15.921875 -1.421875 10.953125 3.296875 \nQ 6 8.015625 6 15.921875 \nQ 6 25.140625 12.171875 29.828125 \nQ 18.359375 34.515625 30.609375 34.515625 \nL 43.21875 34.515625 \nL 43.21875 35.40625 \nQ 43.21875 41.609375 39.140625 45 \nQ 35.0625 48.390625 27.6875 48.390625 \nQ 23 48.390625 18.546875 47.265625 \nQ 14.109375 46.140625 10.015625 43.890625 \nL 10.015625 52.203125 \nQ 14.9375 54.109375 19.578125 55.046875 \nQ 24.21875 56 28.609375 56 \nQ 40.484375 56 46.34375 49.84375 \nQ 52.203125 43.703125 52.203125 31.203125 \nz\n\" id=\"DejaVuSans-97\"/>\n       <path d=\"M 45.40625 27.984375 \nQ 45.40625 37.75 41.375 43.109375 \nQ 37.359375 48.484375 30.078125 48.484375 \nQ 22.859375 48.484375 18.828125 43.109375 \nQ 14.796875 37.75 14.796875 27.984375 \nQ 14.796875 18.265625 18.828125 12.890625 \nQ 22.859375 7.515625 30.078125 7.515625 \nQ 37.359375 7.515625 41.375 12.890625 \nQ 45.40625 18.265625 45.40625 27.984375 \nz\nM 54.390625 6.78125 \nQ 54.390625 -7.171875 48.1875 -13.984375 \nQ 42 -20.796875 29.203125 -20.796875 \nQ 24.46875 -20.796875 20.265625 -20.09375 \nQ 16.0625 -19.390625 12.109375 -17.921875 \nL 12.109375 -9.1875 \nQ 16.0625 -11.328125 19.921875 -12.34375 \nQ 23.78125 -13.375 27.78125 -13.375 \nQ 36.625 -13.375 41.015625 -8.765625 \nQ 45.40625 -4.15625 45.40625 5.171875 \nL 45.40625 9.625 \nQ 42.625 4.78125 38.28125 2.390625 \nQ 33.9375 0 27.875 0 \nQ 17.828125 0 11.671875 7.65625 \nQ 5.515625 15.328125 5.515625 27.984375 \nQ 5.515625 40.671875 11.671875 48.328125 \nQ 17.828125 56 27.875 56 \nQ 33.9375 56 38.28125 53.609375 \nQ 42.625 51.21875 45.40625 46.390625 \nL 45.40625 54.6875 \nL 54.390625 54.6875 \nz\n\" id=\"DejaVuSans-103\"/>\n       <path id=\"DejaVuSans-32\"/>\n       <path d=\"M 18.109375 8.203125 \nL 18.109375 -20.796875 \nL 9.078125 -20.796875 \nL 9.078125 54.6875 \nL 18.109375 54.6875 \nL 18.109375 46.390625 \nQ 20.953125 51.265625 25.265625 53.625 \nQ 29.59375 56 35.59375 56 \nQ 45.5625 56 51.78125 48.09375 \nQ 58.015625 40.1875 58.015625 27.296875 \nQ 58.015625 14.40625 51.78125 6.484375 \nQ 45.5625 -1.421875 35.59375 -1.421875 \nQ 29.59375 -1.421875 25.265625 0.953125 \nQ 20.953125 3.328125 18.109375 8.203125 \nz\nM 48.6875 27.296875 \nQ 48.6875 37.203125 44.609375 42.84375 \nQ 40.53125 48.484375 33.40625 48.484375 \nQ 26.265625 48.484375 22.1875 42.84375 \nQ 18.109375 37.203125 18.109375 27.296875 \nQ 18.109375 17.390625 22.1875 11.75 \nQ 26.265625 6.109375 33.40625 6.109375 \nQ 40.53125 6.109375 44.609375 11.75 \nQ 48.6875 17.390625 48.6875 27.296875 \nz\n\" id=\"DejaVuSans-112\"/>\n       <path d=\"M 9.421875 54.6875 \nL 18.40625 54.6875 \nL 18.40625 0 \nL 9.421875 0 \nz\nM 9.421875 75.984375 \nL 18.40625 75.984375 \nL 18.40625 64.59375 \nL 9.421875 64.59375 \nz\n\" id=\"DejaVuSans-105\"/>\n       <path d=\"M 30.609375 48.390625 \nQ 23.390625 48.390625 19.1875 42.75 \nQ 14.984375 37.109375 14.984375 27.296875 \nQ 14.984375 17.484375 19.15625 11.84375 \nQ 23.34375 6.203125 30.609375 6.203125 \nQ 37.796875 6.203125 41.984375 11.859375 \nQ 46.1875 17.53125 46.1875 27.296875 \nQ 46.1875 37.015625 41.984375 42.703125 \nQ 37.796875 48.390625 30.609375 48.390625 \nz\nM 30.609375 56 \nQ 42.328125 56 49.015625 48.375 \nQ 55.71875 40.765625 55.71875 27.296875 \nQ 55.71875 13.875 49.015625 6.21875 \nQ 42.328125 -1.421875 30.609375 -1.421875 \nQ 18.84375 -1.421875 12.171875 6.21875 \nQ 5.515625 13.875 5.515625 27.296875 \nQ 5.515625 40.765625 12.171875 48.375 \nQ 18.84375 56 30.609375 56 \nz\n\" id=\"DejaVuSans-111\"/>\n      </defs>\n      <use xlink:href=\"#DejaVuSans-80\"/>\n      <use x=\"56.677734\" xlink:href=\"#DejaVuSans-101\"/>\n      <use x=\"118.201172\" xlink:href=\"#DejaVuSans-114\"/>\n      <use x=\"157.064453\" xlink:href=\"#DejaVuSans-99\"/>\n      <use x=\"212.044922\" xlink:href=\"#DejaVuSans-101\"/>\n      <use x=\"273.568359\" xlink:href=\"#DejaVuSans-110\"/>\n      <use x=\"336.947266\" xlink:href=\"#DejaVuSans-116\"/>\n      <use x=\"376.15625\" xlink:href=\"#DejaVuSans-97\"/>\n      <use x=\"437.435547\" xlink:href=\"#DejaVuSans-103\"/>\n      <use x=\"500.912109\" xlink:href=\"#DejaVuSans-101\"/>\n      <use x=\"562.435547\" xlink:href=\"#DejaVuSans-32\"/>\n      <use x=\"594.222656\" xlink:href=\"#DejaVuSans-114\"/>\n      <use x=\"633.085938\" xlink:href=\"#DejaVuSans-101\"/>\n      <use x=\"694.609375\" xlink:href=\"#DejaVuSans-112\"/>\n      <use x=\"758.085938\" xlink:href=\"#DejaVuSans-97\"/>\n      <use x=\"819.365234\" xlink:href=\"#DejaVuSans-114\"/>\n      <use x=\"860.478516\" xlink:href=\"#DejaVuSans-116\"/>\n      <use x=\"899.6875\" xlink:href=\"#DejaVuSans-105\"/>\n      <use x=\"927.470703\" xlink:href=\"#DejaVuSans-116\"/>\n      <use x=\"966.679688\" xlink:href=\"#DejaVuSans-105\"/>\n      <use x=\"994.462891\" xlink:href=\"#DejaVuSans-111\"/>\n      <use x=\"1055.644531\" xlink:href=\"#DejaVuSans-110\"/>\n     </g>\n    </g>\n   </g>\n   <g id=\"matplotlib.axis_2\">\n    <g id=\"ytick_1\">\n     <g id=\"line2d_8\">\n      <defs>\n       <path d=\"M 0 0 \nL -3.5 0 \n\" id=\"mc9f93ef83a\" style=\"stroke:#000000;stroke-width:0.8;\"/>\n      </defs>\n      <g>\n       <use style=\"stroke:#000000;stroke-width:0.8;\" x=\"463.76875\" xlink:href=\"#mc9f93ef83a\" y=\"273.387617\"/>\n      </g>\n     </g>\n     <g id=\"text_9\">\n      <!-- Need or wants to move -->\n      <g transform=\"translate(339.946875 277.186835)scale(0.1 -0.1)\">\n       <defs>\n        <path d=\"M 9.8125 72.90625 \nL 23.09375 72.90625 \nL 55.421875 11.921875 \nL 55.421875 72.90625 \nL 64.984375 72.90625 \nL 64.984375 0 \nL 51.703125 0 \nL 19.390625 60.984375 \nL 19.390625 0 \nL 9.8125 0 \nz\n\" id=\"DejaVuSans-78\"/>\n        <path d=\"M 45.40625 46.390625 \nL 45.40625 75.984375 \nL 54.390625 75.984375 \nL 54.390625 0 \nL 45.40625 0 \nL 45.40625 8.203125 \nQ 42.578125 3.328125 38.25 0.953125 \nQ 33.9375 -1.421875 27.875 -1.421875 \nQ 17.96875 -1.421875 11.734375 6.484375 \nQ 5.515625 14.40625 5.515625 27.296875 \nQ 5.515625 40.1875 11.734375 48.09375 \nQ 17.96875 56 27.875 56 \nQ 33.9375 56 38.25 53.625 \nQ 42.578125 51.265625 45.40625 46.390625 \nz\nM 14.796875 27.296875 \nQ 14.796875 17.390625 18.875 11.75 \nQ 22.953125 6.109375 30.078125 6.109375 \nQ 37.203125 6.109375 41.296875 11.75 \nQ 45.40625 17.390625 45.40625 27.296875 \nQ 45.40625 37.203125 41.296875 42.84375 \nQ 37.203125 48.484375 30.078125 48.484375 \nQ 22.953125 48.484375 18.875 42.84375 \nQ 14.796875 37.203125 14.796875 27.296875 \nz\n\" id=\"DejaVuSans-100\"/>\n        <path d=\"M 4.203125 54.6875 \nL 13.1875 54.6875 \nL 24.421875 12.015625 \nL 35.59375 54.6875 \nL 46.1875 54.6875 \nL 57.421875 12.015625 \nL 68.609375 54.6875 \nL 77.59375 54.6875 \nL 63.28125 0 \nL 52.6875 0 \nL 40.921875 44.828125 \nL 29.109375 0 \nL 18.5 0 \nz\n\" id=\"DejaVuSans-119\"/>\n        <path d=\"M 44.28125 53.078125 \nL 44.28125 44.578125 \nQ 40.484375 46.53125 36.375 47.5 \nQ 32.28125 48.484375 27.875 48.484375 \nQ 21.1875 48.484375 17.84375 46.4375 \nQ 14.5 44.390625 14.5 40.28125 \nQ 14.5 37.15625 16.890625 35.375 \nQ 19.28125 33.59375 26.515625 31.984375 \nL 29.59375 31.296875 \nQ 39.15625 29.25 43.1875 25.515625 \nQ 47.21875 21.78125 47.21875 15.09375 \nQ 47.21875 7.46875 41.1875 3.015625 \nQ 35.15625 -1.421875 24.609375 -1.421875 \nQ 20.21875 -1.421875 15.453125 -0.5625 \nQ 10.6875 0.296875 5.421875 2 \nL 5.421875 11.28125 \nQ 10.40625 8.6875 15.234375 7.390625 \nQ 20.0625 6.109375 24.8125 6.109375 \nQ 31.15625 6.109375 34.5625 8.28125 \nQ 37.984375 10.453125 37.984375 14.40625 \nQ 37.984375 18.0625 35.515625 20.015625 \nQ 33.0625 21.96875 24.703125 23.78125 \nL 21.578125 24.515625 \nQ 13.234375 26.265625 9.515625 29.90625 \nQ 5.8125 33.546875 5.8125 39.890625 \nQ 5.8125 47.609375 11.28125 51.796875 \nQ 16.75 56 26.8125 56 \nQ 31.78125 56 36.171875 55.265625 \nQ 40.578125 54.546875 44.28125 53.078125 \nz\n\" id=\"DejaVuSans-115\"/>\n        <path d=\"M 52 44.1875 \nQ 55.375 50.25 60.0625 53.125 \nQ 64.75 56 71.09375 56 \nQ 79.640625 56 84.28125 50.015625 \nQ 88.921875 44.046875 88.921875 33.015625 \nL 88.921875 0 \nL 79.890625 0 \nL 79.890625 32.71875 \nQ 79.890625 40.578125 77.09375 44.375 \nQ 74.3125 48.1875 68.609375 48.1875 \nQ 61.625 48.1875 57.5625 43.546875 \nQ 53.515625 38.921875 53.515625 30.90625 \nL 53.515625 0 \nL 44.484375 0 \nL 44.484375 32.71875 \nQ 44.484375 40.625 41.703125 44.40625 \nQ 38.921875 48.1875 33.109375 48.1875 \nQ 26.21875 48.1875 22.15625 43.53125 \nQ 18.109375 38.875 18.109375 30.90625 \nL 18.109375 0 \nL 9.078125 0 \nL 9.078125 54.6875 \nL 18.109375 54.6875 \nL 18.109375 46.1875 \nQ 21.1875 51.21875 25.484375 53.609375 \nQ 29.78125 56 35.6875 56 \nQ 41.65625 56 45.828125 52.96875 \nQ 50 49.953125 52 44.1875 \nz\n\" id=\"DejaVuSans-109\"/>\n        <path d=\"M 2.984375 54.6875 \nL 12.5 54.6875 \nL 29.59375 8.796875 \nL 46.6875 54.6875 \nL 56.203125 54.6875 \nL 35.6875 0 \nL 23.484375 0 \nz\n\" id=\"DejaVuSans-118\"/>\n       </defs>\n       <use xlink:href=\"#DejaVuSans-78\"/>\n       <use x=\"74.804688\" xlink:href=\"#DejaVuSans-101\"/>\n       <use x=\"136.328125\" xlink:href=\"#DejaVuSans-101\"/>\n       <use x=\"197.851562\" xlink:href=\"#DejaVuSans-100\"/>\n       <use x=\"261.328125\" xlink:href=\"#DejaVuSans-32\"/>\n       <use x=\"293.115234\" xlink:href=\"#DejaVuSans-111\"/>\n       <use x=\"354.296875\" xlink:href=\"#DejaVuSans-114\"/>\n       <use x=\"395.410156\" xlink:href=\"#DejaVuSans-32\"/>\n       <use x=\"427.197266\" xlink:href=\"#DejaVuSans-119\"/>\n       <use x=\"508.984375\" xlink:href=\"#DejaVuSans-97\"/>\n       <use x=\"570.263672\" xlink:href=\"#DejaVuSans-110\"/>\n       <use x=\"633.642578\" xlink:href=\"#DejaVuSans-116\"/>\n       <use x=\"672.851562\" xlink:href=\"#DejaVuSans-115\"/>\n       <use x=\"724.951172\" xlink:href=\"#DejaVuSans-32\"/>\n       <use x=\"756.738281\" xlink:href=\"#DejaVuSans-116\"/>\n       <use x=\"795.947266\" xlink:href=\"#DejaVuSans-111\"/>\n       <use x=\"857.128906\" xlink:href=\"#DejaVuSans-32\"/>\n       <use x=\"888.916016\" xlink:href=\"#DejaVuSans-109\"/>\n       <use x=\"986.328125\" xlink:href=\"#DejaVuSans-111\"/>\n       <use x=\"1047.509766\" xlink:href=\"#DejaVuSans-118\"/>\n       <use x=\"1106.689453\" xlink:href=\"#DejaVuSans-101\"/>\n      </g>\n     </g>\n    </g>\n    <g id=\"ytick_2\">\n     <g id=\"line2d_9\">\n      <g>\n       <use style=\"stroke:#000000;stroke-width:0.8;\" x=\"463.76875\" xlink:href=\"#mc9f93ef83a\" y=\"252.447709\"/>\n      </g>\n     </g>\n     <g id=\"text_10\">\n      <!-- Want to be a freelance -->\n      <g transform=\"translate(343.14375 256.246928)scale(0.1 -0.1)\">\n       <defs>\n        <path d=\"M 3.328125 72.90625 \nL 13.28125 72.90625 \nL 28.609375 11.28125 \nL 43.890625 72.90625 \nL 54.984375 72.90625 \nL 70.3125 11.28125 \nL 85.59375 72.90625 \nL 95.609375 72.90625 \nL 77.296875 0 \nL 64.890625 0 \nL 49.515625 63.28125 \nL 33.984375 0 \nL 21.578125 0 \nz\n\" id=\"DejaVuSans-87\"/>\n        <path d=\"M 48.6875 27.296875 \nQ 48.6875 37.203125 44.609375 42.84375 \nQ 40.53125 48.484375 33.40625 48.484375 \nQ 26.265625 48.484375 22.1875 42.84375 \nQ 18.109375 37.203125 18.109375 27.296875 \nQ 18.109375 17.390625 22.1875 11.75 \nQ 26.265625 6.109375 33.40625 6.109375 \nQ 40.53125 6.109375 44.609375 11.75 \nQ 48.6875 17.390625 48.6875 27.296875 \nz\nM 18.109375 46.390625 \nQ 20.953125 51.265625 25.265625 53.625 \nQ 29.59375 56 35.59375 56 \nQ 45.5625 56 51.78125 48.09375 \nQ 58.015625 40.1875 58.015625 27.296875 \nQ 58.015625 14.40625 51.78125 6.484375 \nQ 45.5625 -1.421875 35.59375 -1.421875 \nQ 29.59375 -1.421875 25.265625 0.953125 \nQ 20.953125 3.328125 18.109375 8.203125 \nL 18.109375 0 \nL 9.078125 0 \nL 9.078125 75.984375 \nL 18.109375 75.984375 \nz\n\" id=\"DejaVuSans-98\"/>\n        <path d=\"M 37.109375 75.984375 \nL 37.109375 68.5 \nL 28.515625 68.5 \nQ 23.6875 68.5 21.796875 66.546875 \nQ 19.921875 64.59375 19.921875 59.515625 \nL 19.921875 54.6875 \nL 34.71875 54.6875 \nL 34.71875 47.703125 \nL 19.921875 47.703125 \nL 19.921875 0 \nL 10.890625 0 \nL 10.890625 47.703125 \nL 2.296875 47.703125 \nL 2.296875 54.6875 \nL 10.890625 54.6875 \nL 10.890625 58.5 \nQ 10.890625 67.625 15.140625 71.796875 \nQ 19.390625 75.984375 28.609375 75.984375 \nz\n\" id=\"DejaVuSans-102\"/>\n        <path d=\"M 9.421875 75.984375 \nL 18.40625 75.984375 \nL 18.40625 0 \nL 9.421875 0 \nz\n\" id=\"DejaVuSans-108\"/>\n       </defs>\n       <use xlink:href=\"#DejaVuSans-87\"/>\n       <use x=\"92.501953\" xlink:href=\"#DejaVuSans-97\"/>\n       <use x=\"153.78125\" xlink:href=\"#DejaVuSans-110\"/>\n       <use x=\"217.160156\" xlink:href=\"#DejaVuSans-116\"/>\n       <use x=\"256.369141\" xlink:href=\"#DejaVuSans-32\"/>\n       <use x=\"288.15625\" xlink:href=\"#DejaVuSans-116\"/>\n       <use x=\"327.365234\" xlink:href=\"#DejaVuSans-111\"/>\n       <use x=\"388.546875\" xlink:href=\"#DejaVuSans-32\"/>\n       <use x=\"420.333984\" xlink:href=\"#DejaVuSans-98\"/>\n       <use x=\"483.810547\" xlink:href=\"#DejaVuSans-101\"/>\n       <use x=\"545.333984\" xlink:href=\"#DejaVuSans-32\"/>\n       <use x=\"577.121094\" xlink:href=\"#DejaVuSans-97\"/>\n       <use x=\"638.400391\" xlink:href=\"#DejaVuSans-32\"/>\n       <use x=\"670.1875\" xlink:href=\"#DejaVuSans-102\"/>\n       <use x=\"705.392578\" xlink:href=\"#DejaVuSans-114\"/>\n       <use x=\"744.255859\" xlink:href=\"#DejaVuSans-101\"/>\n       <use x=\"805.779297\" xlink:href=\"#DejaVuSans-101\"/>\n       <use x=\"867.302734\" xlink:href=\"#DejaVuSans-108\"/>\n       <use x=\"895.085938\" xlink:href=\"#DejaVuSans-97\"/>\n       <use x=\"956.365234\" xlink:href=\"#DejaVuSans-110\"/>\n       <use x=\"1019.744141\" xlink:href=\"#DejaVuSans-99\"/>\n       <use x=\"1074.724609\" xlink:href=\"#DejaVuSans-101\"/>\n      </g>\n     </g>\n    </g>\n    <g id=\"ytick_3\">\n     <g id=\"line2d_10\">\n      <g>\n       <use style=\"stroke:#000000;stroke-width:0.8;\" x=\"463.76875\" xlink:href=\"#mc9f93ef83a\" y=\"231.507801\"/>\n      </g>\n     </g>\n     <g id=\"text_11\">\n      <!-- Wants to reduce transport time -->\n      <g transform=\"translate(299.998438 235.30702)scale(0.1 -0.1)\">\n       <defs>\n        <path d=\"M 8.5 21.578125 \nL 8.5 54.6875 \nL 17.484375 54.6875 \nL 17.484375 21.921875 \nQ 17.484375 14.15625 20.5 10.265625 \nQ 23.53125 6.390625 29.59375 6.390625 \nQ 36.859375 6.390625 41.078125 11.03125 \nQ 45.3125 15.671875 45.3125 23.6875 \nL 45.3125 54.6875 \nL 54.296875 54.6875 \nL 54.296875 0 \nL 45.3125 0 \nL 45.3125 8.40625 \nQ 42.046875 3.421875 37.71875 1 \nQ 33.40625 -1.421875 27.6875 -1.421875 \nQ 18.265625 -1.421875 13.375 4.4375 \nQ 8.5 10.296875 8.5 21.578125 \nz\nM 31.109375 56 \nz\n\" id=\"DejaVuSans-117\"/>\n       </defs>\n       <use xlink:href=\"#DejaVuSans-87\"/>\n       <use x=\"92.501953\" xlink:href=\"#DejaVuSans-97\"/>\n       <use x=\"153.78125\" xlink:href=\"#DejaVuSans-110\"/>\n       <use x=\"217.160156\" xlink:href=\"#DejaVuSans-116\"/>\n       <use x=\"256.369141\" xlink:href=\"#DejaVuSans-115\"/>\n       <use x=\"308.46875\" xlink:href=\"#DejaVuSans-32\"/>\n       <use x=\"340.255859\" xlink:href=\"#DejaVuSans-116\"/>\n       <use x=\"379.464844\" xlink:href=\"#DejaVuSans-111\"/>\n       <use x=\"440.646484\" xlink:href=\"#DejaVuSans-32\"/>\n       <use x=\"472.433594\" xlink:href=\"#DejaVuSans-114\"/>\n       <use x=\"511.296875\" xlink:href=\"#DejaVuSans-101\"/>\n       <use x=\"572.820312\" xlink:href=\"#DejaVuSans-100\"/>\n       <use x=\"636.296875\" xlink:href=\"#DejaVuSans-117\"/>\n       <use x=\"699.675781\" xlink:href=\"#DejaVuSans-99\"/>\n       <use x=\"754.65625\" xlink:href=\"#DejaVuSans-101\"/>\n       <use x=\"816.179688\" xlink:href=\"#DejaVuSans-32\"/>\n       <use x=\"847.966797\" xlink:href=\"#DejaVuSans-116\"/>\n       <use x=\"887.175781\" xlink:href=\"#DejaVuSans-114\"/>\n       <use x=\"928.289062\" xlink:href=\"#DejaVuSans-97\"/>\n       <use x=\"989.568359\" xlink:href=\"#DejaVuSans-110\"/>\n       <use x=\"1052.947266\" xlink:href=\"#DejaVuSans-115\"/>\n       <use x=\"1105.046875\" xlink:href=\"#DejaVuSans-112\"/>\n       <use x=\"1168.523438\" xlink:href=\"#DejaVuSans-111\"/>\n       <use x=\"1229.705078\" xlink:href=\"#DejaVuSans-114\"/>\n       <use x=\"1270.818359\" xlink:href=\"#DejaVuSans-116\"/>\n       <use x=\"1310.027344\" xlink:href=\"#DejaVuSans-32\"/>\n       <use x=\"1341.814453\" xlink:href=\"#DejaVuSans-116\"/>\n       <use x=\"1381.023438\" xlink:href=\"#DejaVuSans-105\"/>\n       <use x=\"1408.806641\" xlink:href=\"#DejaVuSans-109\"/>\n       <use x=\"1506.21875\" xlink:href=\"#DejaVuSans-101\"/>\n      </g>\n     </g>\n    </g>\n    <g id=\"ytick_4\">\n     <g id=\"line2d_11\">\n      <g>\n       <use style=\"stroke:#000000;stroke-width:0.8;\" x=\"463.76875\" xlink:href=\"#mc9f93ef83a\" y=\"210.567894\"/>\n      </g>\n     </g>\n     <g id=\"text_12\">\n      <!-- Need more suitable or flexible hourly rhythm -->\n      <g transform=\"translate(231.7375 214.367113)scale(0.1 -0.1)\">\n       <defs>\n        <path d=\"M 54.890625 54.6875 \nL 35.109375 28.078125 \nL 55.90625 0 \nL 45.3125 0 \nL 29.390625 21.484375 \nL 13.484375 0 \nL 2.875 0 \nL 24.125 28.609375 \nL 4.6875 54.6875 \nL 15.28125 54.6875 \nL 29.78125 35.203125 \nL 44.28125 54.6875 \nz\n\" id=\"DejaVuSans-120\"/>\n        <path d=\"M 54.890625 33.015625 \nL 54.890625 0 \nL 45.90625 0 \nL 45.90625 32.71875 \nQ 45.90625 40.484375 42.875 44.328125 \nQ 39.84375 48.1875 33.796875 48.1875 \nQ 26.515625 48.1875 22.3125 43.546875 \nQ 18.109375 38.921875 18.109375 30.90625 \nL 18.109375 0 \nL 9.078125 0 \nL 9.078125 75.984375 \nL 18.109375 75.984375 \nL 18.109375 46.1875 \nQ 21.34375 51.125 25.703125 53.5625 \nQ 30.078125 56 35.796875 56 \nQ 45.21875 56 50.046875 50.171875 \nQ 54.890625 44.34375 54.890625 33.015625 \nz\n\" id=\"DejaVuSans-104\"/>\n        <path d=\"M 32.171875 -5.078125 \nQ 28.375 -14.84375 24.75 -17.8125 \nQ 21.140625 -20.796875 15.09375 -20.796875 \nL 7.90625 -20.796875 \nL 7.90625 -13.28125 \nL 13.1875 -13.28125 \nQ 16.890625 -13.28125 18.9375 -11.515625 \nQ 21 -9.765625 23.484375 -3.21875 \nL 25.09375 0.875 \nL 2.984375 54.6875 \nL 12.5 54.6875 \nL 29.59375 11.921875 \nL 46.6875 54.6875 \nL 56.203125 54.6875 \nz\n\" id=\"DejaVuSans-121\"/>\n       </defs>\n       <use xlink:href=\"#DejaVuSans-78\"/>\n       <use x=\"74.804688\" xlink:href=\"#DejaVuSans-101\"/>\n       <use x=\"136.328125\" xlink:href=\"#DejaVuSans-101\"/>\n       <use x=\"197.851562\" xlink:href=\"#DejaVuSans-100\"/>\n       <use x=\"261.328125\" xlink:href=\"#DejaVuSans-32\"/>\n       <use x=\"293.115234\" xlink:href=\"#DejaVuSans-109\"/>\n       <use x=\"390.527344\" xlink:href=\"#DejaVuSans-111\"/>\n       <use x=\"451.708984\" xlink:href=\"#DejaVuSans-114\"/>\n       <use x=\"490.572266\" xlink:href=\"#DejaVuSans-101\"/>\n       <use x=\"552.095703\" xlink:href=\"#DejaVuSans-32\"/>\n       <use x=\"583.882812\" xlink:href=\"#DejaVuSans-115\"/>\n       <use x=\"635.982422\" xlink:href=\"#DejaVuSans-117\"/>\n       <use x=\"699.361328\" xlink:href=\"#DejaVuSans-105\"/>\n       <use x=\"727.144531\" xlink:href=\"#DejaVuSans-116\"/>\n       <use x=\"766.353516\" xlink:href=\"#DejaVuSans-97\"/>\n       <use x=\"827.632812\" xlink:href=\"#DejaVuSans-98\"/>\n       <use x=\"891.109375\" xlink:href=\"#DejaVuSans-108\"/>\n       <use x=\"918.892578\" xlink:href=\"#DejaVuSans-101\"/>\n       <use x=\"980.416016\" xlink:href=\"#DejaVuSans-32\"/>\n       <use x=\"1012.203125\" xlink:href=\"#DejaVuSans-111\"/>\n       <use x=\"1073.384766\" xlink:href=\"#DejaVuSans-114\"/>\n       <use x=\"1114.498047\" xlink:href=\"#DejaVuSans-32\"/>\n       <use x=\"1146.285156\" xlink:href=\"#DejaVuSans-102\"/>\n       <use x=\"1181.490234\" xlink:href=\"#DejaVuSans-108\"/>\n       <use x=\"1209.273438\" xlink:href=\"#DejaVuSans-101\"/>\n       <use x=\"1269.046875\" xlink:href=\"#DejaVuSans-120\"/>\n       <use x=\"1328.226562\" xlink:href=\"#DejaVuSans-105\"/>\n       <use x=\"1356.009766\" xlink:href=\"#DejaVuSans-98\"/>\n       <use x=\"1419.486328\" xlink:href=\"#DejaVuSans-108\"/>\n       <use x=\"1447.269531\" xlink:href=\"#DejaVuSans-101\"/>\n       <use x=\"1508.792969\" xlink:href=\"#DejaVuSans-32\"/>\n       <use x=\"1540.580078\" xlink:href=\"#DejaVuSans-104\"/>\n       <use x=\"1603.958984\" xlink:href=\"#DejaVuSans-111\"/>\n       <use x=\"1665.140625\" xlink:href=\"#DejaVuSans-117\"/>\n       <use x=\"1728.519531\" xlink:href=\"#DejaVuSans-114\"/>\n       <use x=\"1769.632812\" xlink:href=\"#DejaVuSans-108\"/>\n       <use x=\"1797.416016\" xlink:href=\"#DejaVuSans-121\"/>\n       <use x=\"1856.595703\" xlink:href=\"#DejaVuSans-32\"/>\n       <use x=\"1888.382812\" xlink:href=\"#DejaVuSans-114\"/>\n       <use x=\"1927.746094\" xlink:href=\"#DejaVuSans-104\"/>\n       <use x=\"1991.125\" xlink:href=\"#DejaVuSans-121\"/>\n       <use x=\"2050.304688\" xlink:href=\"#DejaVuSans-116\"/>\n       <use x=\"2089.513672\" xlink:href=\"#DejaVuSans-104\"/>\n       <use x=\"2152.892578\" xlink:href=\"#DejaVuSans-109\"/>\n      </g>\n     </g>\n    </g>\n    <g id=\"ytick_5\">\n     <g id=\"line2d_12\">\n      <g>\n       <use style=\"stroke:#000000;stroke-width:0.8;\" x=\"463.76875\" xlink:href=\"#mc9f93ef83a\" y=\"189.627986\"/>\n      </g>\n     </g>\n     <g id=\"text_13\">\n      <!-- Finds the work atmosphere bad, conflicting work relations -->\n      <g transform=\"translate(166.792188 193.427205)scale(0.1 -0.1)\">\n       <defs>\n        <path d=\"M 9.8125 72.90625 \nL 51.703125 72.90625 \nL 51.703125 64.59375 \nL 19.671875 64.59375 \nL 19.671875 43.109375 \nL 48.578125 43.109375 \nL 48.578125 34.8125 \nL 19.671875 34.8125 \nL 19.671875 0 \nL 9.8125 0 \nz\n\" id=\"DejaVuSans-70\"/>\n        <path d=\"M 9.078125 75.984375 \nL 18.109375 75.984375 \nL 18.109375 31.109375 \nL 44.921875 54.6875 \nL 56.390625 54.6875 \nL 27.390625 29.109375 \nL 57.625 0 \nL 45.90625 0 \nL 18.109375 26.703125 \nL 18.109375 0 \nL 9.078125 0 \nz\n\" id=\"DejaVuSans-107\"/>\n        <path d=\"M 11.71875 12.40625 \nL 22.015625 12.40625 \nL 22.015625 4 \nL 14.015625 -11.625 \nL 7.71875 -11.625 \nL 11.71875 4 \nz\n\" id=\"DejaVuSans-44\"/>\n       </defs>\n       <use xlink:href=\"#DejaVuSans-70\"/>\n       <use x=\"50.269531\" xlink:href=\"#DejaVuSans-105\"/>\n       <use x=\"78.052734\" xlink:href=\"#DejaVuSans-110\"/>\n       <use x=\"141.431641\" xlink:href=\"#DejaVuSans-100\"/>\n       <use x=\"204.908203\" xlink:href=\"#DejaVuSans-115\"/>\n       <use x=\"257.007812\" xlink:href=\"#DejaVuSans-32\"/>\n       <use x=\"288.794922\" xlink:href=\"#DejaVuSans-116\"/>\n       <use x=\"328.003906\" xlink:href=\"#DejaVuSans-104\"/>\n       <use x=\"391.382812\" xlink:href=\"#DejaVuSans-101\"/>\n       <use x=\"452.90625\" xlink:href=\"#DejaVuSans-32\"/>\n       <use x=\"484.693359\" xlink:href=\"#DejaVuSans-119\"/>\n       <use x=\"566.480469\" xlink:href=\"#DejaVuSans-111\"/>\n       <use x=\"627.662109\" xlink:href=\"#DejaVuSans-114\"/>\n       <use x=\"668.775391\" xlink:href=\"#DejaVuSans-107\"/>\n       <use x=\"726.685547\" xlink:href=\"#DejaVuSans-32\"/>\n       <use x=\"758.472656\" xlink:href=\"#DejaVuSans-97\"/>\n       <use x=\"819.751953\" xlink:href=\"#DejaVuSans-116\"/>\n       <use x=\"858.960938\" xlink:href=\"#DejaVuSans-109\"/>\n       <use x=\"956.373047\" xlink:href=\"#DejaVuSans-111\"/>\n       <use x=\"1017.554688\" xlink:href=\"#DejaVuSans-115\"/>\n       <use x=\"1069.654297\" xlink:href=\"#DejaVuSans-112\"/>\n       <use x=\"1133.130859\" xlink:href=\"#DejaVuSans-104\"/>\n       <use x=\"1196.509766\" xlink:href=\"#DejaVuSans-101\"/>\n       <use x=\"1258.033203\" xlink:href=\"#DejaVuSans-114\"/>\n       <use x=\"1296.896484\" xlink:href=\"#DejaVuSans-101\"/>\n       <use x=\"1358.419922\" xlink:href=\"#DejaVuSans-32\"/>\n       <use x=\"1390.207031\" xlink:href=\"#DejaVuSans-98\"/>\n       <use x=\"1453.683594\" xlink:href=\"#DejaVuSans-97\"/>\n       <use x=\"1514.962891\" xlink:href=\"#DejaVuSans-100\"/>\n       <use x=\"1578.439453\" xlink:href=\"#DejaVuSans-44\"/>\n       <use x=\"1610.226562\" xlink:href=\"#DejaVuSans-32\"/>\n       <use x=\"1642.013672\" xlink:href=\"#DejaVuSans-99\"/>\n       <use x=\"1696.994141\" xlink:href=\"#DejaVuSans-111\"/>\n       <use x=\"1758.175781\" xlink:href=\"#DejaVuSans-110\"/>\n       <use x=\"1821.554688\" xlink:href=\"#DejaVuSans-102\"/>\n       <use x=\"1856.759766\" xlink:href=\"#DejaVuSans-108\"/>\n       <use x=\"1884.542969\" xlink:href=\"#DejaVuSans-105\"/>\n       <use x=\"1912.326172\" xlink:href=\"#DejaVuSans-99\"/>\n       <use x=\"1967.306641\" xlink:href=\"#DejaVuSans-116\"/>\n       <use x=\"2006.515625\" xlink:href=\"#DejaVuSans-105\"/>\n       <use x=\"2034.298828\" xlink:href=\"#DejaVuSans-110\"/>\n       <use x=\"2097.677734\" xlink:href=\"#DejaVuSans-103\"/>\n       <use x=\"2161.154297\" xlink:href=\"#DejaVuSans-32\"/>\n       <use x=\"2192.941406\" xlink:href=\"#DejaVuSans-119\"/>\n       <use x=\"2274.728516\" xlink:href=\"#DejaVuSans-111\"/>\n       <use x=\"2335.910156\" xlink:href=\"#DejaVuSans-114\"/>\n       <use x=\"2377.023438\" xlink:href=\"#DejaVuSans-107\"/>\n       <use x=\"2434.933594\" xlink:href=\"#DejaVuSans-32\"/>\n       <use x=\"2466.720703\" xlink:href=\"#DejaVuSans-114\"/>\n       <use x=\"2505.583984\" xlink:href=\"#DejaVuSans-101\"/>\n       <use x=\"2567.107422\" xlink:href=\"#DejaVuSans-108\"/>\n       <use x=\"2594.890625\" xlink:href=\"#DejaVuSans-97\"/>\n       <use x=\"2656.169922\" xlink:href=\"#DejaVuSans-116\"/>\n       <use x=\"2695.378906\" xlink:href=\"#DejaVuSans-105\"/>\n       <use x=\"2723.162109\" xlink:href=\"#DejaVuSans-111\"/>\n       <use x=\"2784.34375\" xlink:href=\"#DejaVuSans-110\"/>\n       <use x=\"2847.722656\" xlink:href=\"#DejaVuSans-115\"/>\n      </g>\n     </g>\n    </g>\n    <g id=\"ytick_6\">\n     <g id=\"line2d_13\">\n      <g>\n       <use style=\"stroke:#000000;stroke-width:0.8;\" x=\"463.76875\" xlink:href=\"#mc9f93ef83a\" y=\"168.688079\"/>\n      </g>\n     </g>\n     <g id=\"text_14\">\n      <!-- Wants to change of job or activity sector -->\n      <g transform=\"translate(253.848437 172.487298)scale(0.1 -0.1)\">\n       <defs>\n        <path d=\"M 9.421875 54.6875 \nL 18.40625 54.6875 \nL 18.40625 -0.984375 \nQ 18.40625 -11.421875 14.421875 -16.109375 \nQ 10.453125 -20.796875 1.609375 -20.796875 \nL -1.8125 -20.796875 \nL -1.8125 -13.1875 \nL 0.59375 -13.1875 \nQ 5.71875 -13.1875 7.5625 -10.8125 \nQ 9.421875 -8.453125 9.421875 -0.984375 \nz\nM 9.421875 75.984375 \nL 18.40625 75.984375 \nL 18.40625 64.59375 \nL 9.421875 64.59375 \nz\n\" id=\"DejaVuSans-106\"/>\n       </defs>\n       <use xlink:href=\"#DejaVuSans-87\"/>\n       <use x=\"92.501953\" xlink:href=\"#DejaVuSans-97\"/>\n       <use x=\"153.78125\" xlink:href=\"#DejaVuSans-110\"/>\n       <use x=\"217.160156\" xlink:href=\"#DejaVuSans-116\"/>\n       <use x=\"256.369141\" xlink:href=\"#DejaVuSans-115\"/>\n       <use x=\"308.46875\" xlink:href=\"#DejaVuSans-32\"/>\n       <use x=\"340.255859\" xlink:href=\"#DejaVuSans-116\"/>\n       <use x=\"379.464844\" xlink:href=\"#DejaVuSans-111\"/>\n       <use x=\"440.646484\" xlink:href=\"#DejaVuSans-32\"/>\n       <use x=\"472.433594\" xlink:href=\"#DejaVuSans-99\"/>\n       <use x=\"527.414062\" xlink:href=\"#DejaVuSans-104\"/>\n       <use x=\"590.792969\" xlink:href=\"#DejaVuSans-97\"/>\n       <use x=\"652.072266\" xlink:href=\"#DejaVuSans-110\"/>\n       <use x=\"715.451172\" xlink:href=\"#DejaVuSans-103\"/>\n       <use x=\"778.927734\" xlink:href=\"#DejaVuSans-101\"/>\n       <use x=\"840.451172\" xlink:href=\"#DejaVuSans-32\"/>\n       <use x=\"872.238281\" xlink:href=\"#DejaVuSans-111\"/>\n       <use x=\"933.419922\" xlink:href=\"#DejaVuSans-102\"/>\n       <use x=\"968.625\" xlink:href=\"#DejaVuSans-32\"/>\n       <use x=\"1000.412109\" xlink:href=\"#DejaVuSans-106\"/>\n       <use x=\"1028.195312\" xlink:href=\"#DejaVuSans-111\"/>\n       <use x=\"1089.376953\" xlink:href=\"#DejaVuSans-98\"/>\n       <use x=\"1152.853516\" xlink:href=\"#DejaVuSans-32\"/>\n       <use x=\"1184.640625\" xlink:href=\"#DejaVuSans-111\"/>\n       <use x=\"1245.822266\" xlink:href=\"#DejaVuSans-114\"/>\n       <use x=\"1286.935547\" xlink:href=\"#DejaVuSans-32\"/>\n       <use x=\"1318.722656\" xlink:href=\"#DejaVuSans-97\"/>\n       <use x=\"1380.001953\" xlink:href=\"#DejaVuSans-99\"/>\n       <use x=\"1434.982422\" xlink:href=\"#DejaVuSans-116\"/>\n       <use x=\"1474.191406\" xlink:href=\"#DejaVuSans-105\"/>\n       <use x=\"1501.974609\" xlink:href=\"#DejaVuSans-118\"/>\n       <use x=\"1561.154297\" xlink:href=\"#DejaVuSans-105\"/>\n       <use x=\"1588.9375\" xlink:href=\"#DejaVuSans-116\"/>\n       <use x=\"1628.146484\" xlink:href=\"#DejaVuSans-121\"/>\n       <use x=\"1687.326172\" xlink:href=\"#DejaVuSans-32\"/>\n       <use x=\"1719.113281\" xlink:href=\"#DejaVuSans-115\"/>\n       <use x=\"1771.212891\" xlink:href=\"#DejaVuSans-101\"/>\n       <use x=\"1832.736328\" xlink:href=\"#DejaVuSans-99\"/>\n       <use x=\"1887.716797\" xlink:href=\"#DejaVuSans-116\"/>\n       <use x=\"1926.925781\" xlink:href=\"#DejaVuSans-111\"/>\n       <use x=\"1988.107422\" xlink:href=\"#DejaVuSans-114\"/>\n      </g>\n     </g>\n    </g>\n    <g id=\"ytick_7\">\n     <g id=\"line2d_14\">\n      <g>\n       <use style=\"stroke:#000000;stroke-width:0.8;\" x=\"463.76875\" xlink:href=\"#mc9f93ef83a\" y=\"147.748171\"/>\n      </g>\n     </g>\n     <g id=\"text_15\">\n      <!-- Wants to work more hours -->\n      <g transform=\"translate(324.960938 151.54739)scale(0.1 -0.1)\">\n       <use xlink:href=\"#DejaVuSans-87\"/>\n       <use x=\"92.501953\" xlink:href=\"#DejaVuSans-97\"/>\n       <use x=\"153.78125\" xlink:href=\"#DejaVuSans-110\"/>\n       <use x=\"217.160156\" xlink:href=\"#DejaVuSans-116\"/>\n       <use x=\"256.369141\" xlink:href=\"#DejaVuSans-115\"/>\n       <use x=\"308.46875\" xlink:href=\"#DejaVuSans-32\"/>\n       <use x=\"340.255859\" xlink:href=\"#DejaVuSans-116\"/>\n       <use x=\"379.464844\" xlink:href=\"#DejaVuSans-111\"/>\n       <use x=\"440.646484\" xlink:href=\"#DejaVuSans-32\"/>\n       <use x=\"472.433594\" xlink:href=\"#DejaVuSans-119\"/>\n       <use x=\"554.220703\" xlink:href=\"#DejaVuSans-111\"/>\n       <use x=\"615.402344\" xlink:href=\"#DejaVuSans-114\"/>\n       <use x=\"656.515625\" xlink:href=\"#DejaVuSans-107\"/>\n       <use x=\"714.425781\" xlink:href=\"#DejaVuSans-32\"/>\n       <use x=\"746.212891\" xlink:href=\"#DejaVuSans-109\"/>\n       <use x=\"843.625\" xlink:href=\"#DejaVuSans-111\"/>\n       <use x=\"904.806641\" xlink:href=\"#DejaVuSans-114\"/>\n       <use x=\"943.669922\" xlink:href=\"#DejaVuSans-101\"/>\n       <use x=\"1005.193359\" xlink:href=\"#DejaVuSans-32\"/>\n       <use x=\"1036.980469\" xlink:href=\"#DejaVuSans-104\"/>\n       <use x=\"1100.359375\" xlink:href=\"#DejaVuSans-111\"/>\n       <use x=\"1161.541016\" xlink:href=\"#DejaVuSans-117\"/>\n       <use x=\"1224.919922\" xlink:href=\"#DejaVuSans-114\"/>\n       <use x=\"1266.033203\" xlink:href=\"#DejaVuSans-115\"/>\n      </g>\n     </g>\n    </g>\n    <g id=\"ytick_8\">\n     <g id=\"line2d_15\">\n      <g>\n       <use style=\"stroke:#000000;stroke-width:0.8;\" x=\"463.76875\" xlink:href=\"#mc9f93ef83a\" y=\"126.808264\"/>\n      </g>\n     </g>\n     <g id=\"text_16\">\n      <!-- Risk of losing or gonna lose current job -->\n      <g transform=\"translate(261.5125 130.607482)scale(0.1 -0.1)\">\n       <defs>\n        <path d=\"M 44.390625 34.1875 \nQ 47.5625 33.109375 50.5625 29.59375 \nQ 53.5625 26.078125 56.59375 19.921875 \nL 66.609375 0 \nL 56 0 \nL 46.6875 18.703125 \nQ 43.0625 26.03125 39.671875 28.421875 \nQ 36.28125 30.8125 30.421875 30.8125 \nL 19.671875 30.8125 \nL 19.671875 0 \nL 9.8125 0 \nL 9.8125 72.90625 \nL 32.078125 72.90625 \nQ 44.578125 72.90625 50.734375 67.671875 \nQ 56.890625 62.453125 56.890625 51.90625 \nQ 56.890625 45.015625 53.6875 40.46875 \nQ 50.484375 35.9375 44.390625 34.1875 \nz\nM 19.671875 64.796875 \nL 19.671875 38.921875 \nL 32.078125 38.921875 \nQ 39.203125 38.921875 42.84375 42.21875 \nQ 46.484375 45.515625 46.484375 51.90625 \nQ 46.484375 58.296875 42.84375 61.546875 \nQ 39.203125 64.796875 32.078125 64.796875 \nz\n\" id=\"DejaVuSans-82\"/>\n       </defs>\n       <use xlink:href=\"#DejaVuSans-82\"/>\n       <use x=\"69.482422\" xlink:href=\"#DejaVuSans-105\"/>\n       <use x=\"97.265625\" xlink:href=\"#DejaVuSans-115\"/>\n       <use x=\"149.365234\" xlink:href=\"#DejaVuSans-107\"/>\n       <use x=\"207.275391\" xlink:href=\"#DejaVuSans-32\"/>\n       <use x=\"239.0625\" xlink:href=\"#DejaVuSans-111\"/>\n       <use x=\"300.244141\" xlink:href=\"#DejaVuSans-102\"/>\n       <use x=\"335.449219\" xlink:href=\"#DejaVuSans-32\"/>\n       <use x=\"367.236328\" xlink:href=\"#DejaVuSans-108\"/>\n       <use x=\"395.019531\" xlink:href=\"#DejaVuSans-111\"/>\n       <use x=\"456.201172\" xlink:href=\"#DejaVuSans-115\"/>\n       <use x=\"508.300781\" xlink:href=\"#DejaVuSans-105\"/>\n       <use x=\"536.083984\" xlink:href=\"#DejaVuSans-110\"/>\n       <use x=\"599.462891\" xlink:href=\"#DejaVuSans-103\"/>\n       <use x=\"662.939453\" xlink:href=\"#DejaVuSans-32\"/>\n       <use x=\"694.726562\" xlink:href=\"#DejaVuSans-111\"/>\n       <use x=\"755.908203\" xlink:href=\"#DejaVuSans-114\"/>\n       <use x=\"797.021484\" xlink:href=\"#DejaVuSans-32\"/>\n       <use x=\"828.808594\" xlink:href=\"#DejaVuSans-103\"/>\n       <use x=\"892.285156\" xlink:href=\"#DejaVuSans-111\"/>\n       <use x=\"953.466797\" xlink:href=\"#DejaVuSans-110\"/>\n       <use x=\"1016.845703\" xlink:href=\"#DejaVuSans-110\"/>\n       <use x=\"1080.224609\" xlink:href=\"#DejaVuSans-97\"/>\n       <use x=\"1141.503906\" xlink:href=\"#DejaVuSans-32\"/>\n       <use x=\"1173.291016\" xlink:href=\"#DejaVuSans-108\"/>\n       <use x=\"1201.074219\" xlink:href=\"#DejaVuSans-111\"/>\n       <use x=\"1262.255859\" xlink:href=\"#DejaVuSans-115\"/>\n       <use x=\"1314.355469\" xlink:href=\"#DejaVuSans-101\"/>\n       <use x=\"1375.878906\" xlink:href=\"#DejaVuSans-32\"/>\n       <use x=\"1407.666016\" xlink:href=\"#DejaVuSans-99\"/>\n       <use x=\"1462.646484\" xlink:href=\"#DejaVuSans-117\"/>\n       <use x=\"1526.025391\" xlink:href=\"#DejaVuSans-114\"/>\n       <use x=\"1565.388672\" xlink:href=\"#DejaVuSans-114\"/>\n       <use x=\"1604.251953\" xlink:href=\"#DejaVuSans-101\"/>\n       <use x=\"1665.775391\" xlink:href=\"#DejaVuSans-110\"/>\n       <use x=\"1729.154297\" xlink:href=\"#DejaVuSans-116\"/>\n       <use x=\"1768.363281\" xlink:href=\"#DejaVuSans-32\"/>\n       <use x=\"1800.150391\" xlink:href=\"#DejaVuSans-106\"/>\n       <use x=\"1827.933594\" xlink:href=\"#DejaVuSans-111\"/>\n       <use x=\"1889.115234\" xlink:href=\"#DejaVuSans-98\"/>\n      </g>\n     </g>\n    </g>\n    <g id=\"ytick_9\">\n     <g id=\"line2d_16\">\n      <g>\n       <use style=\"stroke:#000000;stroke-width:0.8;\" x=\"463.76875\" xlink:href=\"#mc9f93ef83a\" y=\"105.868356\"/>\n      </g>\n     </g>\n     <g id=\"text_17\">\n      <!-- Need to work with conditions that are less strenuous or more adapted to his or her health -->\n      <g transform=\"translate(7.2 109.667575)scale(0.1 -0.1)\">\n       <use xlink:href=\"#DejaVuSans-78\"/>\n       <use x=\"74.804688\" xlink:href=\"#DejaVuSans-101\"/>\n       <use x=\"136.328125\" xlink:href=\"#DejaVuSans-101\"/>\n       <use x=\"197.851562\" xlink:href=\"#DejaVuSans-100\"/>\n       <use x=\"261.328125\" xlink:href=\"#DejaVuSans-32\"/>\n       <use x=\"293.115234\" xlink:href=\"#DejaVuSans-116\"/>\n       <use x=\"332.324219\" xlink:href=\"#DejaVuSans-111\"/>\n       <use x=\"393.505859\" xlink:href=\"#DejaVuSans-32\"/>\n       <use x=\"425.292969\" xlink:href=\"#DejaVuSans-119\"/>\n       <use x=\"507.080078\" xlink:href=\"#DejaVuSans-111\"/>\n       <use x=\"568.261719\" xlink:href=\"#DejaVuSans-114\"/>\n       <use x=\"609.375\" xlink:href=\"#DejaVuSans-107\"/>\n       <use x=\"667.285156\" xlink:href=\"#DejaVuSans-32\"/>\n       <use x=\"699.072266\" xlink:href=\"#DejaVuSans-119\"/>\n       <use x=\"780.859375\" xlink:href=\"#DejaVuSans-105\"/>\n       <use x=\"808.642578\" xlink:href=\"#DejaVuSans-116\"/>\n       <use x=\"847.851562\" xlink:href=\"#DejaVuSans-104\"/>\n       <use x=\"911.230469\" xlink:href=\"#DejaVuSans-32\"/>\n       <use x=\"943.017578\" xlink:href=\"#DejaVuSans-99\"/>\n       <use x=\"997.998047\" xlink:href=\"#DejaVuSans-111\"/>\n       <use x=\"1059.179688\" xlink:href=\"#DejaVuSans-110\"/>\n       <use x=\"1122.558594\" xlink:href=\"#DejaVuSans-100\"/>\n       <use x=\"1186.035156\" xlink:href=\"#DejaVuSans-105\"/>\n       <use x=\"1213.818359\" xlink:href=\"#DejaVuSans-116\"/>\n       <use x=\"1253.027344\" xlink:href=\"#DejaVuSans-105\"/>\n       <use x=\"1280.810547\" xlink:href=\"#DejaVuSans-111\"/>\n       <use x=\"1341.992188\" xlink:href=\"#DejaVuSans-110\"/>\n       <use x=\"1405.371094\" xlink:href=\"#DejaVuSans-115\"/>\n       <use x=\"1457.470703\" xlink:href=\"#DejaVuSans-32\"/>\n       <use x=\"1489.257812\" xlink:href=\"#DejaVuSans-116\"/>\n       <use x=\"1528.466797\" xlink:href=\"#DejaVuSans-104\"/>\n       <use x=\"1591.845703\" xlink:href=\"#DejaVuSans-97\"/>\n       <use x=\"1653.125\" xlink:href=\"#DejaVuSans-116\"/>\n       <use x=\"1692.333984\" xlink:href=\"#DejaVuSans-32\"/>\n       <use x=\"1724.121094\" xlink:href=\"#DejaVuSans-97\"/>\n       <use x=\"1785.400391\" xlink:href=\"#DejaVuSans-114\"/>\n       <use x=\"1824.263672\" xlink:href=\"#DejaVuSans-101\"/>\n       <use x=\"1885.787109\" xlink:href=\"#DejaVuSans-32\"/>\n       <use x=\"1917.574219\" xlink:href=\"#DejaVuSans-108\"/>\n       <use x=\"1945.357422\" xlink:href=\"#DejaVuSans-101\"/>\n       <use x=\"2006.880859\" xlink:href=\"#DejaVuSans-115\"/>\n       <use x=\"2058.980469\" xlink:href=\"#DejaVuSans-115\"/>\n       <use x=\"2111.080078\" xlink:href=\"#DejaVuSans-32\"/>\n       <use x=\"2142.867188\" xlink:href=\"#DejaVuSans-115\"/>\n       <use x=\"2194.966797\" xlink:href=\"#DejaVuSans-116\"/>\n       <use x=\"2234.175781\" xlink:href=\"#DejaVuSans-114\"/>\n       <use x=\"2273.039062\" xlink:href=\"#DejaVuSans-101\"/>\n       <use x=\"2334.5625\" xlink:href=\"#DejaVuSans-110\"/>\n       <use x=\"2397.941406\" xlink:href=\"#DejaVuSans-117\"/>\n       <use x=\"2461.320312\" xlink:href=\"#DejaVuSans-111\"/>\n       <use x=\"2522.501953\" xlink:href=\"#DejaVuSans-117\"/>\n       <use x=\"2585.880859\" xlink:href=\"#DejaVuSans-115\"/>\n       <use x=\"2637.980469\" xlink:href=\"#DejaVuSans-32\"/>\n       <use x=\"2669.767578\" xlink:href=\"#DejaVuSans-111\"/>\n       <use x=\"2730.949219\" xlink:href=\"#DejaVuSans-114\"/>\n       <use x=\"2772.0625\" xlink:href=\"#DejaVuSans-32\"/>\n       <use x=\"2803.849609\" xlink:href=\"#DejaVuSans-109\"/>\n       <use x=\"2901.261719\" xlink:href=\"#DejaVuSans-111\"/>\n       <use x=\"2962.443359\" xlink:href=\"#DejaVuSans-114\"/>\n       <use x=\"3001.306641\" xlink:href=\"#DejaVuSans-101\"/>\n       <use x=\"3062.830078\" xlink:href=\"#DejaVuSans-32\"/>\n       <use x=\"3094.617188\" xlink:href=\"#DejaVuSans-97\"/>\n       <use x=\"3155.896484\" xlink:href=\"#DejaVuSans-100\"/>\n       <use x=\"3219.373047\" xlink:href=\"#DejaVuSans-97\"/>\n       <use x=\"3280.652344\" xlink:href=\"#DejaVuSans-112\"/>\n       <use x=\"3344.128906\" xlink:href=\"#DejaVuSans-116\"/>\n       <use x=\"3383.337891\" xlink:href=\"#DejaVuSans-101\"/>\n       <use x=\"3444.861328\" xlink:href=\"#DejaVuSans-100\"/>\n       <use x=\"3508.337891\" xlink:href=\"#DejaVuSans-32\"/>\n       <use x=\"3540.125\" xlink:href=\"#DejaVuSans-116\"/>\n       <use x=\"3579.333984\" xlink:href=\"#DejaVuSans-111\"/>\n       <use x=\"3640.515625\" xlink:href=\"#DejaVuSans-32\"/>\n       <use x=\"3672.302734\" xlink:href=\"#DejaVuSans-104\"/>\n       <use x=\"3735.681641\" xlink:href=\"#DejaVuSans-105\"/>\n       <use x=\"3763.464844\" xlink:href=\"#DejaVuSans-115\"/>\n       <use x=\"3815.564453\" xlink:href=\"#DejaVuSans-32\"/>\n       <use x=\"3847.351562\" xlink:href=\"#DejaVuSans-111\"/>\n       <use x=\"3908.533203\" xlink:href=\"#DejaVuSans-114\"/>\n       <use x=\"3949.646484\" xlink:href=\"#DejaVuSans-32\"/>\n       <use x=\"3981.433594\" xlink:href=\"#DejaVuSans-104\"/>\n       <use x=\"4044.8125\" xlink:href=\"#DejaVuSans-101\"/>\n       <use x=\"4106.335938\" xlink:href=\"#DejaVuSans-114\"/>\n       <use x=\"4147.449219\" xlink:href=\"#DejaVuSans-32\"/>\n       <use x=\"4179.236328\" xlink:href=\"#DejaVuSans-104\"/>\n       <use x=\"4242.615234\" xlink:href=\"#DejaVuSans-101\"/>\n       <use x=\"4304.138672\" xlink:href=\"#DejaVuSans-97\"/>\n       <use x=\"4365.417969\" xlink:href=\"#DejaVuSans-108\"/>\n       <use x=\"4393.201172\" xlink:href=\"#DejaVuSans-116\"/>\n       <use x=\"4432.410156\" xlink:href=\"#DejaVuSans-104\"/>\n      </g>\n     </g>\n    </g>\n    <g id=\"ytick_10\">\n     <g id=\"line2d_17\">\n      <g>\n       <use style=\"stroke:#000000;stroke-width:0.8;\" x=\"463.76875\" xlink:href=\"#mc9f93ef83a\" y=\"84.928449\"/>\n      </g>\n     </g>\n     <g id=\"text_18\">\n      <!-- Wants a CDI -->\n      <g transform=\"translate(395.80625 88.727667)scale(0.1 -0.1)\">\n       <defs>\n        <path d=\"M 64.40625 67.28125 \nL 64.40625 56.890625 \nQ 59.421875 61.53125 53.78125 63.8125 \nQ 48.140625 66.109375 41.796875 66.109375 \nQ 29.296875 66.109375 22.65625 58.46875 \nQ 16.015625 50.828125 16.015625 36.375 \nQ 16.015625 21.96875 22.65625 14.328125 \nQ 29.296875 6.6875 41.796875 6.6875 \nQ 48.140625 6.6875 53.78125 8.984375 \nQ 59.421875 11.28125 64.40625 15.921875 \nL 64.40625 5.609375 \nQ 59.234375 2.09375 53.4375 0.328125 \nQ 47.65625 -1.421875 41.21875 -1.421875 \nQ 24.65625 -1.421875 15.125 8.703125 \nQ 5.609375 18.84375 5.609375 36.375 \nQ 5.609375 53.953125 15.125 64.078125 \nQ 24.65625 74.21875 41.21875 74.21875 \nQ 47.75 74.21875 53.53125 72.484375 \nQ 59.328125 70.75 64.40625 67.28125 \nz\n\" id=\"DejaVuSans-67\"/>\n        <path d=\"M 19.671875 64.796875 \nL 19.671875 8.109375 \nL 31.59375 8.109375 \nQ 46.6875 8.109375 53.6875 14.9375 \nQ 60.6875 21.78125 60.6875 36.53125 \nQ 60.6875 51.171875 53.6875 57.984375 \nQ 46.6875 64.796875 31.59375 64.796875 \nz\nM 9.8125 72.90625 \nL 30.078125 72.90625 \nQ 51.265625 72.90625 61.171875 64.09375 \nQ 71.09375 55.28125 71.09375 36.53125 \nQ 71.09375 17.671875 61.125 8.828125 \nQ 51.171875 0 30.078125 0 \nL 9.8125 0 \nz\n\" id=\"DejaVuSans-68\"/>\n        <path d=\"M 9.8125 72.90625 \nL 19.671875 72.90625 \nL 19.671875 0 \nL 9.8125 0 \nz\n\" id=\"DejaVuSans-73\"/>\n       </defs>\n       <use xlink:href=\"#DejaVuSans-87\"/>\n       <use x=\"92.501953\" xlink:href=\"#DejaVuSans-97\"/>\n       <use x=\"153.78125\" xlink:href=\"#DejaVuSans-110\"/>\n       <use x=\"217.160156\" xlink:href=\"#DejaVuSans-116\"/>\n       <use x=\"256.369141\" xlink:href=\"#DejaVuSans-115\"/>\n       <use x=\"308.46875\" xlink:href=\"#DejaVuSans-32\"/>\n       <use x=\"340.255859\" xlink:href=\"#DejaVuSans-97\"/>\n       <use x=\"401.535156\" xlink:href=\"#DejaVuSans-32\"/>\n       <use x=\"433.322266\" xlink:href=\"#DejaVuSans-67\"/>\n       <use x=\"503.146484\" xlink:href=\"#DejaVuSans-68\"/>\n       <use x=\"580.148438\" xlink:href=\"#DejaVuSans-73\"/>\n      </g>\n     </g>\n    </g>\n    <g id=\"ytick_11\">\n     <g id=\"line2d_18\">\n      <g>\n       <use style=\"stroke:#000000;stroke-width:0.8;\" x=\"463.76875\" xlink:href=\"#mc9f93ef83a\" y=\"63.988541\"/>\n      </g>\n     </g>\n     <g id=\"text_19\">\n      <!-- Wants a more interesting job -->\n      <g transform=\"translate(312.117188 67.78776)scale(0.1 -0.1)\">\n       <use xlink:href=\"#DejaVuSans-87\"/>\n       <use x=\"92.501953\" xlink:href=\"#DejaVuSans-97\"/>\n       <use x=\"153.78125\" xlink:href=\"#DejaVuSans-110\"/>\n       <use x=\"217.160156\" xlink:href=\"#DejaVuSans-116\"/>\n       <use x=\"256.369141\" xlink:href=\"#DejaVuSans-115\"/>\n       <use x=\"308.46875\" xlink:href=\"#DejaVuSans-32\"/>\n       <use x=\"340.255859\" xlink:href=\"#DejaVuSans-97\"/>\n       <use x=\"401.535156\" xlink:href=\"#DejaVuSans-32\"/>\n       <use x=\"433.322266\" xlink:href=\"#DejaVuSans-109\"/>\n       <use x=\"530.734375\" xlink:href=\"#DejaVuSans-111\"/>\n       <use x=\"591.916016\" xlink:href=\"#DejaVuSans-114\"/>\n       <use x=\"630.779297\" xlink:href=\"#DejaVuSans-101\"/>\n       <use x=\"692.302734\" xlink:href=\"#DejaVuSans-32\"/>\n       <use x=\"724.089844\" xlink:href=\"#DejaVuSans-105\"/>\n       <use x=\"751.873047\" xlink:href=\"#DejaVuSans-110\"/>\n       <use x=\"815.251953\" xlink:href=\"#DejaVuSans-116\"/>\n       <use x=\"854.460938\" xlink:href=\"#DejaVuSans-101\"/>\n       <use x=\"915.984375\" xlink:href=\"#DejaVuSans-114\"/>\n       <use x=\"954.847656\" xlink:href=\"#DejaVuSans-101\"/>\n       <use x=\"1016.371094\" xlink:href=\"#DejaVuSans-115\"/>\n       <use x=\"1068.470703\" xlink:href=\"#DejaVuSans-116\"/>\n       <use x=\"1107.679688\" xlink:href=\"#DejaVuSans-105\"/>\n       <use x=\"1135.462891\" xlink:href=\"#DejaVuSans-110\"/>\n       <use x=\"1198.841797\" xlink:href=\"#DejaVuSans-103\"/>\n       <use x=\"1262.318359\" xlink:href=\"#DejaVuSans-32\"/>\n       <use x=\"1294.105469\" xlink:href=\"#DejaVuSans-106\"/>\n       <use x=\"1321.888672\" xlink:href=\"#DejaVuSans-111\"/>\n       <use x=\"1383.070312\" xlink:href=\"#DejaVuSans-98\"/>\n      </g>\n     </g>\n    </g>\n    <g id=\"ytick_12\">\n     <g id=\"line2d_19\">\n      <g>\n       <use style=\"stroke:#000000;stroke-width:0.8;\" x=\"463.76875\" xlink:href=\"#mc9f93ef83a\" y=\"43.048633\"/>\n      </g>\n     </g>\n     <g id=\"text_20\">\n      <!-- Wants to increase salary -->\n      <g transform=\"translate(333.932813 46.847852)scale(0.1 -0.1)\">\n       <use xlink:href=\"#DejaVuSans-87\"/>\n       <use x=\"92.501953\" xlink:href=\"#DejaVuSans-97\"/>\n       <use x=\"153.78125\" xlink:href=\"#DejaVuSans-110\"/>\n       <use x=\"217.160156\" xlink:href=\"#DejaVuSans-116\"/>\n       <use x=\"256.369141\" xlink:href=\"#DejaVuSans-115\"/>\n       <use x=\"308.46875\" xlink:href=\"#DejaVuSans-32\"/>\n       <use x=\"340.255859\" xlink:href=\"#DejaVuSans-116\"/>\n       <use x=\"379.464844\" xlink:href=\"#DejaVuSans-111\"/>\n       <use x=\"440.646484\" xlink:href=\"#DejaVuSans-32\"/>\n       <use x=\"472.433594\" xlink:href=\"#DejaVuSans-105\"/>\n       <use x=\"500.216797\" xlink:href=\"#DejaVuSans-110\"/>\n       <use x=\"563.595703\" xlink:href=\"#DejaVuSans-99\"/>\n       <use x=\"618.576172\" xlink:href=\"#DejaVuSans-114\"/>\n       <use x=\"657.439453\" xlink:href=\"#DejaVuSans-101\"/>\n       <use x=\"718.962891\" xlink:href=\"#DejaVuSans-97\"/>\n       <use x=\"780.242188\" xlink:href=\"#DejaVuSans-115\"/>\n       <use x=\"832.341797\" xlink:href=\"#DejaVuSans-101\"/>\n       <use x=\"893.865234\" xlink:href=\"#DejaVuSans-32\"/>\n       <use x=\"925.652344\" xlink:href=\"#DejaVuSans-115\"/>\n       <use x=\"977.751953\" xlink:href=\"#DejaVuSans-97\"/>\n       <use x=\"1039.03125\" xlink:href=\"#DejaVuSans-108\"/>\n       <use x=\"1066.814453\" xlink:href=\"#DejaVuSans-97\"/>\n       <use x=\"1128.09375\" xlink:href=\"#DejaVuSans-114\"/>\n       <use x=\"1169.207031\" xlink:href=\"#DejaVuSans-121\"/>\n      </g>\n     </g>\n    </g>\n   </g>\n   <g id=\"patch_15\">\n    <path d=\"M 463.76875 294.118125 \nL 463.76875 22.318125 \n\" style=\"fill:none;stroke:#000000;stroke-linecap:square;stroke-linejoin:miter;stroke-width:0.8;\"/>\n   </g>\n   <g id=\"patch_16\">\n    <path d=\"M 1300.76875 294.118125 \nL 1300.76875 22.318125 \n\" style=\"fill:none;stroke:#000000;stroke-linecap:square;stroke-linejoin:miter;stroke-width:0.8;\"/>\n   </g>\n   <g id=\"patch_17\">\n    <path d=\"M 463.76875 294.118125 \nL 1300.76875 294.118125 \n\" style=\"fill:none;stroke:#000000;stroke-linecap:square;stroke-linejoin:miter;stroke-width:0.8;\"/>\n   </g>\n   <g id=\"patch_18\">\n    <path d=\"M 463.76875 22.318125 \nL 1300.76875 22.318125 \n\" style=\"fill:none;stroke:#000000;stroke-linecap:square;stroke-linejoin:miter;stroke-width:0.8;\"/>\n   </g>\n   <g id=\"text_21\">\n    <!-- 1.0% -->\n    <g transform=\"translate(489.310014 273.387617)scale(0.1 -0.1)\">\n     <defs>\n      <path d=\"M 10.6875 12.40625 \nL 21 12.40625 \nL 21 0 \nL 10.6875 0 \nz\n\" id=\"DejaVuSans-46\"/>\n      <path d=\"M 72.703125 32.078125 \nQ 68.453125 32.078125 66.03125 28.46875 \nQ 63.625 24.859375 63.625 18.40625 \nQ 63.625 12.0625 66.03125 8.421875 \nQ 68.453125 4.78125 72.703125 4.78125 \nQ 76.859375 4.78125 79.265625 8.421875 \nQ 81.6875 12.0625 81.6875 18.40625 \nQ 81.6875 24.8125 79.265625 28.4375 \nQ 76.859375 32.078125 72.703125 32.078125 \nz\nM 72.703125 38.28125 \nQ 80.421875 38.28125 84.953125 32.90625 \nQ 89.5 27.546875 89.5 18.40625 \nQ 89.5 9.28125 84.9375 3.921875 \nQ 80.375 -1.421875 72.703125 -1.421875 \nQ 64.890625 -1.421875 60.34375 3.921875 \nQ 55.8125 9.28125 55.8125 18.40625 \nQ 55.8125 27.59375 60.375 32.9375 \nQ 64.9375 38.28125 72.703125 38.28125 \nz\nM 22.3125 68.015625 \nQ 18.109375 68.015625 15.6875 64.375 \nQ 13.28125 60.75 13.28125 54.390625 \nQ 13.28125 47.953125 15.671875 44.328125 \nQ 18.0625 40.71875 22.3125 40.71875 \nQ 26.5625 40.71875 28.96875 44.328125 \nQ 31.390625 47.953125 31.390625 54.390625 \nQ 31.390625 60.6875 28.953125 64.34375 \nQ 26.515625 68.015625 22.3125 68.015625 \nz\nM 66.40625 74.21875 \nL 74.21875 74.21875 \nL 28.609375 -1.421875 \nL 20.796875 -1.421875 \nz\nM 22.3125 74.21875 \nQ 30.03125 74.21875 34.609375 68.875 \nQ 39.203125 63.53125 39.203125 54.390625 \nQ 39.203125 45.171875 34.640625 39.84375 \nQ 30.078125 34.515625 22.3125 34.515625 \nQ 14.546875 34.515625 10.03125 39.859375 \nQ 5.515625 45.21875 5.515625 54.390625 \nQ 5.515625 63.484375 10.046875 68.84375 \nQ 14.59375 74.21875 22.3125 74.21875 \nz\n\" id=\"DejaVuSans-37\"/>\n     </defs>\n     <use xlink:href=\"#DejaVuSans-49\"/>\n     <use x=\"63.623047\" xlink:href=\"#DejaVuSans-46\"/>\n     <use x=\"95.410156\" xlink:href=\"#DejaVuSans-48\"/>\n     <use x=\"159.033203\" xlink:href=\"#DejaVuSans-37\"/>\n    </g>\n   </g>\n   <g id=\"text_22\">\n    <!-- 1.63% -->\n    <g transform=\"translate(505.401011 252.447709)scale(0.1 -0.1)\">\n     <defs>\n      <path d=\"M 33.015625 40.375 \nQ 26.375 40.375 22.484375 35.828125 \nQ 18.609375 31.296875 18.609375 23.390625 \nQ 18.609375 15.53125 22.484375 10.953125 \nQ 26.375 6.390625 33.015625 6.390625 \nQ 39.65625 6.390625 43.53125 10.953125 \nQ 47.40625 15.53125 47.40625 23.390625 \nQ 47.40625 31.296875 43.53125 35.828125 \nQ 39.65625 40.375 33.015625 40.375 \nz\nM 52.59375 71.296875 \nL 52.59375 62.3125 \nQ 48.875 64.0625 45.09375 64.984375 \nQ 41.3125 65.921875 37.59375 65.921875 \nQ 27.828125 65.921875 22.671875 59.328125 \nQ 17.53125 52.734375 16.796875 39.40625 \nQ 19.671875 43.65625 24.015625 45.921875 \nQ 28.375 48.1875 33.59375 48.1875 \nQ 44.578125 48.1875 50.953125 41.515625 \nQ 57.328125 34.859375 57.328125 23.390625 \nQ 57.328125 12.15625 50.6875 5.359375 \nQ 44.046875 -1.421875 33.015625 -1.421875 \nQ 20.359375 -1.421875 13.671875 8.265625 \nQ 6.984375 17.96875 6.984375 36.375 \nQ 6.984375 53.65625 15.1875 63.9375 \nQ 23.390625 74.21875 37.203125 74.21875 \nQ 40.921875 74.21875 44.703125 73.484375 \nQ 48.484375 72.75 52.59375 71.296875 \nz\n\" id=\"DejaVuSans-54\"/>\n     </defs>\n     <use xlink:href=\"#DejaVuSans-49\"/>\n     <use x=\"63.623047\" xlink:href=\"#DejaVuSans-46\"/>\n     <use x=\"95.410156\" xlink:href=\"#DejaVuSans-54\"/>\n     <use x=\"159.033203\" xlink:href=\"#DejaVuSans-51\"/>\n     <use x=\"222.65625\" xlink:href=\"#DejaVuSans-37\"/>\n    </g>\n   </g>\n   <g id=\"text_23\">\n    <!-- 2.75% -->\n    <g transform=\"translate(534.007227 231.507801)scale(0.1 -0.1)\">\n     <defs>\n      <path d=\"M 8.203125 72.90625 \nL 55.078125 72.90625 \nL 55.078125 68.703125 \nL 28.609375 0 \nL 18.3125 0 \nL 43.21875 64.59375 \nL 8.203125 64.59375 \nz\n\" id=\"DejaVuSans-55\"/>\n     </defs>\n     <use xlink:href=\"#DejaVuSans-50\"/>\n     <use x=\"63.623047\" xlink:href=\"#DejaVuSans-46\"/>\n     <use x=\"95.410156\" xlink:href=\"#DejaVuSans-55\"/>\n     <use x=\"159.033203\" xlink:href=\"#DejaVuSans-53\"/>\n     <use x=\"222.65625\" xlink:href=\"#DejaVuSans-37\"/>\n    </g>\n   </g>\n   <g id=\"text_24\">\n    <!-- 5.08% -->\n    <g transform=\"translate(593.518372 210.567894)scale(0.1 -0.1)\">\n     <defs>\n      <path d=\"M 31.78125 34.625 \nQ 24.75 34.625 20.71875 30.859375 \nQ 16.703125 27.09375 16.703125 20.515625 \nQ 16.703125 13.921875 20.71875 10.15625 \nQ 24.75 6.390625 31.78125 6.390625 \nQ 38.8125 6.390625 42.859375 10.171875 \nQ 46.921875 13.96875 46.921875 20.515625 \nQ 46.921875 27.09375 42.890625 30.859375 \nQ 38.875 34.625 31.78125 34.625 \nz\nM 21.921875 38.8125 \nQ 15.578125 40.375 12.03125 44.71875 \nQ 8.5 49.078125 8.5 55.328125 \nQ 8.5 64.0625 14.71875 69.140625 \nQ 20.953125 74.21875 31.78125 74.21875 \nQ 42.671875 74.21875 48.875 69.140625 \nQ 55.078125 64.0625 55.078125 55.328125 \nQ 55.078125 49.078125 51.53125 44.71875 \nQ 48 40.375 41.703125 38.8125 \nQ 48.828125 37.15625 52.796875 32.3125 \nQ 56.78125 27.484375 56.78125 20.515625 \nQ 56.78125 9.90625 50.3125 4.234375 \nQ 43.84375 -1.421875 31.78125 -1.421875 \nQ 19.734375 -1.421875 13.25 4.234375 \nQ 6.78125 9.90625 6.78125 20.515625 \nQ 6.78125 27.484375 10.78125 32.3125 \nQ 14.796875 37.15625 21.921875 38.8125 \nz\nM 18.3125 54.390625 \nQ 18.3125 48.734375 21.84375 45.5625 \nQ 25.390625 42.390625 31.78125 42.390625 \nQ 38.140625 42.390625 41.71875 45.5625 \nQ 45.3125 48.734375 45.3125 54.390625 \nQ 45.3125 60.0625 41.71875 63.234375 \nQ 38.140625 66.40625 31.78125 66.40625 \nQ 25.390625 66.40625 21.84375 63.234375 \nQ 18.3125 60.0625 18.3125 54.390625 \nz\n\" id=\"DejaVuSans-56\"/>\n     </defs>\n     <use xlink:href=\"#DejaVuSans-53\"/>\n     <use x=\"63.623047\" xlink:href=\"#DejaVuSans-46\"/>\n     <use x=\"95.410156\" xlink:href=\"#DejaVuSans-48\"/>\n     <use x=\"159.033203\" xlink:href=\"#DejaVuSans-56\"/>\n     <use x=\"222.65625\" xlink:href=\"#DejaVuSans-37\"/>\n    </g>\n   </g>\n   <g id=\"text_25\">\n    <!-- 5.63% -->\n    <g transform=\"translate(607.566068 189.627986)scale(0.1 -0.1)\">\n     <use xlink:href=\"#DejaVuSans-53\"/>\n     <use x=\"63.623047\" xlink:href=\"#DejaVuSans-46\"/>\n     <use x=\"95.410156\" xlink:href=\"#DejaVuSans-54\"/>\n     <use x=\"159.033203\" xlink:href=\"#DejaVuSans-51\"/>\n     <use x=\"222.65625\" xlink:href=\"#DejaVuSans-37\"/>\n    </g>\n   </g>\n   <g id=\"text_26\">\n    <!-- 6.41% -->\n    <g transform=\"translate(627.488254 168.688079)scale(0.1 -0.1)\">\n     <defs>\n      <path d=\"M 37.796875 64.3125 \nL 12.890625 25.390625 \nL 37.796875 25.390625 \nz\nM 35.203125 72.90625 \nL 47.609375 72.90625 \nL 47.609375 25.390625 \nL 58.015625 25.390625 \nL 58.015625 17.1875 \nL 47.609375 17.1875 \nL 47.609375 0 \nL 37.796875 0 \nL 37.796875 17.1875 \nL 4.890625 17.1875 \nL 4.890625 26.703125 \nz\n\" id=\"DejaVuSans-52\"/>\n     </defs>\n     <use xlink:href=\"#DejaVuSans-54\"/>\n     <use x=\"63.623047\" xlink:href=\"#DejaVuSans-46\"/>\n     <use x=\"95.410156\" xlink:href=\"#DejaVuSans-52\"/>\n     <use x=\"159.033203\" xlink:href=\"#DejaVuSans-49\"/>\n     <use x=\"222.65625\" xlink:href=\"#DejaVuSans-37\"/>\n    </g>\n   </g>\n   <g id=\"text_27\">\n    <!-- 6.47% -->\n    <g transform=\"translate(629.02073 147.748171)scale(0.1 -0.1)\">\n     <use xlink:href=\"#DejaVuSans-54\"/>\n     <use x=\"63.623047\" xlink:href=\"#DejaVuSans-46\"/>\n     <use x=\"95.410156\" xlink:href=\"#DejaVuSans-52\"/>\n     <use x=\"159.033203\" xlink:href=\"#DejaVuSans-55\"/>\n     <use x=\"222.65625\" xlink:href=\"#DejaVuSans-37\"/>\n    </g>\n   </g>\n   <g id=\"text_28\">\n    <!-- 7.29% -->\n    <g transform=\"translate(649.964566 126.808264)scale(0.1 -0.1)\">\n     <defs>\n      <path d=\"M 10.984375 1.515625 \nL 10.984375 10.5 \nQ 14.703125 8.734375 18.5 7.8125 \nQ 22.3125 6.890625 25.984375 6.890625 \nQ 35.75 6.890625 40.890625 13.453125 \nQ 46.046875 20.015625 46.78125 33.40625 \nQ 43.953125 29.203125 39.59375 26.953125 \nQ 35.25 24.703125 29.984375 24.703125 \nQ 19.046875 24.703125 12.671875 31.3125 \nQ 6.296875 37.9375 6.296875 49.421875 \nQ 6.296875 60.640625 12.9375 67.421875 \nQ 19.578125 74.21875 30.609375 74.21875 \nQ 43.265625 74.21875 49.921875 64.515625 \nQ 56.59375 54.828125 56.59375 36.375 \nQ 56.59375 19.140625 48.40625 8.859375 \nQ 40.234375 -1.421875 26.421875 -1.421875 \nQ 22.703125 -1.421875 18.890625 -0.6875 \nQ 15.09375 0.046875 10.984375 1.515625 \nz\nM 30.609375 32.421875 \nQ 37.25 32.421875 41.125 36.953125 \nQ 45.015625 41.5 45.015625 49.421875 \nQ 45.015625 57.28125 41.125 61.84375 \nQ 37.25 66.40625 30.609375 66.40625 \nQ 23.96875 66.40625 20.09375 61.84375 \nQ 16.21875 57.28125 16.21875 49.421875 \nQ 16.21875 41.5 20.09375 36.953125 \nQ 23.96875 32.421875 30.609375 32.421875 \nz\n\" id=\"DejaVuSans-57\"/>\n     </defs>\n     <use xlink:href=\"#DejaVuSans-55\"/>\n     <use x=\"63.623047\" xlink:href=\"#DejaVuSans-46\"/>\n     <use x=\"95.410156\" xlink:href=\"#DejaVuSans-50\"/>\n     <use x=\"159.033203\" xlink:href=\"#DejaVuSans-57\"/>\n     <use x=\"222.65625\" xlink:href=\"#DejaVuSans-37\"/>\n    </g>\n   </g>\n   <g id=\"text_29\">\n    <!-- 8.38% -->\n    <g transform=\"translate(677.804544 105.868356)scale(0.1 -0.1)\">\n     <use xlink:href=\"#DejaVuSans-56\"/>\n     <use x=\"63.623047\" xlink:href=\"#DejaVuSans-46\"/>\n     <use x=\"95.410156\" xlink:href=\"#DejaVuSans-51\"/>\n     <use x=\"159.033203\" xlink:href=\"#DejaVuSans-56\"/>\n     <use x=\"222.65625\" xlink:href=\"#DejaVuSans-37\"/>\n    </g>\n   </g>\n   <g id=\"text_30\">\n    <!-- 11.34% -->\n    <g transform=\"translate(753.406687 84.928449)scale(0.1 -0.1)\">\n     <use xlink:href=\"#DejaVuSans-49\"/>\n     <use x=\"63.623047\" xlink:href=\"#DejaVuSans-49\"/>\n     <use x=\"127.246094\" xlink:href=\"#DejaVuSans-46\"/>\n     <use x=\"159.033203\" xlink:href=\"#DejaVuSans-51\"/>\n     <use x=\"222.65625\" xlink:href=\"#DejaVuSans-52\"/>\n     <use x=\"286.279297\" xlink:href=\"#DejaVuSans-37\"/>\n    </g>\n   </g>\n   <g id=\"text_31\">\n    <!-- 12.8% -->\n    <g transform=\"translate(790.696932 63.988541)scale(0.1 -0.1)\">\n     <use xlink:href=\"#DejaVuSans-49\"/>\n     <use x=\"63.623047\" xlink:href=\"#DejaVuSans-50\"/>\n     <use x=\"127.246094\" xlink:href=\"#DejaVuSans-46\"/>\n     <use x=\"159.033203\" xlink:href=\"#DejaVuSans-56\"/>\n     <use x=\"222.65625\" xlink:href=\"#DejaVuSans-37\"/>\n    </g>\n   </g>\n   <g id=\"text_32\">\n    <!-- 31.21% -->\n    <g transform=\"translate(1260.911607 43.048633)scale(0.1 -0.1)\">\n     <use xlink:href=\"#DejaVuSans-51\"/>\n     <use x=\"63.623047\" xlink:href=\"#DejaVuSans-49\"/>\n     <use x=\"127.246094\" xlink:href=\"#DejaVuSans-46\"/>\n     <use x=\"159.033203\" xlink:href=\"#DejaVuSans-50\"/>\n     <use x=\"222.65625\" xlink:href=\"#DejaVuSans-49\"/>\n     <use x=\"286.279297\" xlink:href=\"#DejaVuSans-37\"/>\n    </g>\n   </g>\n   <g id=\"text_33\">\n    <!-- Ranking of the reasons why French people want to change jobs -->\n    <g transform=\"translate(692.217812 16.318125)scale(0.12 -0.12)\">\n     <use xlink:href=\"#DejaVuSans-82\"/>\n     <use x=\"67.232422\" xlink:href=\"#DejaVuSans-97\"/>\n     <use x=\"128.511719\" xlink:href=\"#DejaVuSans-110\"/>\n     <use x=\"191.890625\" xlink:href=\"#DejaVuSans-107\"/>\n     <use x=\"249.800781\" xlink:href=\"#DejaVuSans-105\"/>\n     <use x=\"277.583984\" xlink:href=\"#DejaVuSans-110\"/>\n     <use x=\"340.962891\" xlink:href=\"#DejaVuSans-103\"/>\n     <use x=\"404.439453\" xlink:href=\"#DejaVuSans-32\"/>\n     <use x=\"436.226562\" xlink:href=\"#DejaVuSans-111\"/>\n     <use x=\"497.408203\" xlink:href=\"#DejaVuSans-102\"/>\n     <use x=\"532.613281\" xlink:href=\"#DejaVuSans-32\"/>\n     <use x=\"564.400391\" xlink:href=\"#DejaVuSans-116\"/>\n     <use x=\"603.609375\" xlink:href=\"#DejaVuSans-104\"/>\n     <use x=\"666.988281\" xlink:href=\"#DejaVuSans-101\"/>\n     <use x=\"728.511719\" xlink:href=\"#DejaVuSans-32\"/>\n     <use x=\"760.298828\" xlink:href=\"#DejaVuSans-114\"/>\n     <use x=\"799.162109\" xlink:href=\"#DejaVuSans-101\"/>\n     <use x=\"860.685547\" xlink:href=\"#DejaVuSans-97\"/>\n     <use x=\"921.964844\" xlink:href=\"#DejaVuSans-115\"/>\n     <use x=\"974.064453\" xlink:href=\"#DejaVuSans-111\"/>\n     <use x=\"1035.246094\" xlink:href=\"#DejaVuSans-110\"/>\n     <use x=\"1098.625\" xlink:href=\"#DejaVuSans-115\"/>\n     <use x=\"1150.724609\" xlink:href=\"#DejaVuSans-32\"/>\n     <use x=\"1182.511719\" xlink:href=\"#DejaVuSans-119\"/>\n     <use x=\"1264.298828\" xlink:href=\"#DejaVuSans-104\"/>\n     <use x=\"1327.677734\" xlink:href=\"#DejaVuSans-121\"/>\n     <use x=\"1386.857422\" xlink:href=\"#DejaVuSans-32\"/>\n     <use x=\"1418.644531\" xlink:href=\"#DejaVuSans-70\"/>\n     <use x=\"1468.914062\" xlink:href=\"#DejaVuSans-114\"/>\n     <use x=\"1507.777344\" xlink:href=\"#DejaVuSans-101\"/>\n     <use x=\"1569.300781\" xlink:href=\"#DejaVuSans-110\"/>\n     <use x=\"1632.679688\" xlink:href=\"#DejaVuSans-99\"/>\n     <use x=\"1687.660156\" xlink:href=\"#DejaVuSans-104\"/>\n     <use x=\"1751.039062\" xlink:href=\"#DejaVuSans-32\"/>\n     <use x=\"1782.826172\" xlink:href=\"#DejaVuSans-112\"/>\n     <use x=\"1846.302734\" xlink:href=\"#DejaVuSans-101\"/>\n     <use x=\"1907.826172\" xlink:href=\"#DejaVuSans-111\"/>\n     <use x=\"1969.007812\" xlink:href=\"#DejaVuSans-112\"/>\n     <use x=\"2032.484375\" xlink:href=\"#DejaVuSans-108\"/>\n     <use x=\"2060.267578\" xlink:href=\"#DejaVuSans-101\"/>\n     <use x=\"2121.791016\" xlink:href=\"#DejaVuSans-32\"/>\n     <use x=\"2153.578125\" xlink:href=\"#DejaVuSans-119\"/>\n     <use x=\"2235.365234\" xlink:href=\"#DejaVuSans-97\"/>\n     <use x=\"2296.644531\" xlink:href=\"#DejaVuSans-110\"/>\n     <use x=\"2360.023438\" xlink:href=\"#DejaVuSans-116\"/>\n     <use x=\"2399.232422\" xlink:href=\"#DejaVuSans-32\"/>\n     <use x=\"2431.019531\" xlink:href=\"#DejaVuSans-116\"/>\n     <use x=\"2470.228516\" xlink:href=\"#DejaVuSans-111\"/>\n     <use x=\"2531.410156\" xlink:href=\"#DejaVuSans-32\"/>\n     <use x=\"2563.197266\" xlink:href=\"#DejaVuSans-99\"/>\n     <use x=\"2618.177734\" xlink:href=\"#DejaVuSans-104\"/>\n     <use x=\"2681.556641\" xlink:href=\"#DejaVuSans-97\"/>\n     <use x=\"2742.835938\" xlink:href=\"#DejaVuSans-110\"/>\n     <use x=\"2806.214844\" xlink:href=\"#DejaVuSans-103\"/>\n     <use x=\"2869.691406\" xlink:href=\"#DejaVuSans-101\"/>\n     <use x=\"2931.214844\" xlink:href=\"#DejaVuSans-32\"/>\n     <use x=\"2963.001953\" xlink:href=\"#DejaVuSans-106\"/>\n     <use x=\"2990.785156\" xlink:href=\"#DejaVuSans-111\"/>\n     <use x=\"3051.966797\" xlink:href=\"#DejaVuSans-98\"/>\n     <use x=\"3115.443359\" xlink:href=\"#DejaVuSans-115\"/>\n    </g>\n   </g>\n  </g>\n </g>\n <defs>\n  <clipPath id=\"pc2ab0cf713\">\n   <rect height=\"271.8\" width=\"837\" x=\"463.76875\" y=\"22.318125\"/>\n  </clipPath>\n </defs>\n</svg>\n",
            "text/plain": [
              "<Figure size 1080x360 with 1 Axes>"
            ]
          },
          "metadata": {
            "tags": [],
            "needs_background": "light"
          }
        }
      ]
    },
    {
      "cell_type": "markdown",
      "metadata": {
        "id": "F7hiZaVceCKG"
      },
      "source": [
        "## OPTIONNAL"
      ]
    },
    {
      "cell_type": "markdown",
      "metadata": {
        "id": "u7eu0Y2XDnAF"
      },
      "source": [
        "* Let's end this exercise by looking at the distribution of desired hours for those looking for part-time work. To do this, use the HREC column. \n",
        "\n",
        "  * First try to simply create a histogram without the density function. \n",
        "  * To create the density function, you will need to use the following formula: \n",
        "      ```y = ((1 / (np.sqrt(2 * np.pi) * sigma)) * np.exp(-0.5 * (1 / sigma * (bins - mu))**2))```\n",
        "     \n",
        "     where *mu* is the mean of the distribution and *sigma* is the standard deviation.  \n",
        "     \n",
        "You can help yourself with this tutorial <a href=\"https://matplotlib.org/3.1.1/gallery/statistics/histogram_features.html\" target=\"_blank\">histogram with Density</a>"
      ]
    },
    {
      "cell_type": "code",
      "metadata": {
        "id": "JSHIceUQEqme",
        "colab": {
          "base_uri": "https://localhost:8080/",
          "height": 264
        },
        "outputId": "df51473b-cd2f-494a-c34c-8bfccd0bbf50"
      },
      "source": [
        "# p1=df['HREC'].plot(kind='hist', bins=15, )\n",
        "p2=df['HREC'].plot.kde()"
      ],
      "execution_count": 8,
      "outputs": [
        {
          "output_type": "display_data",
          "data": {
            "image/png": "[encoded data removed]",
            "text/plain": [
              "<Figure size 432x288 with 1 Axes>"
            ]
          },
          "metadata": {
            "tags": [],
            "needs_background": "light"
          }
        }
      ]
    },
    {
      "cell_type": "code",
      "metadata": {
        "colab": {
          "base_uri": "https://localhost:8080/",
          "height": 403
        },
        "id": "mRKUaJVZFoUU",
        "outputId": "adb79403-c002-419d-eaa7-811ed0c30a9c"
      },
      "source": [
        ""
      ],
      "execution_count": null,
      "outputs": [
        {
          "output_type": "display_data",
          "data": {
            "image/png": "[encoded data removed]",
            "image/svg+xml": "<?xml version=\"1.0\" encoding=\"utf-8\" standalone=\"no\"?>\n<!DOCTYPE svg PUBLIC \"-//W3C//DTD SVG 1.1//EN\"\n  \"http://www.w3.org/Graphics/SVG/1.1/DTD/svg11.dtd\">\n<!-- Created with matplotlib (https://matplotlib.org/) -->\n<svg height=\"494.75625pt\" version=\"1.1\" viewBox=\"0 0 503.74375 494.75625\" width=\"503.74375pt\" xmlns=\"http://www.w3.org/2000/svg\" xmlns:xlink=\"http://www.w3.org/1999/xlink\">\n <metadata>\n  <rdf:RDF xmlns:cc=\"http://creativecommons.org/ns#\" xmlns:dc=\"http://purl.org/dc/elements/1.1/\" xmlns:rdf=\"http://www.w3.org/1999/02/22-rdf-syntax-ns#\">\n   <cc:Work>\n    <dc:type rdf:resource=\"http://purl.org/dc/dcmitype/StillImage\"/>\n    <dc:date>2020-11-17T20:01:47.946692</dc:date>\n    <dc:format>image/svg+xml</dc:format>\n    <dc:creator>\n     <cc:Agent>\n      <dc:title>Matplotlib v3.3.3, https://matplotlib.org/</dc:title>\n     </cc:Agent>\n    </dc:creator>\n   </cc:Work>\n  </rdf:RDF>\n </metadata>\n <defs>\n  <style type=\"text/css\">*{stroke-linecap:butt;stroke-linejoin:round;}</style>\n </defs>\n <g id=\"figure_1\">\n  <g id=\"patch_1\">\n   <path d=\"M 0 494.75625 \nL 503.74375 494.75625 \nL 503.74375 0 \nL 0 0 \nz\n\" style=\"fill:none;\"/>\n  </g>\n  <g id=\"axes_1\">\n   <g id=\"patch_2\">\n    <path d=\"M 50.14375 457.2 \nL 496.54375 457.2 \nL 496.54375 22.32 \nL 50.14375 22.32 \nz\n\" style=\"fill:#ffffff;\"/>\n   </g>\n   <g id=\"patch_3\">\n    <path clip-path=\"url(#p752c4049ff)\" d=\"M 70.434659 457.2 \nL 90.725568 457.2 \nL 90.725568 446.838898 \nL 70.434659 446.838898 \nz\n\" style=\"fill:#1f77b4;\"/>\n   </g>\n   <g id=\"patch_4\">\n    <path clip-path=\"url(#p752c4049ff)\" d=\"M 90.725568 457.2 \nL 111.016477 457.2 \nL 111.016477 429.933942 \nL 90.725568 429.933942 \nz\n\" style=\"fill:#1f77b4;\"/>\n   </g>\n   <g id=\"patch_5\">\n    <path clip-path=\"url(#p752c4049ff)\" d=\"M 111.016477 457.2 \nL 131.307386 457.2 \nL 131.307386 399.668617 \nL 111.016477 399.668617 \nz\n\" style=\"fill:#1f77b4;\"/>\n   </g>\n   <g id=\"patch_6\">\n    <path clip-path=\"url(#p752c4049ff)\" d=\"M 131.307386 457.2 \nL 151.598295 457.2 \nL 151.598295 329.867507 \nL 131.307386 329.867507 \nz\n\" style=\"fill:#1f77b4;\"/>\n   </g>\n   <g id=\"patch_7\">\n    <path clip-path=\"url(#p752c4049ff)\" d=\"M 151.598295 457.2 \nL 171.889205 457.2 \nL 171.889205 43.028571 \nL 151.598295 43.028571 \nz\n\" style=\"fill:#1f77b4;\"/>\n   </g>\n   <g id=\"patch_8\">\n    <path clip-path=\"url(#p752c4049ff)\" d=\"M 171.889205 457.2 \nL 192.180114 457.2 \nL 192.180114 252.431901 \nL 171.889205 252.431901 \nz\n\" style=\"fill:#1f77b4;\"/>\n   </g>\n   <g id=\"patch_9\">\n    <path clip-path=\"url(#p752c4049ff)\" d=\"M 192.180114 457.2 \nL 212.471023 457.2 \nL 212.471023 359.31485 \nL 192.180114 359.31485 \nz\n\" style=\"fill:#1f77b4;\"/>\n   </g>\n   <g id=\"patch_10\">\n    <path clip-path=\"url(#p752c4049ff)\" d=\"M 212.471023 457.2 \nL 232.761932 457.2 \nL 232.761932 410.029719 \nL 212.471023 410.029719 \nz\n\" style=\"fill:#1f77b4;\"/>\n   </g>\n   <g id=\"patch_11\">\n    <path clip-path=\"url(#p752c4049ff)\" d=\"M 232.761932 457.2 \nL 253.052841 457.2 \nL 253.052841 443.566971 \nL 232.761932 443.566971 \nz\n\" style=\"fill:#1f77b4;\"/>\n   </g>\n   <g id=\"patch_12\">\n    <path clip-path=\"url(#p752c4049ff)\" d=\"M 253.052841 457.2 \nL 273.34375 457.2 \nL 273.34375 449.020182 \nL 253.052841 449.020182 \nz\n\" style=\"fill:#1f77b4;\"/>\n   </g>\n   <g id=\"patch_13\">\n    <path clip-path=\"url(#p752c4049ff)\" d=\"M 273.34375 457.2 \nL 293.634659 457.2 \nL 293.634659 451.474128 \nL 273.34375 451.474128 \nz\n\" style=\"fill:#1f77b4;\"/>\n   </g>\n   <g id=\"patch_14\">\n    <path clip-path=\"url(#p752c4049ff)\" d=\"M 293.634659 457.2 \nL 313.925568 457.2 \nL 313.925568 455.836697 \nL 293.634659 455.836697 \nz\n\" style=\"fill:#1f77b4;\"/>\n   </g>\n   <g id=\"patch_15\">\n    <path clip-path=\"url(#p752c4049ff)\" d=\"M 313.925568 457.2 \nL 334.216477 457.2 \nL 334.216477 456.382018 \nL 313.925568 456.382018 \nz\n\" style=\"fill:#1f77b4;\"/>\n   </g>\n   <g id=\"patch_16\">\n    <path clip-path=\"url(#p752c4049ff)\" d=\"M 334.216477 457.2 \nL 354.507386 457.2 \nL 354.507386 457.2 \nL 334.216477 457.2 \nz\n\" style=\"fill:#1f77b4;\"/>\n   </g>\n   <g id=\"patch_17\">\n    <path clip-path=\"url(#p752c4049ff)\" d=\"M 354.507386 457.2 \nL 374.798295 457.2 \nL 374.798295 456.927339 \nL 354.507386 456.927339 \nz\n\" style=\"fill:#1f77b4;\"/>\n   </g>\n   <g id=\"patch_18\">\n    <path clip-path=\"url(#p752c4049ff)\" d=\"M 374.798295 457.2 \nL 395.089205 457.2 \nL 395.089205 456.927339 \nL 374.798295 456.927339 \nz\n\" style=\"fill:#1f77b4;\"/>\n   </g>\n   <g id=\"patch_19\">\n    <path clip-path=\"url(#p752c4049ff)\" d=\"M 395.089205 457.2 \nL 415.380114 457.2 \nL 415.380114 456.382018 \nL 395.089205 456.382018 \nz\n\" style=\"fill:#1f77b4;\"/>\n   </g>\n   <g id=\"patch_20\">\n    <path clip-path=\"url(#p752c4049ff)\" d=\"M 415.380114 457.2 \nL 435.671023 457.2 \nL 435.671023 457.2 \nL 415.380114 457.2 \nz\n\" style=\"fill:#1f77b4;\"/>\n   </g>\n   <g id=\"patch_21\">\n    <path clip-path=\"url(#p752c4049ff)\" d=\"M 435.671023 457.2 \nL 455.961932 457.2 \nL 455.961932 457.2 \nL 435.671023 457.2 \nz\n\" style=\"fill:#1f77b4;\"/>\n   </g>\n   <g id=\"patch_22\">\n    <path clip-path=\"url(#p752c4049ff)\" d=\"M 455.961932 457.2 \nL 476.252841 457.2 \nL 476.252841 455.291376 \nL 455.961932 455.291376 \nz\n\" style=\"fill:#1f77b4;\"/>\n   </g>\n   <g id=\"matplotlib.axis_1\">\n    <g id=\"xtick_1\">\n     <g id=\"line2d_1\">\n      <defs>\n       <path d=\"M 0 0 \nL 0 3.5 \n\" id=\"m54f51cd270\" style=\"stroke:#000000;stroke-width:0.8;\"/>\n      </defs>\n      <g>\n       <use style=\"stroke:#000000;stroke-width:0.8;\" x=\"70.434659\" xlink:href=\"#m54f51cd270\" y=\"457.2\"/>\n      </g>\n     </g>\n     <g id=\"text_1\">\n      <!-- 0 -->\n      <g transform=\"translate(67.253409 471.798437)scale(0.1 -0.1)\">\n       <defs>\n        <path d=\"M 31.78125 66.40625 \nQ 24.171875 66.40625 20.328125 58.90625 \nQ 16.5 51.421875 16.5 36.375 \nQ 16.5 21.390625 20.328125 13.890625 \nQ 24.171875 6.390625 31.78125 6.390625 \nQ 39.453125 6.390625 43.28125 13.890625 \nQ 47.125 21.390625 47.125 36.375 \nQ 47.125 51.421875 43.28125 58.90625 \nQ 39.453125 66.40625 31.78125 66.40625 \nz\nM 31.78125 74.21875 \nQ 44.046875 74.21875 50.515625 64.515625 \nQ 56.984375 54.828125 56.984375 36.375 \nQ 56.984375 17.96875 50.515625 8.265625 \nQ 44.046875 -1.421875 31.78125 -1.421875 \nQ 19.53125 -1.421875 13.0625 8.265625 \nQ 6.59375 17.96875 6.59375 36.375 \nQ 6.59375 54.828125 13.0625 64.515625 \nQ 19.53125 74.21875 31.78125 74.21875 \nz\n\" id=\"DejaVuSans-48\"/>\n       </defs>\n       <use xlink:href=\"#DejaVuSans-48\"/>\n      </g>\n     </g>\n    </g>\n    <g id=\"xtick_2\">\n     <g id=\"line2d_2\">\n      <g>\n       <use style=\"stroke:#000000;stroke-width:0.8;\" x=\"152.41813\" xlink:href=\"#m54f51cd270\" y=\"457.2\"/>\n      </g>\n     </g>\n     <g id=\"text_2\">\n      <!-- 20 -->\n      <g transform=\"translate(146.05563 471.798437)scale(0.1 -0.1)\">\n       <defs>\n        <path d=\"M 19.1875 8.296875 \nL 53.609375 8.296875 \nL 53.609375 0 \nL 7.328125 0 \nL 7.328125 8.296875 \nQ 12.9375 14.109375 22.625 23.890625 \nQ 32.328125 33.6875 34.8125 36.53125 \nQ 39.546875 41.84375 41.421875 45.53125 \nQ 43.3125 49.21875 43.3125 52.78125 \nQ 43.3125 58.59375 39.234375 62.25 \nQ 35.15625 65.921875 28.609375 65.921875 \nQ 23.96875 65.921875 18.8125 64.3125 \nQ 13.671875 62.703125 7.8125 59.421875 \nL 7.8125 69.390625 \nQ 13.765625 71.78125 18.9375 73 \nQ 24.125 74.21875 28.421875 74.21875 \nQ 39.75 74.21875 46.484375 68.546875 \nQ 53.21875 62.890625 53.21875 53.421875 \nQ 53.21875 48.921875 51.53125 44.890625 \nQ 49.859375 40.875 45.40625 35.40625 \nQ 44.1875 33.984375 37.640625 27.21875 \nQ 31.109375 20.453125 19.1875 8.296875 \nz\n\" id=\"DejaVuSans-50\"/>\n       </defs>\n       <use xlink:href=\"#DejaVuSans-50\"/>\n       <use x=\"63.623047\" xlink:href=\"#DejaVuSans-48\"/>\n      </g>\n     </g>\n    </g>\n    <g id=\"xtick_3\">\n     <g id=\"line2d_3\">\n      <g>\n       <use style=\"stroke:#000000;stroke-width:0.8;\" x=\"234.401601\" xlink:href=\"#m54f51cd270\" y=\"457.2\"/>\n      </g>\n     </g>\n     <g id=\"text_3\">\n      <!-- 40 -->\n      <g transform=\"translate(228.039101 471.798437)scale(0.1 -0.1)\">\n       <defs>\n        <path d=\"M 37.796875 64.3125 \nL 12.890625 25.390625 \nL 37.796875 25.390625 \nz\nM 35.203125 72.90625 \nL 47.609375 72.90625 \nL 47.609375 25.390625 \nL 58.015625 25.390625 \nL 58.015625 17.1875 \nL 47.609375 17.1875 \nL 47.609375 0 \nL 37.796875 0 \nL 37.796875 17.1875 \nL 4.890625 17.1875 \nL 4.890625 26.703125 \nz\n\" id=\"DejaVuSans-52\"/>\n       </defs>\n       <use xlink:href=\"#DejaVuSans-52\"/>\n       <use x=\"63.623047\" xlink:href=\"#DejaVuSans-48\"/>\n      </g>\n     </g>\n    </g>\n    <g id=\"xtick_4\">\n     <g id=\"line2d_4\">\n      <g>\n       <use style=\"stroke:#000000;stroke-width:0.8;\" x=\"316.385072\" xlink:href=\"#m54f51cd270\" y=\"457.2\"/>\n      </g>\n     </g>\n     <g id=\"text_4\">\n      <!-- 60 -->\n      <g transform=\"translate(310.022572 471.798437)scale(0.1 -0.1)\">\n       <defs>\n        <path d=\"M 33.015625 40.375 \nQ 26.375 40.375 22.484375 35.828125 \nQ 18.609375 31.296875 18.609375 23.390625 \nQ 18.609375 15.53125 22.484375 10.953125 \nQ 26.375 6.390625 33.015625 6.390625 \nQ 39.65625 6.390625 43.53125 10.953125 \nQ 47.40625 15.53125 47.40625 23.390625 \nQ 47.40625 31.296875 43.53125 35.828125 \nQ 39.65625 40.375 33.015625 40.375 \nz\nM 52.59375 71.296875 \nL 52.59375 62.3125 \nQ 48.875 64.0625 45.09375 64.984375 \nQ 41.3125 65.921875 37.59375 65.921875 \nQ 27.828125 65.921875 22.671875 59.328125 \nQ 17.53125 52.734375 16.796875 39.40625 \nQ 19.671875 43.65625 24.015625 45.921875 \nQ 28.375 48.1875 33.59375 48.1875 \nQ 44.578125 48.1875 50.953125 41.515625 \nQ 57.328125 34.859375 57.328125 23.390625 \nQ 57.328125 12.15625 50.6875 5.359375 \nQ 44.046875 -1.421875 33.015625 -1.421875 \nQ 20.359375 -1.421875 13.671875 8.265625 \nQ 6.984375 17.96875 6.984375 36.375 \nQ 6.984375 53.65625 15.1875 63.9375 \nQ 23.390625 74.21875 37.203125 74.21875 \nQ 40.921875 74.21875 44.703125 73.484375 \nQ 48.484375 72.75 52.59375 71.296875 \nz\n\" id=\"DejaVuSans-54\"/>\n       </defs>\n       <use xlink:href=\"#DejaVuSans-54\"/>\n       <use x=\"63.623047\" xlink:href=\"#DejaVuSans-48\"/>\n      </g>\n     </g>\n    </g>\n    <g id=\"xtick_5\">\n     <g id=\"line2d_5\">\n      <g>\n       <use style=\"stroke:#000000;stroke-width:0.8;\" x=\"398.368543\" xlink:href=\"#m54f51cd270\" y=\"457.2\"/>\n      </g>\n     </g>\n     <g id=\"text_5\">\n      <!-- 80 -->\n      <g transform=\"translate(392.006043 471.798437)scale(0.1 -0.1)\">\n       <defs>\n        <path d=\"M 31.78125 34.625 \nQ 24.75 34.625 20.71875 30.859375 \nQ 16.703125 27.09375 16.703125 20.515625 \nQ 16.703125 13.921875 20.71875 10.15625 \nQ 24.75 6.390625 31.78125 6.390625 \nQ 38.8125 6.390625 42.859375 10.171875 \nQ 46.921875 13.96875 46.921875 20.515625 \nQ 46.921875 27.09375 42.890625 30.859375 \nQ 38.875 34.625 31.78125 34.625 \nz\nM 21.921875 38.8125 \nQ 15.578125 40.375 12.03125 44.71875 \nQ 8.5 49.078125 8.5 55.328125 \nQ 8.5 64.0625 14.71875 69.140625 \nQ 20.953125 74.21875 31.78125 74.21875 \nQ 42.671875 74.21875 48.875 69.140625 \nQ 55.078125 64.0625 55.078125 55.328125 \nQ 55.078125 49.078125 51.53125 44.71875 \nQ 48 40.375 41.703125 38.8125 \nQ 48.828125 37.15625 52.796875 32.3125 \nQ 56.78125 27.484375 56.78125 20.515625 \nQ 56.78125 9.90625 50.3125 4.234375 \nQ 43.84375 -1.421875 31.78125 -1.421875 \nQ 19.734375 -1.421875 13.25 4.234375 \nQ 6.78125 9.90625 6.78125 20.515625 \nQ 6.78125 27.484375 10.78125 32.3125 \nQ 14.796875 37.15625 21.921875 38.8125 \nz\nM 18.3125 54.390625 \nQ 18.3125 48.734375 21.84375 45.5625 \nQ 25.390625 42.390625 31.78125 42.390625 \nQ 38.140625 42.390625 41.71875 45.5625 \nQ 45.3125 48.734375 45.3125 54.390625 \nQ 45.3125 60.0625 41.71875 63.234375 \nQ 38.140625 66.40625 31.78125 66.40625 \nQ 25.390625 66.40625 21.84375 63.234375 \nQ 18.3125 60.0625 18.3125 54.390625 \nz\n\" id=\"DejaVuSans-56\"/>\n       </defs>\n       <use xlink:href=\"#DejaVuSans-56\"/>\n       <use x=\"63.623047\" xlink:href=\"#DejaVuSans-48\"/>\n      </g>\n     </g>\n    </g>\n    <g id=\"xtick_6\">\n     <g id=\"line2d_6\">\n      <g>\n       <use style=\"stroke:#000000;stroke-width:0.8;\" x=\"480.352014\" xlink:href=\"#m54f51cd270\" y=\"457.2\"/>\n      </g>\n     </g>\n     <g id=\"text_6\">\n      <!-- 100 -->\n      <g transform=\"translate(470.808264 471.798437)scale(0.1 -0.1)\">\n       <defs>\n        <path d=\"M 12.40625 8.296875 \nL 28.515625 8.296875 \nL 28.515625 63.921875 \nL 10.984375 60.40625 \nL 10.984375 69.390625 \nL 28.421875 72.90625 \nL 38.28125 72.90625 \nL 38.28125 8.296875 \nL 54.390625 8.296875 \nL 54.390625 0 \nL 12.40625 0 \nz\n\" id=\"DejaVuSans-49\"/>\n       </defs>\n       <use xlink:href=\"#DejaVuSans-49\"/>\n       <use x=\"63.623047\" xlink:href=\"#DejaVuSans-48\"/>\n       <use x=\"127.246094\" xlink:href=\"#DejaVuSans-48\"/>\n      </g>\n     </g>\n    </g>\n    <g id=\"text_7\">\n     <!-- Smarts -->\n     <g transform=\"translate(255.614844 485.476562)scale(0.1 -0.1)\">\n      <defs>\n       <path d=\"M 53.515625 70.515625 \nL 53.515625 60.890625 \nQ 47.90625 63.578125 42.921875 64.890625 \nQ 37.9375 66.21875 33.296875 66.21875 \nQ 25.25 66.21875 20.875 63.09375 \nQ 16.5 59.96875 16.5 54.203125 \nQ 16.5 49.359375 19.40625 46.890625 \nQ 22.3125 44.4375 30.421875 42.921875 \nL 36.375 41.703125 \nQ 47.40625 39.59375 52.65625 34.296875 \nQ 57.90625 29 57.90625 20.125 \nQ 57.90625 9.515625 50.796875 4.046875 \nQ 43.703125 -1.421875 29.984375 -1.421875 \nQ 24.8125 -1.421875 18.96875 -0.25 \nQ 13.140625 0.921875 6.890625 3.21875 \nL 6.890625 13.375 \nQ 12.890625 10.015625 18.65625 8.296875 \nQ 24.421875 6.59375 29.984375 6.59375 \nQ 38.421875 6.59375 43.015625 9.90625 \nQ 47.609375 13.234375 47.609375 19.390625 \nQ 47.609375 24.75 44.3125 27.78125 \nQ 41.015625 30.8125 33.5 32.328125 \nL 27.484375 33.5 \nQ 16.453125 35.6875 11.515625 40.375 \nQ 6.59375 45.0625 6.59375 53.421875 \nQ 6.59375 63.09375 13.40625 68.65625 \nQ 20.21875 74.21875 32.171875 74.21875 \nQ 37.3125 74.21875 42.625 73.28125 \nQ 47.953125 72.359375 53.515625 70.515625 \nz\n\" id=\"DejaVuSans-83\"/>\n       <path d=\"M 52 44.1875 \nQ 55.375 50.25 60.0625 53.125 \nQ 64.75 56 71.09375 56 \nQ 79.640625 56 84.28125 50.015625 \nQ 88.921875 44.046875 88.921875 33.015625 \nL 88.921875 0 \nL 79.890625 0 \nL 79.890625 32.71875 \nQ 79.890625 40.578125 77.09375 44.375 \nQ 74.3125 48.1875 68.609375 48.1875 \nQ 61.625 48.1875 57.5625 43.546875 \nQ 53.515625 38.921875 53.515625 30.90625 \nL 53.515625 0 \nL 44.484375 0 \nL 44.484375 32.71875 \nQ 44.484375 40.625 41.703125 44.40625 \nQ 38.921875 48.1875 33.109375 48.1875 \nQ 26.21875 48.1875 22.15625 43.53125 \nQ 18.109375 38.875 18.109375 30.90625 \nL 18.109375 0 \nL 9.078125 0 \nL 9.078125 54.6875 \nL 18.109375 54.6875 \nL 18.109375 46.1875 \nQ 21.1875 51.21875 25.484375 53.609375 \nQ 29.78125 56 35.6875 56 \nQ 41.65625 56 45.828125 52.96875 \nQ 50 49.953125 52 44.1875 \nz\n\" id=\"DejaVuSans-109\"/>\n       <path d=\"M 34.28125 27.484375 \nQ 23.390625 27.484375 19.1875 25 \nQ 14.984375 22.515625 14.984375 16.5 \nQ 14.984375 11.71875 18.140625 8.90625 \nQ 21.296875 6.109375 26.703125 6.109375 \nQ 34.1875 6.109375 38.703125 11.40625 \nQ 43.21875 16.703125 43.21875 25.484375 \nL 43.21875 27.484375 \nz\nM 52.203125 31.203125 \nL 52.203125 0 \nL 43.21875 0 \nL 43.21875 8.296875 \nQ 40.140625 3.328125 35.546875 0.953125 \nQ 30.953125 -1.421875 24.3125 -1.421875 \nQ 15.921875 -1.421875 10.953125 3.296875 \nQ 6 8.015625 6 15.921875 \nQ 6 25.140625 12.171875 29.828125 \nQ 18.359375 34.515625 30.609375 34.515625 \nL 43.21875 34.515625 \nL 43.21875 35.40625 \nQ 43.21875 41.609375 39.140625 45 \nQ 35.0625 48.390625 27.6875 48.390625 \nQ 23 48.390625 18.546875 47.265625 \nQ 14.109375 46.140625 10.015625 43.890625 \nL 10.015625 52.203125 \nQ 14.9375 54.109375 19.578125 55.046875 \nQ 24.21875 56 28.609375 56 \nQ 40.484375 56 46.34375 49.84375 \nQ 52.203125 43.703125 52.203125 31.203125 \nz\n\" id=\"DejaVuSans-97\"/>\n       <path d=\"M 41.109375 46.296875 \nQ 39.59375 47.171875 37.8125 47.578125 \nQ 36.03125 48 33.890625 48 \nQ 26.265625 48 22.1875 43.046875 \nQ 18.109375 38.09375 18.109375 28.8125 \nL 18.109375 0 \nL 9.078125 0 \nL 9.078125 54.6875 \nL 18.109375 54.6875 \nL 18.109375 46.1875 \nQ 20.953125 51.171875 25.484375 53.578125 \nQ 30.03125 56 36.53125 56 \nQ 37.453125 56 38.578125 55.875 \nQ 39.703125 55.765625 41.0625 55.515625 \nz\n\" id=\"DejaVuSans-114\"/>\n       <path d=\"M 18.3125 70.21875 \nL 18.3125 54.6875 \nL 36.8125 54.6875 \nL 36.8125 47.703125 \nL 18.3125 47.703125 \nL 18.3125 18.015625 \nQ 18.3125 11.328125 20.140625 9.421875 \nQ 21.96875 7.515625 27.59375 7.515625 \nL 36.8125 7.515625 \nL 36.8125 0 \nL 27.59375 0 \nQ 17.1875 0 13.234375 3.875 \nQ 9.28125 7.765625 9.28125 18.015625 \nL 9.28125 47.703125 \nL 2.6875 47.703125 \nL 2.6875 54.6875 \nL 9.28125 54.6875 \nL 9.28125 70.21875 \nz\n\" id=\"DejaVuSans-116\"/>\n       <path d=\"M 44.28125 53.078125 \nL 44.28125 44.578125 \nQ 40.484375 46.53125 36.375 47.5 \nQ 32.28125 48.484375 27.875 48.484375 \nQ 21.1875 48.484375 17.84375 46.4375 \nQ 14.5 44.390625 14.5 40.28125 \nQ 14.5 37.15625 16.890625 35.375 \nQ 19.28125 33.59375 26.515625 31.984375 \nL 29.59375 31.296875 \nQ 39.15625 29.25 43.1875 25.515625 \nQ 47.21875 21.78125 47.21875 15.09375 \nQ 47.21875 7.46875 41.1875 3.015625 \nQ 35.15625 -1.421875 24.609375 -1.421875 \nQ 20.21875 -1.421875 15.453125 -0.5625 \nQ 10.6875 0.296875 5.421875 2 \nL 5.421875 11.28125 \nQ 10.40625 8.6875 15.234375 7.390625 \nQ 20.0625 6.109375 24.8125 6.109375 \nQ 31.15625 6.109375 34.5625 8.28125 \nQ 37.984375 10.453125 37.984375 14.40625 \nQ 37.984375 18.0625 35.515625 20.015625 \nQ 33.0625 21.96875 24.703125 23.78125 \nL 21.578125 24.515625 \nQ 13.234375 26.265625 9.515625 29.90625 \nQ 5.8125 33.546875 5.8125 39.890625 \nQ 5.8125 47.609375 11.28125 51.796875 \nQ 16.75 56 26.8125 56 \nQ 31.78125 56 36.171875 55.265625 \nQ 40.578125 54.546875 44.28125 53.078125 \nz\n\" id=\"DejaVuSans-115\"/>\n      </defs>\n      <use xlink:href=\"#DejaVuSans-83\"/>\n      <use x=\"63.476562\" xlink:href=\"#DejaVuSans-109\"/>\n      <use x=\"160.888672\" xlink:href=\"#DejaVuSans-97\"/>\n      <use x=\"222.167969\" xlink:href=\"#DejaVuSans-114\"/>\n      <use x=\"263.28125\" xlink:href=\"#DejaVuSans-116\"/>\n      <use x=\"302.490234\" xlink:href=\"#DejaVuSans-115\"/>\n     </g>\n    </g>\n   </g>\n   <g id=\"matplotlib.axis_2\">\n    <g id=\"ytick_1\">\n     <g id=\"line2d_7\">\n      <defs>\n       <path d=\"M 0 0 \nL -3.5 0 \n\" id=\"m4cc14676bc\" style=\"stroke:#000000;stroke-width:0.8;\"/>\n      </defs>\n      <g>\n       <use style=\"stroke:#000000;stroke-width:0.8;\" x=\"50.14375\" xlink:href=\"#m4cc14676bc\" y=\"457.2\"/>\n      </g>\n     </g>\n     <g id=\"text_8\">\n      <!-- 0.00 -->\n      <g transform=\"translate(20.878125 460.999219)scale(0.1 -0.1)\">\n       <defs>\n        <path d=\"M 10.6875 12.40625 \nL 21 12.40625 \nL 21 0 \nL 10.6875 0 \nz\n\" id=\"DejaVuSans-46\"/>\n       </defs>\n       <use xlink:href=\"#DejaVuSans-48\"/>\n       <use x=\"63.623047\" xlink:href=\"#DejaVuSans-46\"/>\n       <use x=\"95.410156\" xlink:href=\"#DejaVuSans-48\"/>\n       <use x=\"159.033203\" xlink:href=\"#DejaVuSans-48\"/>\n      </g>\n     </g>\n    </g>\n    <g id=\"ytick_2\">\n     <g id=\"line2d_8\">\n      <g>\n       <use style=\"stroke:#000000;stroke-width:0.8;\" x=\"50.14375\" xlink:href=\"#m4cc14676bc\" y=\"406.735843\"/>\n      </g>\n     </g>\n     <g id=\"text_9\">\n      <!-- 0.01 -->\n      <g transform=\"translate(20.878125 410.535061)scale(0.1 -0.1)\">\n       <use xlink:href=\"#DejaVuSans-48\"/>\n       <use x=\"63.623047\" xlink:href=\"#DejaVuSans-46\"/>\n       <use x=\"95.410156\" xlink:href=\"#DejaVuSans-48\"/>\n       <use x=\"159.033203\" xlink:href=\"#DejaVuSans-49\"/>\n      </g>\n     </g>\n    </g>\n    <g id=\"ytick_3\">\n     <g id=\"line2d_9\">\n      <g>\n       <use style=\"stroke:#000000;stroke-width:0.8;\" x=\"50.14375\" xlink:href=\"#m4cc14676bc\" y=\"356.271685\"/>\n      </g>\n     </g>\n     <g id=\"text_10\">\n      <!-- 0.02 -->\n      <g transform=\"translate(20.878125 360.070904)scale(0.1 -0.1)\">\n       <use xlink:href=\"#DejaVuSans-48\"/>\n       <use x=\"63.623047\" xlink:href=\"#DejaVuSans-46\"/>\n       <use x=\"95.410156\" xlink:href=\"#DejaVuSans-48\"/>\n       <use x=\"159.033203\" xlink:href=\"#DejaVuSans-50\"/>\n      </g>\n     </g>\n    </g>\n    <g id=\"ytick_4\">\n     <g id=\"line2d_10\">\n      <g>\n       <use style=\"stroke:#000000;stroke-width:0.8;\" x=\"50.14375\" xlink:href=\"#m4cc14676bc\" y=\"305.807528\"/>\n      </g>\n     </g>\n     <g id=\"text_11\">\n      <!-- 0.03 -->\n      <g transform=\"translate(20.878125 309.606747)scale(0.1 -0.1)\">\n       <defs>\n        <path d=\"M 40.578125 39.3125 \nQ 47.65625 37.796875 51.625 33 \nQ 55.609375 28.21875 55.609375 21.1875 \nQ 55.609375 10.40625 48.1875 4.484375 \nQ 40.765625 -1.421875 27.09375 -1.421875 \nQ 22.515625 -1.421875 17.65625 -0.515625 \nQ 12.796875 0.390625 7.625 2.203125 \nL 7.625 11.71875 \nQ 11.71875 9.328125 16.59375 8.109375 \nQ 21.484375 6.890625 26.8125 6.890625 \nQ 36.078125 6.890625 40.9375 10.546875 \nQ 45.796875 14.203125 45.796875 21.1875 \nQ 45.796875 27.640625 41.28125 31.265625 \nQ 36.765625 34.90625 28.71875 34.90625 \nL 20.21875 34.90625 \nL 20.21875 43.015625 \nL 29.109375 43.015625 \nQ 36.375 43.015625 40.234375 45.921875 \nQ 44.09375 48.828125 44.09375 54.296875 \nQ 44.09375 59.90625 40.109375 62.90625 \nQ 36.140625 65.921875 28.71875 65.921875 \nQ 24.65625 65.921875 20.015625 65.03125 \nQ 15.375 64.15625 9.8125 62.3125 \nL 9.8125 71.09375 \nQ 15.4375 72.65625 20.34375 73.4375 \nQ 25.25 74.21875 29.59375 74.21875 \nQ 40.828125 74.21875 47.359375 69.109375 \nQ 53.90625 64.015625 53.90625 55.328125 \nQ 53.90625 49.265625 50.4375 45.09375 \nQ 46.96875 40.921875 40.578125 39.3125 \nz\n\" id=\"DejaVuSans-51\"/>\n       </defs>\n       <use xlink:href=\"#DejaVuSans-48\"/>\n       <use x=\"63.623047\" xlink:href=\"#DejaVuSans-46\"/>\n       <use x=\"95.410156\" xlink:href=\"#DejaVuSans-48\"/>\n       <use x=\"159.033203\" xlink:href=\"#DejaVuSans-51\"/>\n      </g>\n     </g>\n    </g>\n    <g id=\"ytick_5\">\n     <g id=\"line2d_11\">\n      <g>\n       <use style=\"stroke:#000000;stroke-width:0.8;\" x=\"50.14375\" xlink:href=\"#m4cc14676bc\" y=\"255.34337\"/>\n      </g>\n     </g>\n     <g id=\"text_12\">\n      <!-- 0.04 -->\n      <g transform=\"translate(20.878125 259.142589)scale(0.1 -0.1)\">\n       <use xlink:href=\"#DejaVuSans-48\"/>\n       <use x=\"63.623047\" xlink:href=\"#DejaVuSans-46\"/>\n       <use x=\"95.410156\" xlink:href=\"#DejaVuSans-48\"/>\n       <use x=\"159.033203\" xlink:href=\"#DejaVuSans-52\"/>\n      </g>\n     </g>\n    </g>\n    <g id=\"ytick_6\">\n     <g id=\"line2d_12\">\n      <g>\n       <use style=\"stroke:#000000;stroke-width:0.8;\" x=\"50.14375\" xlink:href=\"#m4cc14676bc\" y=\"204.879213\"/>\n      </g>\n     </g>\n     <g id=\"text_13\">\n      <!-- 0.05 -->\n      <g transform=\"translate(20.878125 208.678432)scale(0.1 -0.1)\">\n       <defs>\n        <path d=\"M 10.796875 72.90625 \nL 49.515625 72.90625 \nL 49.515625 64.59375 \nL 19.828125 64.59375 \nL 19.828125 46.734375 \nQ 21.96875 47.46875 24.109375 47.828125 \nQ 26.265625 48.1875 28.421875 48.1875 \nQ 40.625 48.1875 47.75 41.5 \nQ 54.890625 34.8125 54.890625 23.390625 \nQ 54.890625 11.625 47.5625 5.09375 \nQ 40.234375 -1.421875 26.90625 -1.421875 \nQ 22.3125 -1.421875 17.546875 -0.640625 \nQ 12.796875 0.140625 7.71875 1.703125 \nL 7.71875 11.625 \nQ 12.109375 9.234375 16.796875 8.0625 \nQ 21.484375 6.890625 26.703125 6.890625 \nQ 35.15625 6.890625 40.078125 11.328125 \nQ 45.015625 15.765625 45.015625 23.390625 \nQ 45.015625 31 40.078125 35.4375 \nQ 35.15625 39.890625 26.703125 39.890625 \nQ 22.75 39.890625 18.8125 39.015625 \nQ 14.890625 38.140625 10.796875 36.28125 \nz\n\" id=\"DejaVuSans-53\"/>\n       </defs>\n       <use xlink:href=\"#DejaVuSans-48\"/>\n       <use x=\"63.623047\" xlink:href=\"#DejaVuSans-46\"/>\n       <use x=\"95.410156\" xlink:href=\"#DejaVuSans-48\"/>\n       <use x=\"159.033203\" xlink:href=\"#DejaVuSans-53\"/>\n      </g>\n     </g>\n    </g>\n    <g id=\"ytick_7\">\n     <g id=\"line2d_13\">\n      <g>\n       <use style=\"stroke:#000000;stroke-width:0.8;\" x=\"50.14375\" xlink:href=\"#m4cc14676bc\" y=\"154.415056\"/>\n      </g>\n     </g>\n     <g id=\"text_14\">\n      <!-- 0.06 -->\n      <g transform=\"translate(20.878125 158.214274)scale(0.1 -0.1)\">\n       <use xlink:href=\"#DejaVuSans-48\"/>\n       <use x=\"63.623047\" xlink:href=\"#DejaVuSans-46\"/>\n       <use x=\"95.410156\" xlink:href=\"#DejaVuSans-48\"/>\n       <use x=\"159.033203\" xlink:href=\"#DejaVuSans-54\"/>\n      </g>\n     </g>\n    </g>\n    <g id=\"ytick_8\">\n     <g id=\"line2d_14\">\n      <g>\n       <use style=\"stroke:#000000;stroke-width:0.8;\" x=\"50.14375\" xlink:href=\"#m4cc14676bc\" y=\"103.950898\"/>\n      </g>\n     </g>\n     <g id=\"text_15\">\n      <!-- 0.07 -->\n      <g transform=\"translate(20.878125 107.750117)scale(0.1 -0.1)\">\n       <defs>\n        <path d=\"M 8.203125 72.90625 \nL 55.078125 72.90625 \nL 55.078125 68.703125 \nL 28.609375 0 \nL 18.3125 0 \nL 43.21875 64.59375 \nL 8.203125 64.59375 \nz\n\" id=\"DejaVuSans-55\"/>\n       </defs>\n       <use xlink:href=\"#DejaVuSans-48\"/>\n       <use x=\"63.623047\" xlink:href=\"#DejaVuSans-46\"/>\n       <use x=\"95.410156\" xlink:href=\"#DejaVuSans-48\"/>\n       <use x=\"159.033203\" xlink:href=\"#DejaVuSans-55\"/>\n      </g>\n     </g>\n    </g>\n    <g id=\"ytick_9\">\n     <g id=\"line2d_15\">\n      <g>\n       <use style=\"stroke:#000000;stroke-width:0.8;\" x=\"50.14375\" xlink:href=\"#m4cc14676bc\" y=\"53.486741\"/>\n      </g>\n     </g>\n     <g id=\"text_16\">\n      <!-- 0.08 -->\n      <g transform=\"translate(20.878125 57.28596)scale(0.1 -0.1)\">\n       <use xlink:href=\"#DejaVuSans-48\"/>\n       <use x=\"63.623047\" xlink:href=\"#DejaVuSans-46\"/>\n       <use x=\"95.410156\" xlink:href=\"#DejaVuSans-48\"/>\n       <use x=\"159.033203\" xlink:href=\"#DejaVuSans-56\"/>\n      </g>\n     </g>\n    </g>\n    <g id=\"text_17\">\n     <!-- Probability density -->\n     <g transform=\"translate(14.798438 286.110781)rotate(-90)scale(0.1 -0.1)\">\n      <defs>\n       <path d=\"M 19.671875 64.796875 \nL 19.671875 37.40625 \nL 32.078125 37.40625 \nQ 38.96875 37.40625 42.71875 40.96875 \nQ 46.484375 44.53125 46.484375 51.125 \nQ 46.484375 57.671875 42.71875 61.234375 \nQ 38.96875 64.796875 32.078125 64.796875 \nz\nM 9.8125 72.90625 \nL 32.078125 72.90625 \nQ 44.34375 72.90625 50.609375 67.359375 \nQ 56.890625 61.8125 56.890625 51.125 \nQ 56.890625 40.328125 50.609375 34.8125 \nQ 44.34375 29.296875 32.078125 29.296875 \nL 19.671875 29.296875 \nL 19.671875 0 \nL 9.8125 0 \nz\n\" id=\"DejaVuSans-80\"/>\n       <path d=\"M 30.609375 48.390625 \nQ 23.390625 48.390625 19.1875 42.75 \nQ 14.984375 37.109375 14.984375 27.296875 \nQ 14.984375 17.484375 19.15625 11.84375 \nQ 23.34375 6.203125 30.609375 6.203125 \nQ 37.796875 6.203125 41.984375 11.859375 \nQ 46.1875 17.53125 46.1875 27.296875 \nQ 46.1875 37.015625 41.984375 42.703125 \nQ 37.796875 48.390625 30.609375 48.390625 \nz\nM 30.609375 56 \nQ 42.328125 56 49.015625 48.375 \nQ 55.71875 40.765625 55.71875 27.296875 \nQ 55.71875 13.875 49.015625 6.21875 \nQ 42.328125 -1.421875 30.609375 -1.421875 \nQ 18.84375 -1.421875 12.171875 6.21875 \nQ 5.515625 13.875 5.515625 27.296875 \nQ 5.515625 40.765625 12.171875 48.375 \nQ 18.84375 56 30.609375 56 \nz\n\" id=\"DejaVuSans-111\"/>\n       <path d=\"M 48.6875 27.296875 \nQ 48.6875 37.203125 44.609375 42.84375 \nQ 40.53125 48.484375 33.40625 48.484375 \nQ 26.265625 48.484375 22.1875 42.84375 \nQ 18.109375 37.203125 18.109375 27.296875 \nQ 18.109375 17.390625 22.1875 11.75 \nQ 26.265625 6.109375 33.40625 6.109375 \nQ 40.53125 6.109375 44.609375 11.75 \nQ 48.6875 17.390625 48.6875 27.296875 \nz\nM 18.109375 46.390625 \nQ 20.953125 51.265625 25.265625 53.625 \nQ 29.59375 56 35.59375 56 \nQ 45.5625 56 51.78125 48.09375 \nQ 58.015625 40.1875 58.015625 27.296875 \nQ 58.015625 14.40625 51.78125 6.484375 \nQ 45.5625 -1.421875 35.59375 -1.421875 \nQ 29.59375 -1.421875 25.265625 0.953125 \nQ 20.953125 3.328125 18.109375 8.203125 \nL 18.109375 0 \nL 9.078125 0 \nL 9.078125 75.984375 \nL 18.109375 75.984375 \nz\n\" id=\"DejaVuSans-98\"/>\n       <path d=\"M 9.421875 54.6875 \nL 18.40625 54.6875 \nL 18.40625 0 \nL 9.421875 0 \nz\nM 9.421875 75.984375 \nL 18.40625 75.984375 \nL 18.40625 64.59375 \nL 9.421875 64.59375 \nz\n\" id=\"DejaVuSans-105\"/>\n       <path d=\"M 9.421875 75.984375 \nL 18.40625 75.984375 \nL 18.40625 0 \nL 9.421875 0 \nz\n\" id=\"DejaVuSans-108\"/>\n       <path d=\"M 32.171875 -5.078125 \nQ 28.375 -14.84375 24.75 -17.8125 \nQ 21.140625 -20.796875 15.09375 -20.796875 \nL 7.90625 -20.796875 \nL 7.90625 -13.28125 \nL 13.1875 -13.28125 \nQ 16.890625 -13.28125 18.9375 -11.515625 \nQ 21 -9.765625 23.484375 -3.21875 \nL 25.09375 0.875 \nL 2.984375 54.6875 \nL 12.5 54.6875 \nL 29.59375 11.921875 \nL 46.6875 54.6875 \nL 56.203125 54.6875 \nz\n\" id=\"DejaVuSans-121\"/>\n       <path id=\"DejaVuSans-32\"/>\n       <path d=\"M 45.40625 46.390625 \nL 45.40625 75.984375 \nL 54.390625 75.984375 \nL 54.390625 0 \nL 45.40625 0 \nL 45.40625 8.203125 \nQ 42.578125 3.328125 38.25 0.953125 \nQ 33.9375 -1.421875 27.875 -1.421875 \nQ 17.96875 -1.421875 11.734375 6.484375 \nQ 5.515625 14.40625 5.515625 27.296875 \nQ 5.515625 40.1875 11.734375 48.09375 \nQ 17.96875 56 27.875 56 \nQ 33.9375 56 38.25 53.625 \nQ 42.578125 51.265625 45.40625 46.390625 \nz\nM 14.796875 27.296875 \nQ 14.796875 17.390625 18.875 11.75 \nQ 22.953125 6.109375 30.078125 6.109375 \nQ 37.203125 6.109375 41.296875 11.75 \nQ 45.40625 17.390625 45.40625 27.296875 \nQ 45.40625 37.203125 41.296875 42.84375 \nQ 37.203125 48.484375 30.078125 48.484375 \nQ 22.953125 48.484375 18.875 42.84375 \nQ 14.796875 37.203125 14.796875 27.296875 \nz\n\" id=\"DejaVuSans-100\"/>\n       <path d=\"M 56.203125 29.59375 \nL 56.203125 25.203125 \nL 14.890625 25.203125 \nQ 15.484375 15.921875 20.484375 11.0625 \nQ 25.484375 6.203125 34.421875 6.203125 \nQ 39.59375 6.203125 44.453125 7.46875 \nQ 49.3125 8.734375 54.109375 11.28125 \nL 54.109375 2.78125 \nQ 49.265625 0.734375 44.1875 -0.34375 \nQ 39.109375 -1.421875 33.890625 -1.421875 \nQ 20.796875 -1.421875 13.15625 6.1875 \nQ 5.515625 13.8125 5.515625 26.8125 \nQ 5.515625 40.234375 12.765625 48.109375 \nQ 20.015625 56 32.328125 56 \nQ 43.359375 56 49.78125 48.890625 \nQ 56.203125 41.796875 56.203125 29.59375 \nz\nM 47.21875 32.234375 \nQ 47.125 39.59375 43.09375 43.984375 \nQ 39.0625 48.390625 32.421875 48.390625 \nQ 24.90625 48.390625 20.390625 44.140625 \nQ 15.875 39.890625 15.1875 32.171875 \nz\n\" id=\"DejaVuSans-101\"/>\n       <path d=\"M 54.890625 33.015625 \nL 54.890625 0 \nL 45.90625 0 \nL 45.90625 32.71875 \nQ 45.90625 40.484375 42.875 44.328125 \nQ 39.84375 48.1875 33.796875 48.1875 \nQ 26.515625 48.1875 22.3125 43.546875 \nQ 18.109375 38.921875 18.109375 30.90625 \nL 18.109375 0 \nL 9.078125 0 \nL 9.078125 54.6875 \nL 18.109375 54.6875 \nL 18.109375 46.1875 \nQ 21.34375 51.125 25.703125 53.5625 \nQ 30.078125 56 35.796875 56 \nQ 45.21875 56 50.046875 50.171875 \nQ 54.890625 44.34375 54.890625 33.015625 \nz\n\" id=\"DejaVuSans-110\"/>\n      </defs>\n      <use xlink:href=\"#DejaVuSans-80\"/>\n      <use x=\"58.552734\" xlink:href=\"#DejaVuSans-114\"/>\n      <use x=\"97.416016\" xlink:href=\"#DejaVuSans-111\"/>\n      <use x=\"158.597656\" xlink:href=\"#DejaVuSans-98\"/>\n      <use x=\"222.074219\" xlink:href=\"#DejaVuSans-97\"/>\n      <use x=\"283.353516\" xlink:href=\"#DejaVuSans-98\"/>\n      <use x=\"346.830078\" xlink:href=\"#DejaVuSans-105\"/>\n      <use x=\"374.613281\" xlink:href=\"#DejaVuSans-108\"/>\n      <use x=\"402.396484\" xlink:href=\"#DejaVuSans-105\"/>\n      <use x=\"430.179688\" xlink:href=\"#DejaVuSans-116\"/>\n      <use x=\"469.388672\" xlink:href=\"#DejaVuSans-121\"/>\n      <use x=\"528.568359\" xlink:href=\"#DejaVuSans-32\"/>\n      <use x=\"560.355469\" xlink:href=\"#DejaVuSans-100\"/>\n      <use x=\"623.832031\" xlink:href=\"#DejaVuSans-101\"/>\n      <use x=\"685.355469\" xlink:href=\"#DejaVuSans-110\"/>\n      <use x=\"748.734375\" xlink:href=\"#DejaVuSans-115\"/>\n      <use x=\"800.833984\" xlink:href=\"#DejaVuSans-105\"/>\n      <use x=\"828.617188\" xlink:href=\"#DejaVuSans-116\"/>\n      <use x=\"867.826172\" xlink:href=\"#DejaVuSans-121\"/>\n     </g>\n    </g>\n   </g>\n   <g id=\"line2d_16\">\n    <path clip-path=\"url(#p752c4049ff)\" d=\"M 70.434659 449.709722 \nL 90.725568 428.063168 \nL 111.016477 376.356804 \nL 131.307386 297.206851 \nL 151.598295 231.352095 \nL 171.889205 229.801543 \nL 192.180114 293.888891 \nL 212.471023 373.543304 \nL 232.761932 426.633729 \nL 253.052841 449.233988 \nL 273.34375 455.719201 \nL 293.634659 457.00366 \nL 313.925568 457.181431 \nL 334.216477 457.198747 \nL 354.507386 457.19994 \nL 374.798295 457.199998 \nL 395.089205 457.2 \nL 415.380114 457.2 \nL 435.671023 457.2 \nL 455.961932 457.2 \nL 476.252841 457.2 \n\" style=\"fill:none;stroke:#ff7f0e;stroke-dasharray:5.55,2.4;stroke-dashoffset:0;stroke-width:1.5;\"/>\n   </g>\n   <g id=\"patch_23\">\n    <path d=\"M 50.14375 457.2 \nL 50.14375 22.32 \n\" style=\"fill:none;stroke:#000000;stroke-linecap:square;stroke-linejoin:miter;stroke-width:0.8;\"/>\n   </g>\n   <g id=\"patch_24\">\n    <path d=\"M 496.54375 457.2 \nL 496.54375 22.32 \n\" style=\"fill:none;stroke:#000000;stroke-linecap:square;stroke-linejoin:miter;stroke-width:0.8;\"/>\n   </g>\n   <g id=\"patch_25\">\n    <path d=\"M 50.14375 457.2 \nL 496.54375 457.2 \n\" style=\"fill:none;stroke:#000000;stroke-linecap:square;stroke-linejoin:miter;stroke-width:0.8;\"/>\n   </g>\n   <g id=\"patch_26\">\n    <path d=\"M 50.14375 22.32 \nL 496.54375 22.32 \n\" style=\"fill:none;stroke:#000000;stroke-linecap:square;stroke-linejoin:miter;stroke-width:0.8;\"/>\n   </g>\n   <g id=\"text_18\">\n    <!-- Histogram : $\\mu=22.38$, $\\sigma=8.52$ -->\n    <g transform=\"translate(179.62375 16.32)scale(0.12 -0.12)\">\n     <defs>\n      <path d=\"M 9.8125 72.90625 \nL 19.671875 72.90625 \nL 19.671875 43.015625 \nL 55.515625 43.015625 \nL 55.515625 72.90625 \nL 65.375 72.90625 \nL 65.375 0 \nL 55.515625 0 \nL 55.515625 34.71875 \nL 19.671875 34.71875 \nL 19.671875 0 \nL 9.8125 0 \nz\n\" id=\"DejaVuSans-72\"/>\n      <path d=\"M 45.40625 27.984375 \nQ 45.40625 37.75 41.375 43.109375 \nQ 37.359375 48.484375 30.078125 48.484375 \nQ 22.859375 48.484375 18.828125 43.109375 \nQ 14.796875 37.75 14.796875 27.984375 \nQ 14.796875 18.265625 18.828125 12.890625 \nQ 22.859375 7.515625 30.078125 7.515625 \nQ 37.359375 7.515625 41.375 12.890625 \nQ 45.40625 18.265625 45.40625 27.984375 \nz\nM 54.390625 6.78125 \nQ 54.390625 -7.171875 48.1875 -13.984375 \nQ 42 -20.796875 29.203125 -20.796875 \nQ 24.46875 -20.796875 20.265625 -20.09375 \nQ 16.0625 -19.390625 12.109375 -17.921875 \nL 12.109375 -9.1875 \nQ 16.0625 -11.328125 19.921875 -12.34375 \nQ 23.78125 -13.375 27.78125 -13.375 \nQ 36.625 -13.375 41.015625 -8.765625 \nQ 45.40625 -4.15625 45.40625 5.171875 \nL 45.40625 9.625 \nQ 42.625 4.78125 38.28125 2.390625 \nQ 33.9375 0 27.875 0 \nQ 17.828125 0 11.671875 7.65625 \nQ 5.515625 15.328125 5.515625 27.984375 \nQ 5.515625 40.671875 11.671875 48.328125 \nQ 17.828125 56 27.875 56 \nQ 33.9375 56 38.28125 53.609375 \nQ 42.625 51.21875 45.40625 46.390625 \nL 45.40625 54.6875 \nL 54.390625 54.6875 \nz\n\" id=\"DejaVuSans-103\"/>\n      <path d=\"M 11.71875 12.40625 \nL 22.015625 12.40625 \nL 22.015625 0 \nL 11.71875 0 \nz\nM 11.71875 51.703125 \nL 22.015625 51.703125 \nL 22.015625 39.3125 \nL 11.71875 39.3125 \nz\n\" id=\"DejaVuSans-58\"/>\n      <path d=\"M -1.3125 -20.796875 \nL 13.375 54.6875 \nL 22.40625 54.6875 \nL 15.765625 20.65625 \nQ 15.578125 19.625 15.421875 18.359375 \nQ 15.28125 17.09375 15.28125 15.828125 \nQ 15.28125 11.28125 18.140625 8.828125 \nQ 21 6.390625 26.3125 6.390625 \nQ 33.546875 6.390625 37.984375 10.484375 \nQ 42.4375 14.59375 44 22.796875 \nL 50.203125 54.6875 \nL 59.1875 54.6875 \nL 51.03125 12.640625 \nQ 50.828125 11.71875 50.75 11.03125 \nQ 50.6875 10.359375 50.6875 9.8125 \nQ 50.6875 8.296875 51.296875 7.59375 \nQ 51.90625 6.890625 53.21875 6.890625 \nQ 53.71875 6.890625 54.5625 7.125 \nQ 55.421875 7.375 56.984375 8.015625 \nL 55.609375 0.78125 \nQ 53.46875 -0.296875 51.515625 -0.859375 \nQ 49.5625 -1.421875 47.703125 -1.421875 \nQ 44.484375 -1.421875 42.65625 0.625 \nQ 40.828125 2.6875 40.828125 6.296875 \nQ 38.09375 2.390625 34.296875 0.484375 \nQ 30.515625 -1.421875 25.390625 -1.421875 \nQ 20.84375 -1.421875 17.453125 0.671875 \nQ 14.0625 2.78125 12.984375 6.203125 \nL 7.71875 -20.796875 \nz\n\" id=\"DejaVuSans-Oblique-956\"/>\n      <path d=\"M 10.59375 45.40625 \nL 73.1875 45.40625 \nL 73.1875 37.203125 \nL 10.59375 37.203125 \nz\nM 10.59375 25.484375 \nL 73.1875 25.484375 \nL 73.1875 17.1875 \nL 10.59375 17.1875 \nz\n\" id=\"DejaVuSans-61\"/>\n      <path d=\"M 11.71875 12.40625 \nL 22.015625 12.40625 \nL 22.015625 4 \nL 14.015625 -11.625 \nL 7.71875 -11.625 \nL 11.71875 4 \nz\n\" id=\"DejaVuSans-44\"/>\n      <path d=\"M 34.671875 47.5625 \nQ 27.25 47.5625 22.21875 42.1875 \nQ 16.890625 36.578125 15.140625 27.296875 \nQ 13.1875 17.484375 16.3125 11.8125 \nQ 19.390625 6.203125 26.65625 6.203125 \nQ 33.84375 6.203125 39.109375 11.859375 \nQ 44.4375 17.53125 46.34375 27.296875 \nQ 48.046875 36.234375 45.015625 42.1875 \nQ 42.1875 47.5625 34.671875 47.5625 \nz\nM 36.078125 54.734375 \nL 65.921875 54.6875 \nL 64.15625 45.703125 \nL 54.109375 45.703125 \nQ 57.90625 38.09375 55.859375 27.296875 \nQ 53.21875 13.875 45.0625 6.25 \nQ 36.859375 -1.421875 25.140625 -1.421875 \nQ 13.375 -1.421875 8.203125 6.25 \nQ 3.03125 13.875 5.671875 27.296875 \nQ 8.25 40.765625 16.40625 48.390625 \nQ 23.1875 54.734375 36.078125 54.734375 \nz\n\" id=\"DejaVuSans-Oblique-963\"/>\n     </defs>\n     <use transform=\"translate(0 0.015625)\" xlink:href=\"#DejaVuSans-72\"/>\n     <use transform=\"translate(75.195312 0.015625)\" xlink:href=\"#DejaVuSans-105\"/>\n     <use transform=\"translate(102.978516 0.015625)\" xlink:href=\"#DejaVuSans-115\"/>\n     <use transform=\"translate(155.078125 0.015625)\" xlink:href=\"#DejaVuSans-116\"/>\n     <use transform=\"translate(194.287109 0.015625)\" xlink:href=\"#DejaVuSans-111\"/>\n     <use transform=\"translate(255.46875 0.015625)\" xlink:href=\"#DejaVuSans-103\"/>\n     <use transform=\"translate(318.945312 0.015625)\" xlink:href=\"#DejaVuSans-114\"/>\n     <use transform=\"translate(360.058594 0.015625)\" xlink:href=\"#DejaVuSans-97\"/>\n     <use transform=\"translate(421.337891 0.015625)\" xlink:href=\"#DejaVuSans-109\"/>\n     <use transform=\"translate(518.75 0.015625)\" xlink:href=\"#DejaVuSans-32\"/>\n     <use transform=\"translate(550.537109 0.015625)\" xlink:href=\"#DejaVuSans-58\"/>\n     <use transform=\"translate(584.228516 0.015625)\" xlink:href=\"#DejaVuSans-32\"/>\n     <use transform=\"translate(616.015625 0.015625)\" xlink:href=\"#DejaVuSans-Oblique-956\"/>\n     <use transform=\"translate(699.121094 0.015625)\" xlink:href=\"#DejaVuSans-61\"/>\n     <use transform=\"translate(802.392578 0.015625)\" xlink:href=\"#DejaVuSans-50\"/>\n     <use transform=\"translate(866.015625 0.015625)\" xlink:href=\"#DejaVuSans-50\"/>\n     <use transform=\"translate(929.638672 0.015625)\" xlink:href=\"#DejaVuSans-46\"/>\n     <use transform=\"translate(961.425781 0.015625)\" xlink:href=\"#DejaVuSans-51\"/>\n     <use transform=\"translate(1025.048828 0.015625)\" xlink:href=\"#DejaVuSans-56\"/>\n     <use transform=\"translate(1088.671875 0.015625)\" xlink:href=\"#DejaVuSans-44\"/>\n     <use transform=\"translate(1120.458984 0.015625)\" xlink:href=\"#DejaVuSans-32\"/>\n     <use transform=\"translate(1152.246094 0.015625)\" xlink:href=\"#DejaVuSans-Oblique-963\"/>\n     <use transform=\"translate(1235.107422 0.015625)\" xlink:href=\"#DejaVuSans-61\"/>\n     <use transform=\"translate(1338.378906 0.015625)\" xlink:href=\"#DejaVuSans-56\"/>\n     <use transform=\"translate(1402.001953 0.015625)\" xlink:href=\"#DejaVuSans-46\"/>\n     <use transform=\"translate(1433.789062 0.015625)\" xlink:href=\"#DejaVuSans-53\"/>\n     <use transform=\"translate(1497.412109 0.015625)\" xlink:href=\"#DejaVuSans-50\"/>\n    </g>\n   </g>\n  </g>\n </g>\n <defs>\n  <clipPath id=\"p752c4049ff\">\n   <rect height=\"434.88\" width=\"446.4\" x=\"50.14375\" y=\"22.32\"/>\n  </clipPath>\n </defs>\n</svg>\n",
            "text/plain": [
              "<Figure size 576x576 with 1 Axes>"
            ]
          },
          "metadata": {
            "tags": [],
            "needs_background": "light"
          }
        }
      ]
    }
  ]
}